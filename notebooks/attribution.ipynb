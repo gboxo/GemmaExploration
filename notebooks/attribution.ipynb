{
 "cells": [
  {
   "cell_type": "code",
   "execution_count": 1,
   "metadata": {},
   "outputs": [],
   "source": [
    "from sae_lens import HookedSAETransformer, SAE, SAEConfig\n",
    "from gemma_utils import get_gemma_2_config, gemma_2_sae_loader, get_all_string_min_l0_resid_gemma\n",
    "import numpy as np\n",
    "import torch\n",
    "import tqdm\n",
    "import einops\n",
    "import re\n",
    "from jaxtyping import Int, Float\n",
    "from typing import List, Optional, Any\n",
    "from torch import Tensor\n",
    "import json\n",
    "import os\n",
    "from torch.utils.data import Dataset, DataLoader\n",
    "import random\n",
    "import seaborn as sns\n",
    "import matplotlib.pyplot as plt\n",
    "from collections import defaultdict\n",
    "import random\n",
    "from transformer_lens.utils import get_act_name"
   ]
  },
  {
   "cell_type": "code",
   "execution_count": 2,
   "metadata": {},
   "outputs": [
    {
     "data": {
      "text/plain": [
       "<torch._C.Generator at 0x7e468c141210>"
      ]
     },
     "execution_count": 2,
     "metadata": {},
     "output_type": "execute_result"
    }
   ],
   "source": [
    "torch.cuda.empty_cache()\n",
    "np.random.seed(0)\n",
    "random.seed(0)\n",
    "torch.random.manual_seed(0)"
   ]
  },
  {
   "cell_type": "code",
   "execution_count": 3,
   "metadata": {},
   "outputs": [
    {
     "name": "stderr",
     "output_type": "stream",
     "text": [
      "WARNING:root:You tried to specify center_unembed=True for a model using logit softcap, but this can't be done! Softcapping is not invariant upon adding a constantSetting center_unembed=False instead.\n"
     ]
    },
    {
     "data": {
      "application/vnd.jupyter.widget-view+json": {
       "model_id": "75fb614ba09b4043b532ddfdb4c8eac4",
       "version_major": 2,
       "version_minor": 0
      },
      "text/plain": [
       "Loading checkpoint shards:   0%|          | 0/2 [00:00<?, ?it/s]"
      ]
     },
     "metadata": {},
     "output_type": "display_data"
    },
    {
     "name": "stderr",
     "output_type": "stream",
     "text": [
      "WARNING:root:You are not using LayerNorm, so the writing weights can't be centered! Skipping\n"
     ]
    },
    {
     "name": "stdout",
     "output_type": "stream",
     "text": [
      "Loaded pretrained model google/gemma-2-2b-it into HookedTransformer\n"
     ]
    }
   ],
   "source": [
    "model = HookedSAETransformer.from_pretrained(\"google/gemma-2-2b-it\", device = \"cpu\")\n",
    "#model.to(\"cuda:0\")"
   ]
  },
  {
   "cell_type": "code",
   "execution_count": 4,
   "metadata": {},
   "outputs": [],
   "source": [
    "from datasets import load_dataset\n",
    "\n",
    "ds = load_dataset(\"santhoshmlops/Skai_Gemma_Instruct_ChatTemplate\",split = \"train\")\n",
    "text = ds[:1000]['text']\n",
    "tokenized_ds = model.tokenizer(text, return_tensors = \"pt\", padding = True)\n",
    "pairs_length = tokenized_ds['attention_mask'].sum(dim = -1).numpy()\n",
    "indices = torch.where(torch.tensor(np.logical_and(pairs_length>50, pairs_length<200)))\n",
    "text_array = np.array(text)[indices]\n",
    "samp_ind = torch.randperm(len(text_array))[:300]\n",
    "final_text = text_array[samp_ind].tolist()"
   ]
  },
  {
   "cell_type": "code",
   "execution_count": 7,
   "metadata": {},
   "outputs": [
    {
     "name": "stdout",
     "output_type": "stream",
     "text": [
      "Moving model to device:  cuda:0\n"
     ]
    },
    {
     "data": {
      "application/vnd.jupyter.widget-view+json": {
       "model_id": "7eb8ed5bc2ac499ebe949af584a2ce4f",
       "version_major": 2,
       "version_minor": 0
      },
      "text/plain": [
       "  0%|          | 0/400 [00:00<?, ?it/s]"
      ]
     },
     "metadata": {},
     "output_type": "display_data"
    }
   ],
   "source": [
    "\n",
    "text = final_text[0]\n",
    "text = text.split(\"<statr_of_turn>model\")[0]+\"<start_of_turn>model\"\n",
    "tokens = model.to_tokens(text, prepend_bos = False)\n",
    "model.to(\"cuda:0\")\n",
    "with torch.no_grad():\n",
    "        out = model.generate(\n",
    "            tokens,\n",
    "            max_new_tokens = 400,\n",
    "            temperature = 0.7,\n",
    "            top_p = 0.9,\n",
    "            eos_token_id=107,\n",
    "            stop_at_eos=True,\n",
    "            )\n",
    "       "
   ]
  },
  {
   "cell_type": "code",
   "execution_count": 52,
   "metadata": {},
   "outputs": [],
   "source": [
    "string = \"<bos><start_of_turn>user Below is an instruction that describes a task. Write a response that appropriately completes the request.\\n\\n Sally has 2 chickens, 3 cows and 2 motorcycles. Doug has 6 monkeys, 12 pigs and 2 tractors. Amy has 1 car, 10 cows and 6 ducks. How many farm animals do Sally, Doug and Amy have in total? <end_of_turn>\\n<start_of_turn>model \\n Chickens, cows, ducks and pigs are commonly considered to be farm animals because they are commonly raised in farms and are grown for human consumption. Meanwhile, monkeys are not considered to be farm animals because they often grow up in the wild and are not often consumed by humans. Cars, motorcycles and tractors are not living things so they are not farm animals. Sally, Doug and Amy have 2 + 3 + 12 + 10 + 6 = 33 farm animals in total. <end_of_turn><start_of_turn>model \\n\\nHere's how to calculate the total number of farm animals:\\n\\n* **Sally:** 2 chickens + 3 cows = 5\\n* **Doug:** 6 monkeys + 12 pigs + 2 tractors = 20\\n* **Amy:** 1 car + 10 cows + 6 ducks = 17\\n\\n**Total:** 5 + 20 + 17 = **42**\\n\\nSally, Doug, and Amy have a total of 42 farm animals. \\n<end_of_turn>\"\n",
    "tokens = model.to_tokens(string,prepend_bos = False)\n"
   ]
  },
  {
   "cell_type": "code",
   "execution_count": 42,
   "metadata": {},
   "outputs": [
    {
     "data": {
      "text/plain": [
       "tensor([[     2,    106,   1645,  30641,    603,    671,  14239,    674,  19306,\n",
       "            476,   6911, 235265,  15615,    476,   3590,    674,  47258,  56382,\n",
       "            573,   3853, 235265,    109,  47239,    919, 235248, 235284,  53190,\n",
       "         235269, 235248, 235304,  35768,    578, 235248, 235284,  83699, 235265,\n",
       "          17487,    919, 235248, 235318,  63495, 235269, 235248, 235274, 235284,\n",
       "          41612,    578, 235248, 235284, 108160, 235265,  27161,    919, 235248,\n",
       "         235274,   1226, 235269, 235248, 235274, 235276,  35768,    578, 235248,\n",
       "         235318,  64322, 235265,   2250,   1767,   7091,   8398,    749,  47239,\n",
       "         235269,  17487,    578,  27161,    791,    575,   3051, 235336, 235248,\n",
       "            107,    108,    106,   2516, 235248,    108, 227128, 235269,  35768,\n",
       "         235269,  64322,    578,  41612,    708,  17203,   5604,    577,    614,\n",
       "           7091,   8398,   1861,    984,    708,  17203,   9244,    575,  26511,\n",
       "            578,    708,  13968,    604,   3515,  14072, 235265,  35682, 235269,\n",
       "          63495,    708,    780,   5604,    577,    614,   7091,   8398,   1861,\n",
       "            984,   3695,   2664,    908,    575,    573,   7571,    578,    708,\n",
       "            780,   3695,  33561,    731,  17611, 235265,  26487, 235269,  83699,\n",
       "            578, 108160,    708,    780,   5027,   2652,    712,    984,    708,\n",
       "            780,   7091,   8398, 235265,  47239, 235269,  17487,    578,  27161,\n",
       "            791, 235248, 235284,    963, 235248, 235304,    963, 235248, 235274,\n",
       "         235284,    963, 235248, 235274, 235276,    963, 235248, 235318,    589,\n",
       "         235248, 235304, 235304,   7091,   8398,    575,   3051, 235265, 235248,\n",
       "            107,    106,   2516, 235248,    109,   4858, 235303, 235256,   1368,\n",
       "            577,  13988,    573,   3051,   1758,    576,   7091,   8398, 235292,\n",
       "            109, 235287,   5231,  79762,  66058, 235248, 235284,  53190,    963,\n",
       "         235248, 235304,  35768,    589, 235248, 235308,    108, 235287,   5231,\n",
       "          30607,  66058, 235248, 235318,  63495,    963, 235248, 235274, 235284,\n",
       "          41612,    963, 235248, 235284, 108160,    589, 235248, 235284, 235276,\n",
       "            108, 235287,   5231,  29613,  66058, 235248, 235274,   1226,    963,\n",
       "         235248, 235274, 235276,  35768,    963, 235248, 235318,  64322,    589,\n",
       "         235248, 235274, 235324,    109,    688,   6457,  66058, 235248, 235308,\n",
       "            963, 235248, 235284, 235276,    963, 235248, 235274, 235324,    589,\n",
       "           5231, 235310, 235284,    688,    109,  79762, 235269,  17487, 235269,\n",
       "            578,  27161,    791,    476,   3051,    576, 235248, 235310, 235284,\n",
       "           7091,   8398, 235265, 235248,    108,    107]])"
      ]
     },
     "execution_count": 42,
     "metadata": {},
     "output_type": "execute_result"
    }
   ],
   "source": [
    "tokens"
   ]
  },
  {
   "cell_type": "code",
   "execution_count": 28,
   "metadata": {},
   "outputs": [],
   "source": [
    "\n",
    "from attribution_utils import calculate_feature_attribution \n",
    "from torch.nn.functional import log_softmax"
   ]
  },
  {
   "cell_type": "code",
   "execution_count": 43,
   "metadata": {},
   "outputs": [],
   "source": [
    "\n",
    "def metric_fn(logits: torch.Tensor) -> torch.Tensor:\n",
    "    log_probs = log_softmax(logits, dim = -1)\n",
    "    #x = - torch.gather(log_probs[:,:-1,:],-1, tokens[:,1:].unsqueeze(-1))\n",
    "    x = log_probs[0,-2,107]\n",
    "    return x"
   ]
  },
  {
   "cell_type": "code",
   "execution_count": 14,
   "metadata": {},
   "outputs": [
    {
     "name": "stderr",
     "output_type": "stream",
     "text": [
      "/root/GemmaExploration/gemma_utils.py:158: FutureWarning: Series.__getitem__ treating keys as positions is deprecated. In a future version, integer keys will always be treated as labels (consistent with DataFrame behavior). To access a value by position, use `ser.iloc[pos]`\n",
      "  resid_dict = df[df['release'] == \"gemma-scope-2b-pt-res\"]['saes_map'][0]\n",
      "100%|██████████| 2/2 [00:01<00:00,  1.19it/s]\n"
     ]
    }
   ],
   "source": [
    "\n",
    "full_strings= get_all_string_min_l0_resid_gemma()\n",
    "saes_dict = {}\n",
    "with torch.no_grad():\n",
    "    for layer in tqdm.tqdm([22,23]):\n",
    "\n",
    "        repo_id = \"google/gemma-scope-2b-pt-res\"\n",
    "        folder_name = full_strings[layer]\n",
    "\n",
    "        config = get_gemma_2_config(repo_id, folder_name)\n",
    "        cfg, state_dict, log_spar = gemma_2_sae_loader(repo_id, folder_name)\n",
    "        sae_cfg = SAEConfig.from_dict(cfg)\n",
    "        sae = SAE(sae_cfg)\n",
    "        sae.load_state_dict(state_dict)\n",
    "        #sae.to(\"cuda:0\")\n",
    "        saes_dict[sae.cfg.hook_name] = sae"
   ]
  },
  {
   "cell_type": "code",
   "execution_count": 44,
   "metadata": {},
   "outputs": [],
   "source": [
    "\n",
    "feature_attribution_df = calculate_feature_attribution(\n",
    "    model = model,\n",
    "    input = tokens,\n",
    "    metric_fn = metric_fn,\n",
    "    include_saes=saes_dict,\n",
    "    include_error_term=True,\n",
    "    return_logits=True,\n",
    ")"
   ]
  },
  {
   "cell_type": "code",
   "execution_count": 56,
   "metadata": {},
   "outputs": [
    {
     "data": {
      "application/vnd.plotly.v1+json": {
       "config": {
        "plotlyServerURL": "https://plot.ly"
       },
       "data": [
        {
         "alignmentgroup": "True",
         "hovertemplate": "x=%{x}<br>y=%{y}<extra></extra>",
         "legendgroup": "",
         "marker": {
          "color": "#636efa",
          "pattern": {
           "shape": ""
          }
         },
         "name": "",
         "offsetgroup": "",
         "orientation": "v",
         "showlegend": false,
         "textposition": "auto",
         "type": "bar",
         "x": [
          "0/<bos>",
          "1/<start_of_turn>",
          "2/user",
          "3/ Below",
          "4/ is",
          "5/ an",
          "6/ instruction",
          "7/ that",
          "8/ describes",
          "9/ a",
          "10/ task",
          "11/.",
          "12/ Write",
          "13/ a",
          "14/ response",
          "15/ that",
          "16/ appropriately",
          "17/ completes",
          "18/ the",
          "19/ request",
          "20/.",
          "21/\n\n",
          "22/ Sally",
          "23/ has",
          "24/ ",
          "25/2",
          "26/ chickens",
          "27/,",
          "28/ ",
          "29/3",
          "30/ cows",
          "31/ and",
          "32/ ",
          "33/2",
          "34/ motorcycles",
          "35/.",
          "36/ Doug",
          "37/ has",
          "38/ ",
          "39/6",
          "40/ monkeys",
          "41/,",
          "42/ ",
          "43/1",
          "44/2",
          "45/ pigs",
          "46/ and",
          "47/ ",
          "48/2",
          "49/ tractors",
          "50/.",
          "51/ Amy",
          "52/ has",
          "53/ ",
          "54/1",
          "55/ car",
          "56/,",
          "57/ ",
          "58/1",
          "59/0",
          "60/ cows",
          "61/ and",
          "62/ ",
          "63/6",
          "64/ ducks",
          "65/.",
          "66/ How",
          "67/ many",
          "68/ farm",
          "69/ animals",
          "70/ do",
          "71/ Sally",
          "72/,",
          "73/ Doug",
          "74/ and",
          "75/ Amy",
          "76/ have",
          "77/ in",
          "78/ total",
          "79/?",
          "80/ ",
          "81/<end_of_turn>",
          "82/\n",
          "83/<start_of_turn>",
          "84/model",
          "85/ ",
          "86/\n",
          "87/ Chickens",
          "88/,",
          "89/ cows",
          "90/,",
          "91/ ducks",
          "92/ and",
          "93/ pigs",
          "94/ are",
          "95/ commonly",
          "96/ considered",
          "97/ to",
          "98/ be",
          "99/ farm",
          "100/ animals",
          "101/ because",
          "102/ they",
          "103/ are",
          "104/ commonly",
          "105/ raised",
          "106/ in",
          "107/ farms",
          "108/ and",
          "109/ are",
          "110/ grown",
          "111/ for",
          "112/ human",
          "113/ consumption",
          "114/.",
          "115/ Meanwhile",
          "116/,",
          "117/ monkeys",
          "118/ are",
          "119/ not",
          "120/ considered",
          "121/ to",
          "122/ be",
          "123/ farm",
          "124/ animals",
          "125/ because",
          "126/ they",
          "127/ often",
          "128/ grow",
          "129/ up",
          "130/ in",
          "131/ the",
          "132/ wild",
          "133/ and",
          "134/ are",
          "135/ not",
          "136/ often",
          "137/ consumed",
          "138/ by",
          "139/ humans",
          "140/.",
          "141/ Cars",
          "142/,",
          "143/ motorcycles",
          "144/ and",
          "145/ tractors",
          "146/ are",
          "147/ not",
          "148/ living",
          "149/ things",
          "150/ so",
          "151/ they",
          "152/ are",
          "153/ not",
          "154/ farm",
          "155/ animals",
          "156/.",
          "157/ Sally",
          "158/,",
          "159/ Doug",
          "160/ and",
          "161/ Amy",
          "162/ have",
          "163/ ",
          "164/2",
          "165/ +",
          "166/ ",
          "167/3",
          "168/ +",
          "169/ ",
          "170/1",
          "171/2",
          "172/ +",
          "173/ ",
          "174/1",
          "175/0",
          "176/ +",
          "177/ ",
          "178/6",
          "179/ =",
          "180/ ",
          "181/3",
          "182/3",
          "183/ farm",
          "184/ animals",
          "185/ in",
          "186/ total",
          "187/.",
          "188/ ",
          "189/<end_of_turn>",
          "190/<start_of_turn>",
          "191/model",
          "192/ ",
          "193/\n\n",
          "194/Here",
          "195/'",
          "196/s",
          "197/ how",
          "198/ to",
          "199/ calculate",
          "200/ the",
          "201/ total",
          "202/ number",
          "203/ of",
          "204/ farm",
          "205/ animals",
          "206/:",
          "207/\n\n",
          "208/*",
          "209/ **",
          "210/Sally",
          "211/:**",
          "212/ ",
          "213/2",
          "214/ chickens",
          "215/ +",
          "216/ ",
          "217/3",
          "218/ cows",
          "219/ =",
          "220/ ",
          "221/5",
          "222/\n",
          "223/*",
          "224/ **",
          "225/Doug",
          "226/:**",
          "227/ ",
          "228/6",
          "229/ monkeys",
          "230/ +",
          "231/ ",
          "232/1",
          "233/2",
          "234/ pigs",
          "235/ +",
          "236/ ",
          "237/2",
          "238/ tractors",
          "239/ =",
          "240/ ",
          "241/2",
          "242/0",
          "243/\n",
          "244/*",
          "245/ **",
          "246/Amy",
          "247/:**",
          "248/ ",
          "249/1",
          "250/ car",
          "251/ +",
          "252/ ",
          "253/1",
          "254/0",
          "255/ cows",
          "256/ +",
          "257/ ",
          "258/6",
          "259/ ducks",
          "260/ =",
          "261/ ",
          "262/1",
          "263/7",
          "264/\n\n",
          "265/**",
          "266/Total",
          "267/:**",
          "268/ ",
          "269/5",
          "270/ +",
          "271/ ",
          "272/2",
          "273/0",
          "274/ +",
          "275/ ",
          "276/1",
          "277/7",
          "278/ =",
          "279/ **",
          "280/4",
          "281/2",
          "282/**",
          "283/\n\n",
          "284/Sally",
          "285/,",
          "286/ Doug",
          "287/,",
          "288/ and",
          "289/ Amy",
          "290/ have",
          "291/ a",
          "292/ total",
          "293/ of",
          "294/ ",
          "295/4",
          "296/2",
          "297/ farm",
          "298/ animals",
          "299/.",
          "300/ ",
          "301/\n",
          "302/<end_of_turn>"
         ],
         "xaxis": "x",
         "y": [
          -0.006423565,
          0.00000546708,
          0.000002416832,
          8.624854e-7,
          -5.1391703e-7,
          -4.4401855e-7,
          1.487327e-7,
          1.9609843e-7,
          -0.0000011063859,
          3.9029675e-7,
          0.0000051365664,
          -0.00000384461,
          1.4976054e-7,
          -6.2544785e-8,
          0.0000021157446,
          -1.8738064e-7,
          -1.4232667e-7,
          5.4881406e-7,
          -4.6712896e-7,
          0.0000029293283,
          -0.00000493712,
          0.00001162475,
          0.000010072529,
          3.911501e-7,
          -0.0000038131645,
          -0.0000023722744,
          -0.00004664883,
          0.0000013043641,
          -4.414555e-7,
          -0.0000033285799,
          -0.0000039368924,
          -0.0000012405774,
          -3.152727e-7,
          -6.977788e-7,
          -0.000006778251,
          -0.0000070365118,
          0.000020697958,
          8.436336e-7,
          -5.464019e-7,
          -0.0000010167154,
          4.4689136e-7,
          2.5155418e-7,
          -1.6512456e-7,
          -6.519474e-7,
          -4.3103506e-7,
          0.0000022169052,
          8.0903874e-7,
          2.6302126e-7,
          -3.154702e-7,
          0.000004212722,
          -0.000004542727,
          -3.5553649e-7,
          2.9992457e-8,
          2.0312314e-8,
          -2.3171495e-7,
          -0.000007197924,
          -7.20785e-8,
          7.526026e-9,
          -2.3081468e-7,
          1.00535296e-7,
          5.181076e-7,
          3.5371937e-7,
          4.0476306e-7,
          -9.602215e-8,
          0.000005338068,
          0.0000026594125,
          -0.000010105811,
          -0.0000013902919,
          -0.000012779174,
          0.0000027624617,
          0.0000020414186,
          0.0000086091895,
          -4.9556195e-7,
          0.000004189316,
          1.4909784e-7,
          -0.000006298294,
          -1.16413275e-7,
          -9.53251e-7,
          -0.00000152295,
          -0.000047006193,
          -0.000012802285,
          -0.0000227961,
          -0.00001064941,
          0.00022879896,
          0.000043215394,
          0.000013779001,
          0.000013857043,
          -0.00006359025,
          -0.000008960111,
          -0.0000026816158,
          -0.0000028380255,
          -1.71706e-7,
          -0.000003374172,
          -0.0000017387617,
          -0.0000031924037,
          -0.0000024209328,
          -8.3615424e-7,
          2.5287846e-8,
          -5.311678e-7,
          -0.0000066254925,
          -0.000008476271,
          -0.0000023219661,
          -0.0000012806455,
          -6.090613e-7,
          -3.9574186e-7,
          -7.415661e-7,
          -3.5558386e-7,
          -9.90715e-7,
          -0.0000013034186,
          -6.366374e-7,
          -5.666769e-7,
          -3.5947158e-7,
          -9.9223286e-8,
          8.7644116e-7,
          -0.000037714788,
          6.1988146e-7,
          -6.040143e-7,
          -0.0000058084006,
          -3.2081687e-8,
          -4.777931e-7,
          -8.6063e-8,
          1.530091e-7,
          -4.6807553e-8,
          -0.0000012253391,
          -0.0000013121573,
          -6.41388e-7,
          -2.285819e-7,
          -1.8022124e-7,
          -8.793757e-8,
          3.1186783e-8,
          1.159233e-7,
          8.567876e-8,
          6.350433e-7,
          -1.2192172e-7,
          -1.1147122e-7,
          2.5947621e-8,
          9.389261e-8,
          2.3548078e-7,
          -1.0277044e-7,
          -0.0000011880924,
          -0.000038921822,
          -0.000014875115,
          -1.1188217e-7,
          -0.000003512222,
          -1.4025954e-7,
          0.0000029698608,
          -5.5348056e-7,
          -8.203418e-8,
          1.8058767e-8,
          9.671488e-7,
          -6.622521e-9,
          -7.223375e-8,
          1.4986792e-7,
          1.4215803e-7,
          -0.0000015576784,
          -7.7366856e-8,
          -0.00005187983,
          -0.0000018634407,
          4.3672924e-7,
          0.0000020968955,
          4.7680882e-7,
          -0.0000020495495,
          -0.0000011216315,
          -0.000016212385,
          -0.000009313213,
          -0.000014398651,
          -5.600491e-7,
          1.4762239e-7,
          -0.0000018297823,
          3.9933389e-7,
          -0.000003681619,
          -0.0000029167318,
          -0.0000045027696,
          2.1822541e-7,
          -4.9658126e-7,
          -5.8971136e-7,
          -0.0000020436119,
          7.41706e-7,
          -0.0000018138471,
          -0.0000042697675,
          -6.7031635e-8,
          -0.0000011792639,
          -0.00000604834,
          -0.0000037789632,
          -5.0726854e-8,
          3.1263147e-7,
          -0.000005943266,
          -0.000024295645,
          0.000013607701,
          -0.000024534631,
          0.000027790898,
          0.000023382738,
          4.1211024e-7,
          -0.000028550468,
          0.000021614216,
          -0.00006519581,
          0.0000052197947,
          7.383132e-7,
          -0.0000018412421,
          6.33499e-7,
          -7.917902e-7,
          -5.84373e-7,
          -0.000001535236,
          -0.000001347578,
          -0.000009410703,
          -0.000009959184,
          0.000002055252,
          -0.00016104967,
          0.000021625878,
          0.000043007916,
          0.0000022744357,
          0.0000014848773,
          0.0000015319316,
          -0.0000012705418,
          -0.0000017616256,
          0.000004748909,
          5.684087e-7,
          2.9742313e-7,
          -0.0000010803692,
          6.2753134e-7,
          7.5751615e-7,
          -0.0000032474832,
          -0.00008824795,
          -0.000027371338,
          -0.0000022773215,
          -0.0000011774852,
          -9.045706e-7,
          2.7473502e-7,
          8.436301e-7,
          -0.000001606885,
          -0.0000012953274,
          9.916586e-8,
          1.07262046e-7,
          1.9520584e-8,
          -7.570082e-7,
          -0.0000012924481,
          3.4650805e-7,
          -5.175857e-7,
          0.0000062529193,
          -0.0000029327064,
          0.0000018667429,
          -0.0000061455125,
          -0.000019266887,
          -0.00010672574,
          -0.000015557669,
          0.000004757713,
          -0.0000041031976,
          -0.0000027884337,
          2.7885477e-7,
          -9.714987e-7,
          -0.000004277125,
          -0.0000043294253,
          2.4681265e-7,
          1.9701375e-7,
          3.4295667e-7,
          1.142149e-7,
          -1.8436197e-7,
          4.227038e-7,
          2.4172584e-7,
          0.000002887388,
          -0.0000012640708,
          0.0000013167432,
          -2.8789196e-7,
          -0.000019519044,
          -0.00004952738,
          0.00005815811,
          -0.00000277428,
          0.0000047698204,
          -8.8001514e-7,
          -0.0000015976607,
          0.0000025262907,
          0.0000014259734,
          -6.277197e-7,
          7.251428e-8,
          -3.0487027e-7,
          4.915652e-7,
          5.611505e-7,
          -0.000008388019,
          -0.000005978872,
          0.000028855444,
          -0.000005008954,
          -0.000004679947,
          -0.000049315837,
          -0.00017133106,
          -0.0000012885798,
          -0.000001705632,
          0.000001288856,
          2.6940495e-7,
          0.0000027161939,
          -0.0000129144455,
          -0.000011026366,
          0.0000018671382,
          -4.2172655e-7,
          -0.0000067004335,
          -0.000007907219,
          0.0000017242533,
          -0.000015894775,
          -0.0000047464387,
          -0.000011188162,
          0.00011310356,
          0.0005463827,
          -0.002733117,
          0
         ],
         "yaxis": "y"
        }
       ],
       "layout": {
        "barmode": "relative",
        "legend": {
         "tracegroupgap": 0
        },
        "margin": {
         "t": 60
        },
        "template": {
         "data": {
          "bar": [
           {
            "error_x": {
             "color": "#2a3f5f"
            },
            "error_y": {
             "color": "#2a3f5f"
            },
            "marker": {
             "line": {
              "color": "#E5ECF6",
              "width": 0.5
             },
             "pattern": {
              "fillmode": "overlay",
              "size": 10,
              "solidity": 0.2
             }
            },
            "type": "bar"
           }
          ],
          "barpolar": [
           {
            "marker": {
             "line": {
              "color": "#E5ECF6",
              "width": 0.5
             },
             "pattern": {
              "fillmode": "overlay",
              "size": 10,
              "solidity": 0.2
             }
            },
            "type": "barpolar"
           }
          ],
          "carpet": [
           {
            "aaxis": {
             "endlinecolor": "#2a3f5f",
             "gridcolor": "white",
             "linecolor": "white",
             "minorgridcolor": "white",
             "startlinecolor": "#2a3f5f"
            },
            "baxis": {
             "endlinecolor": "#2a3f5f",
             "gridcolor": "white",
             "linecolor": "white",
             "minorgridcolor": "white",
             "startlinecolor": "#2a3f5f"
            },
            "type": "carpet"
           }
          ],
          "choropleth": [
           {
            "colorbar": {
             "outlinewidth": 0,
             "ticks": ""
            },
            "type": "choropleth"
           }
          ],
          "contour": [
           {
            "colorbar": {
             "outlinewidth": 0,
             "ticks": ""
            },
            "colorscale": [
             [
              0,
              "#0d0887"
             ],
             [
              0.1111111111111111,
              "#46039f"
             ],
             [
              0.2222222222222222,
              "#7201a8"
             ],
             [
              0.3333333333333333,
              "#9c179e"
             ],
             [
              0.4444444444444444,
              "#bd3786"
             ],
             [
              0.5555555555555556,
              "#d8576b"
             ],
             [
              0.6666666666666666,
              "#ed7953"
             ],
             [
              0.7777777777777778,
              "#fb9f3a"
             ],
             [
              0.8888888888888888,
              "#fdca26"
             ],
             [
              1,
              "#f0f921"
             ]
            ],
            "type": "contour"
           }
          ],
          "contourcarpet": [
           {
            "colorbar": {
             "outlinewidth": 0,
             "ticks": ""
            },
            "type": "contourcarpet"
           }
          ],
          "heatmap": [
           {
            "colorbar": {
             "outlinewidth": 0,
             "ticks": ""
            },
            "colorscale": [
             [
              0,
              "#0d0887"
             ],
             [
              0.1111111111111111,
              "#46039f"
             ],
             [
              0.2222222222222222,
              "#7201a8"
             ],
             [
              0.3333333333333333,
              "#9c179e"
             ],
             [
              0.4444444444444444,
              "#bd3786"
             ],
             [
              0.5555555555555556,
              "#d8576b"
             ],
             [
              0.6666666666666666,
              "#ed7953"
             ],
             [
              0.7777777777777778,
              "#fb9f3a"
             ],
             [
              0.8888888888888888,
              "#fdca26"
             ],
             [
              1,
              "#f0f921"
             ]
            ],
            "type": "heatmap"
           }
          ],
          "heatmapgl": [
           {
            "colorbar": {
             "outlinewidth": 0,
             "ticks": ""
            },
            "colorscale": [
             [
              0,
              "#0d0887"
             ],
             [
              0.1111111111111111,
              "#46039f"
             ],
             [
              0.2222222222222222,
              "#7201a8"
             ],
             [
              0.3333333333333333,
              "#9c179e"
             ],
             [
              0.4444444444444444,
              "#bd3786"
             ],
             [
              0.5555555555555556,
              "#d8576b"
             ],
             [
              0.6666666666666666,
              "#ed7953"
             ],
             [
              0.7777777777777778,
              "#fb9f3a"
             ],
             [
              0.8888888888888888,
              "#fdca26"
             ],
             [
              1,
              "#f0f921"
             ]
            ],
            "type": "heatmapgl"
           }
          ],
          "histogram": [
           {
            "marker": {
             "pattern": {
              "fillmode": "overlay",
              "size": 10,
              "solidity": 0.2
             }
            },
            "type": "histogram"
           }
          ],
          "histogram2d": [
           {
            "colorbar": {
             "outlinewidth": 0,
             "ticks": ""
            },
            "colorscale": [
             [
              0,
              "#0d0887"
             ],
             [
              0.1111111111111111,
              "#46039f"
             ],
             [
              0.2222222222222222,
              "#7201a8"
             ],
             [
              0.3333333333333333,
              "#9c179e"
             ],
             [
              0.4444444444444444,
              "#bd3786"
             ],
             [
              0.5555555555555556,
              "#d8576b"
             ],
             [
              0.6666666666666666,
              "#ed7953"
             ],
             [
              0.7777777777777778,
              "#fb9f3a"
             ],
             [
              0.8888888888888888,
              "#fdca26"
             ],
             [
              1,
              "#f0f921"
             ]
            ],
            "type": "histogram2d"
           }
          ],
          "histogram2dcontour": [
           {
            "colorbar": {
             "outlinewidth": 0,
             "ticks": ""
            },
            "colorscale": [
             [
              0,
              "#0d0887"
             ],
             [
              0.1111111111111111,
              "#46039f"
             ],
             [
              0.2222222222222222,
              "#7201a8"
             ],
             [
              0.3333333333333333,
              "#9c179e"
             ],
             [
              0.4444444444444444,
              "#bd3786"
             ],
             [
              0.5555555555555556,
              "#d8576b"
             ],
             [
              0.6666666666666666,
              "#ed7953"
             ],
             [
              0.7777777777777778,
              "#fb9f3a"
             ],
             [
              0.8888888888888888,
              "#fdca26"
             ],
             [
              1,
              "#f0f921"
             ]
            ],
            "type": "histogram2dcontour"
           }
          ],
          "mesh3d": [
           {
            "colorbar": {
             "outlinewidth": 0,
             "ticks": ""
            },
            "type": "mesh3d"
           }
          ],
          "parcoords": [
           {
            "line": {
             "colorbar": {
              "outlinewidth": 0,
              "ticks": ""
             }
            },
            "type": "parcoords"
           }
          ],
          "pie": [
           {
            "automargin": true,
            "type": "pie"
           }
          ],
          "scatter": [
           {
            "fillpattern": {
             "fillmode": "overlay",
             "size": 10,
             "solidity": 0.2
            },
            "type": "scatter"
           }
          ],
          "scatter3d": [
           {
            "line": {
             "colorbar": {
              "outlinewidth": 0,
              "ticks": ""
             }
            },
            "marker": {
             "colorbar": {
              "outlinewidth": 0,
              "ticks": ""
             }
            },
            "type": "scatter3d"
           }
          ],
          "scattercarpet": [
           {
            "marker": {
             "colorbar": {
              "outlinewidth": 0,
              "ticks": ""
             }
            },
            "type": "scattercarpet"
           }
          ],
          "scattergeo": [
           {
            "marker": {
             "colorbar": {
              "outlinewidth": 0,
              "ticks": ""
             }
            },
            "type": "scattergeo"
           }
          ],
          "scattergl": [
           {
            "marker": {
             "colorbar": {
              "outlinewidth": 0,
              "ticks": ""
             }
            },
            "type": "scattergl"
           }
          ],
          "scattermapbox": [
           {
            "marker": {
             "colorbar": {
              "outlinewidth": 0,
              "ticks": ""
             }
            },
            "type": "scattermapbox"
           }
          ],
          "scatterpolar": [
           {
            "marker": {
             "colorbar": {
              "outlinewidth": 0,
              "ticks": ""
             }
            },
            "type": "scatterpolar"
           }
          ],
          "scatterpolargl": [
           {
            "marker": {
             "colorbar": {
              "outlinewidth": 0,
              "ticks": ""
             }
            },
            "type": "scatterpolargl"
           }
          ],
          "scatterternary": [
           {
            "marker": {
             "colorbar": {
              "outlinewidth": 0,
              "ticks": ""
             }
            },
            "type": "scatterternary"
           }
          ],
          "surface": [
           {
            "colorbar": {
             "outlinewidth": 0,
             "ticks": ""
            },
            "colorscale": [
             [
              0,
              "#0d0887"
             ],
             [
              0.1111111111111111,
              "#46039f"
             ],
             [
              0.2222222222222222,
              "#7201a8"
             ],
             [
              0.3333333333333333,
              "#9c179e"
             ],
             [
              0.4444444444444444,
              "#bd3786"
             ],
             [
              0.5555555555555556,
              "#d8576b"
             ],
             [
              0.6666666666666666,
              "#ed7953"
             ],
             [
              0.7777777777777778,
              "#fb9f3a"
             ],
             [
              0.8888888888888888,
              "#fdca26"
             ],
             [
              1,
              "#f0f921"
             ]
            ],
            "type": "surface"
           }
          ],
          "table": [
           {
            "cells": {
             "fill": {
              "color": "#EBF0F8"
             },
             "line": {
              "color": "white"
             }
            },
            "header": {
             "fill": {
              "color": "#C8D4E3"
             },
             "line": {
              "color": "white"
             }
            },
            "type": "table"
           }
          ]
         },
         "layout": {
          "annotationdefaults": {
           "arrowcolor": "#2a3f5f",
           "arrowhead": 0,
           "arrowwidth": 1
          },
          "autotypenumbers": "strict",
          "coloraxis": {
           "colorbar": {
            "outlinewidth": 0,
            "ticks": ""
           }
          },
          "colorscale": {
           "diverging": [
            [
             0,
             "#8e0152"
            ],
            [
             0.1,
             "#c51b7d"
            ],
            [
             0.2,
             "#de77ae"
            ],
            [
             0.3,
             "#f1b6da"
            ],
            [
             0.4,
             "#fde0ef"
            ],
            [
             0.5,
             "#f7f7f7"
            ],
            [
             0.6,
             "#e6f5d0"
            ],
            [
             0.7,
             "#b8e186"
            ],
            [
             0.8,
             "#7fbc41"
            ],
            [
             0.9,
             "#4d9221"
            ],
            [
             1,
             "#276419"
            ]
           ],
           "sequential": [
            [
             0,
             "#0d0887"
            ],
            [
             0.1111111111111111,
             "#46039f"
            ],
            [
             0.2222222222222222,
             "#7201a8"
            ],
            [
             0.3333333333333333,
             "#9c179e"
            ],
            [
             0.4444444444444444,
             "#bd3786"
            ],
            [
             0.5555555555555556,
             "#d8576b"
            ],
            [
             0.6666666666666666,
             "#ed7953"
            ],
            [
             0.7777777777777778,
             "#fb9f3a"
            ],
            [
             0.8888888888888888,
             "#fdca26"
            ],
            [
             1,
             "#f0f921"
            ]
           ],
           "sequentialminus": [
            [
             0,
             "#0d0887"
            ],
            [
             0.1111111111111111,
             "#46039f"
            ],
            [
             0.2222222222222222,
             "#7201a8"
            ],
            [
             0.3333333333333333,
             "#9c179e"
            ],
            [
             0.4444444444444444,
             "#bd3786"
            ],
            [
             0.5555555555555556,
             "#d8576b"
            ],
            [
             0.6666666666666666,
             "#ed7953"
            ],
            [
             0.7777777777777778,
             "#fb9f3a"
            ],
            [
             0.8888888888888888,
             "#fdca26"
            ],
            [
             1,
             "#f0f921"
            ]
           ]
          },
          "colorway": [
           "#636efa",
           "#EF553B",
           "#00cc96",
           "#ab63fa",
           "#FFA15A",
           "#19d3f3",
           "#FF6692",
           "#B6E880",
           "#FF97FF",
           "#FECB52"
          ],
          "font": {
           "color": "#2a3f5f"
          },
          "geo": {
           "bgcolor": "white",
           "lakecolor": "white",
           "landcolor": "#E5ECF6",
           "showlakes": true,
           "showland": true,
           "subunitcolor": "white"
          },
          "hoverlabel": {
           "align": "left"
          },
          "hovermode": "closest",
          "mapbox": {
           "style": "light"
          },
          "paper_bgcolor": "white",
          "plot_bgcolor": "#E5ECF6",
          "polar": {
           "angularaxis": {
            "gridcolor": "white",
            "linecolor": "white",
            "ticks": ""
           },
           "bgcolor": "#E5ECF6",
           "radialaxis": {
            "gridcolor": "white",
            "linecolor": "white",
            "ticks": ""
           }
          },
          "scene": {
           "xaxis": {
            "backgroundcolor": "#E5ECF6",
            "gridcolor": "white",
            "gridwidth": 2,
            "linecolor": "white",
            "showbackground": true,
            "ticks": "",
            "zerolinecolor": "white"
           },
           "yaxis": {
            "backgroundcolor": "#E5ECF6",
            "gridcolor": "white",
            "gridwidth": 2,
            "linecolor": "white",
            "showbackground": true,
            "ticks": "",
            "zerolinecolor": "white"
           },
           "zaxis": {
            "backgroundcolor": "#E5ECF6",
            "gridcolor": "white",
            "gridwidth": 2,
            "linecolor": "white",
            "showbackground": true,
            "ticks": "",
            "zerolinecolor": "white"
           }
          },
          "shapedefaults": {
           "line": {
            "color": "#2a3f5f"
           }
          },
          "ternary": {
           "aaxis": {
            "gridcolor": "white",
            "linecolor": "white",
            "ticks": ""
           },
           "baxis": {
            "gridcolor": "white",
            "linecolor": "white",
            "ticks": ""
           },
           "bgcolor": "#E5ECF6",
           "caxis": {
            "gridcolor": "white",
            "linecolor": "white",
            "ticks": ""
           }
          },
          "title": {
           "x": 0.05
          },
          "xaxis": {
           "automargin": true,
           "gridcolor": "white",
           "linecolor": "white",
           "ticks": "",
           "title": {
            "standoff": 15
           },
           "zerolinecolor": "white",
           "zerolinewidth": 2
          },
          "yaxis": {
           "automargin": true,
           "gridcolor": "white",
           "linecolor": "white",
           "ticks": "",
           "title": {
            "standoff": 15
           },
           "zerolinecolor": "white",
           "zerolinewidth": 2
          }
         }
        },
        "xaxis": {
         "anchor": "y",
         "domain": [
          0,
          1
         ],
         "title": {
          "text": "x"
         }
        },
        "yaxis": {
         "anchor": "x",
         "domain": [
          0,
          1
         ],
         "title": {
          "text": "y"
         }
        }
       }
      },
      "text/html": [
       "<div>                            <div id=\"eae62e7d-e79a-4b22-9e38-454fa73eb33c\" class=\"plotly-graph-div\" style=\"height:525px; width:100%;\"></div>            <script type=\"text/javascript\">                require([\"plotly\"], function(Plotly) {                    window.PLOTLYENV=window.PLOTLYENV || {};                                    if (document.getElementById(\"eae62e7d-e79a-4b22-9e38-454fa73eb33c\")) {                    Plotly.newPlot(                        \"eae62e7d-e79a-4b22-9e38-454fa73eb33c\",                        [{\"alignmentgroup\":\"True\",\"hovertemplate\":\"x=%{x}\\u003cbr\\u003ey=%{y}\\u003cextra\\u003e\\u003c\\u002fextra\\u003e\",\"legendgroup\":\"\",\"marker\":{\"color\":\"#636efa\",\"pattern\":{\"shape\":\"\"}},\"name\":\"\",\"offsetgroup\":\"\",\"orientation\":\"v\",\"showlegend\":false,\"textposition\":\"auto\",\"x\":[\"0\\u002f\\u003cbos\\u003e\",\"1\\u002f\\u003cstart_of_turn\\u003e\",\"2\\u002fuser\",\"3\\u002f Below\",\"4\\u002f is\",\"5\\u002f an\",\"6\\u002f instruction\",\"7\\u002f that\",\"8\\u002f describes\",\"9\\u002f a\",\"10\\u002f task\",\"11\\u002f.\",\"12\\u002f Write\",\"13\\u002f a\",\"14\\u002f response\",\"15\\u002f that\",\"16\\u002f appropriately\",\"17\\u002f completes\",\"18\\u002f the\",\"19\\u002f request\",\"20\\u002f.\",\"21\\u002f\\n\\n\",\"22\\u002f Sally\",\"23\\u002f has\",\"24\\u002f \",\"25\\u002f2\",\"26\\u002f chickens\",\"27\\u002f,\",\"28\\u002f \",\"29\\u002f3\",\"30\\u002f cows\",\"31\\u002f and\",\"32\\u002f \",\"33\\u002f2\",\"34\\u002f motorcycles\",\"35\\u002f.\",\"36\\u002f Doug\",\"37\\u002f has\",\"38\\u002f \",\"39\\u002f6\",\"40\\u002f monkeys\",\"41\\u002f,\",\"42\\u002f \",\"43\\u002f1\",\"44\\u002f2\",\"45\\u002f pigs\",\"46\\u002f and\",\"47\\u002f \",\"48\\u002f2\",\"49\\u002f tractors\",\"50\\u002f.\",\"51\\u002f Amy\",\"52\\u002f has\",\"53\\u002f \",\"54\\u002f1\",\"55\\u002f car\",\"56\\u002f,\",\"57\\u002f \",\"58\\u002f1\",\"59\\u002f0\",\"60\\u002f cows\",\"61\\u002f and\",\"62\\u002f \",\"63\\u002f6\",\"64\\u002f ducks\",\"65\\u002f.\",\"66\\u002f How\",\"67\\u002f many\",\"68\\u002f farm\",\"69\\u002f animals\",\"70\\u002f do\",\"71\\u002f Sally\",\"72\\u002f,\",\"73\\u002f Doug\",\"74\\u002f and\",\"75\\u002f Amy\",\"76\\u002f have\",\"77\\u002f in\",\"78\\u002f total\",\"79\\u002f?\",\"80\\u002f \",\"81\\u002f\\u003cend_of_turn\\u003e\",\"82\\u002f\\n\",\"83\\u002f\\u003cstart_of_turn\\u003e\",\"84\\u002fmodel\",\"85\\u002f \",\"86\\u002f\\n\",\"87\\u002f Chickens\",\"88\\u002f,\",\"89\\u002f cows\",\"90\\u002f,\",\"91\\u002f ducks\",\"92\\u002f and\",\"93\\u002f pigs\",\"94\\u002f are\",\"95\\u002f commonly\",\"96\\u002f considered\",\"97\\u002f to\",\"98\\u002f be\",\"99\\u002f farm\",\"100\\u002f animals\",\"101\\u002f because\",\"102\\u002f they\",\"103\\u002f are\",\"104\\u002f commonly\",\"105\\u002f raised\",\"106\\u002f in\",\"107\\u002f farms\",\"108\\u002f and\",\"109\\u002f are\",\"110\\u002f grown\",\"111\\u002f for\",\"112\\u002f human\",\"113\\u002f consumption\",\"114\\u002f.\",\"115\\u002f Meanwhile\",\"116\\u002f,\",\"117\\u002f monkeys\",\"118\\u002f are\",\"119\\u002f not\",\"120\\u002f considered\",\"121\\u002f to\",\"122\\u002f be\",\"123\\u002f farm\",\"124\\u002f animals\",\"125\\u002f because\",\"126\\u002f they\",\"127\\u002f often\",\"128\\u002f grow\",\"129\\u002f up\",\"130\\u002f in\",\"131\\u002f the\",\"132\\u002f wild\",\"133\\u002f and\",\"134\\u002f are\",\"135\\u002f not\",\"136\\u002f often\",\"137\\u002f consumed\",\"138\\u002f by\",\"139\\u002f humans\",\"140\\u002f.\",\"141\\u002f Cars\",\"142\\u002f,\",\"143\\u002f motorcycles\",\"144\\u002f and\",\"145\\u002f tractors\",\"146\\u002f are\",\"147\\u002f not\",\"148\\u002f living\",\"149\\u002f things\",\"150\\u002f so\",\"151\\u002f they\",\"152\\u002f are\",\"153\\u002f not\",\"154\\u002f farm\",\"155\\u002f animals\",\"156\\u002f.\",\"157\\u002f Sally\",\"158\\u002f,\",\"159\\u002f Doug\",\"160\\u002f and\",\"161\\u002f Amy\",\"162\\u002f have\",\"163\\u002f \",\"164\\u002f2\",\"165\\u002f +\",\"166\\u002f \",\"167\\u002f3\",\"168\\u002f +\",\"169\\u002f \",\"170\\u002f1\",\"171\\u002f2\",\"172\\u002f +\",\"173\\u002f \",\"174\\u002f1\",\"175\\u002f0\",\"176\\u002f +\",\"177\\u002f \",\"178\\u002f6\",\"179\\u002f =\",\"180\\u002f \",\"181\\u002f3\",\"182\\u002f3\",\"183\\u002f farm\",\"184\\u002f animals\",\"185\\u002f in\",\"186\\u002f total\",\"187\\u002f.\",\"188\\u002f \",\"189\\u002f\\u003cend_of_turn\\u003e\",\"190\\u002f\\u003cstart_of_turn\\u003e\",\"191\\u002fmodel\",\"192\\u002f \",\"193\\u002f\\n\\n\",\"194\\u002fHere\",\"195\\u002f'\",\"196\\u002fs\",\"197\\u002f how\",\"198\\u002f to\",\"199\\u002f calculate\",\"200\\u002f the\",\"201\\u002f total\",\"202\\u002f number\",\"203\\u002f of\",\"204\\u002f farm\",\"205\\u002f animals\",\"206\\u002f:\",\"207\\u002f\\n\\n\",\"208\\u002f*\",\"209\\u002f **\",\"210\\u002fSally\",\"211\\u002f:**\",\"212\\u002f \",\"213\\u002f2\",\"214\\u002f chickens\",\"215\\u002f +\",\"216\\u002f \",\"217\\u002f3\",\"218\\u002f cows\",\"219\\u002f =\",\"220\\u002f \",\"221\\u002f5\",\"222\\u002f\\n\",\"223\\u002f*\",\"224\\u002f **\",\"225\\u002fDoug\",\"226\\u002f:**\",\"227\\u002f \",\"228\\u002f6\",\"229\\u002f monkeys\",\"230\\u002f +\",\"231\\u002f \",\"232\\u002f1\",\"233\\u002f2\",\"234\\u002f pigs\",\"235\\u002f +\",\"236\\u002f \",\"237\\u002f2\",\"238\\u002f tractors\",\"239\\u002f =\",\"240\\u002f \",\"241\\u002f2\",\"242\\u002f0\",\"243\\u002f\\n\",\"244\\u002f*\",\"245\\u002f **\",\"246\\u002fAmy\",\"247\\u002f:**\",\"248\\u002f \",\"249\\u002f1\",\"250\\u002f car\",\"251\\u002f +\",\"252\\u002f \",\"253\\u002f1\",\"254\\u002f0\",\"255\\u002f cows\",\"256\\u002f +\",\"257\\u002f \",\"258\\u002f6\",\"259\\u002f ducks\",\"260\\u002f =\",\"261\\u002f \",\"262\\u002f1\",\"263\\u002f7\",\"264\\u002f\\n\\n\",\"265\\u002f**\",\"266\\u002fTotal\",\"267\\u002f:**\",\"268\\u002f \",\"269\\u002f5\",\"270\\u002f +\",\"271\\u002f \",\"272\\u002f2\",\"273\\u002f0\",\"274\\u002f +\",\"275\\u002f \",\"276\\u002f1\",\"277\\u002f7\",\"278\\u002f =\",\"279\\u002f **\",\"280\\u002f4\",\"281\\u002f2\",\"282\\u002f**\",\"283\\u002f\\n\\n\",\"284\\u002fSally\",\"285\\u002f,\",\"286\\u002f Doug\",\"287\\u002f,\",\"288\\u002f and\",\"289\\u002f Amy\",\"290\\u002f have\",\"291\\u002f a\",\"292\\u002f total\",\"293\\u002f of\",\"294\\u002f \",\"295\\u002f4\",\"296\\u002f2\",\"297\\u002f farm\",\"298\\u002f animals\",\"299\\u002f.\",\"300\\u002f \",\"301\\u002f\\n\",\"302\\u002f\\u003cend_of_turn\\u003e\"],\"xaxis\":\"x\",\"y\":[-0.006423565,0.00000546708,0.000002416832,8.624854e-7,-5.1391703e-7,-4.4401855e-7,1.487327e-7,1.9609843e-7,-0.0000011063859,3.9029675e-7,0.0000051365664,-0.00000384461,1.4976054e-7,-6.2544785e-8,0.0000021157446,-1.8738064e-7,-1.4232667e-7,5.4881406e-7,-4.6712896e-7,0.0000029293283,-0.00000493712,0.00001162475,0.000010072529,3.911501e-7,-0.0000038131645,-0.0000023722744,-0.00004664883,0.0000013043641,-4.414555e-7,-0.0000033285799,-0.0000039368924,-0.0000012405774,-3.152727e-7,-6.977788e-7,-0.000006778251,-0.0000070365118,0.000020697958,8.436336e-7,-5.464019e-7,-0.0000010167154,4.4689136e-7,2.5155418e-7,-1.6512456e-7,-6.519474e-7,-4.3103506e-7,0.0000022169052,8.0903874e-7,2.6302126e-7,-3.154702e-7,0.000004212722,-0.000004542727,-3.5553649e-7,2.9992457e-8,2.0312314e-8,-2.3171495e-7,-0.000007197924,-7.20785e-8,7.526026e-9,-2.3081468e-7,1.00535296e-7,5.181076e-7,3.5371937e-7,4.0476306e-7,-9.602215e-8,0.000005338068,0.0000026594125,-0.000010105811,-0.0000013902919,-0.000012779174,0.0000027624617,0.0000020414186,0.0000086091895,-4.9556195e-7,0.000004189316,1.4909784e-7,-0.000006298294,-1.16413275e-7,-9.53251e-7,-0.00000152295,-0.000047006193,-0.000012802285,-0.0000227961,-0.00001064941,0.00022879896,0.000043215394,0.000013779001,0.000013857043,-0.00006359025,-0.000008960111,-0.0000026816158,-0.0000028380255,-1.71706e-7,-0.000003374172,-0.0000017387617,-0.0000031924037,-0.0000024209328,-8.3615424e-7,2.5287846e-8,-5.311678e-7,-0.0000066254925,-0.000008476271,-0.0000023219661,-0.0000012806455,-6.090613e-7,-3.9574186e-7,-7.415661e-7,-3.5558386e-7,-9.90715e-7,-0.0000013034186,-6.366374e-7,-5.666769e-7,-3.5947158e-7,-9.9223286e-8,8.7644116e-7,-0.000037714788,6.1988146e-7,-6.040143e-7,-0.0000058084006,-3.2081687e-8,-4.777931e-7,-8.6063e-8,1.530091e-7,-4.6807553e-8,-0.0000012253391,-0.0000013121573,-6.41388e-7,-2.285819e-7,-1.8022124e-7,-8.793757e-8,3.1186783e-8,1.159233e-7,8.567876e-8,6.350433e-7,-1.2192172e-7,-1.1147122e-7,2.5947621e-8,9.389261e-8,2.3548078e-7,-1.0277044e-7,-0.0000011880924,-0.000038921822,-0.000014875115,-1.1188217e-7,-0.000003512222,-1.4025954e-7,0.0000029698608,-5.5348056e-7,-8.203418e-8,1.8058767e-8,9.671488e-7,-6.622521e-9,-7.223375e-8,1.4986792e-7,1.4215803e-7,-0.0000015576784,-7.7366856e-8,-0.00005187983,-0.0000018634407,4.3672924e-7,0.0000020968955,4.7680882e-7,-0.0000020495495,-0.0000011216315,-0.000016212385,-0.000009313213,-0.000014398651,-5.600491e-7,1.4762239e-7,-0.0000018297823,3.9933389e-7,-0.000003681619,-0.0000029167318,-0.0000045027696,2.1822541e-7,-4.9658126e-7,-5.8971136e-7,-0.0000020436119,7.41706e-7,-0.0000018138471,-0.0000042697675,-6.7031635e-8,-0.0000011792639,-0.00000604834,-0.0000037789632,-5.0726854e-8,3.1263147e-7,-0.000005943266,-0.000024295645,0.000013607701,-0.000024534631,0.000027790898,0.000023382738,4.1211024e-7,-0.000028550468,0.000021614216,-0.00006519581,0.0000052197947,7.383132e-7,-0.0000018412421,6.33499e-7,-7.917902e-7,-5.84373e-7,-0.000001535236,-0.000001347578,-0.000009410703,-0.000009959184,0.000002055252,-0.00016104967,0.000021625878,0.000043007916,0.0000022744357,0.0000014848773,0.0000015319316,-0.0000012705418,-0.0000017616256,0.000004748909,5.684087e-7,2.9742313e-7,-0.0000010803692,6.2753134e-7,7.5751615e-7,-0.0000032474832,-0.00008824795,-0.000027371338,-0.0000022773215,-0.0000011774852,-9.045706e-7,2.7473502e-7,8.436301e-7,-0.000001606885,-0.0000012953274,9.916586e-8,1.07262046e-7,1.9520584e-8,-7.570082e-7,-0.0000012924481,3.4650805e-7,-5.175857e-7,0.0000062529193,-0.0000029327064,0.0000018667429,-0.0000061455125,-0.000019266887,-0.00010672574,-0.000015557669,0.000004757713,-0.0000041031976,-0.0000027884337,2.7885477e-7,-9.714987e-7,-0.000004277125,-0.0000043294253,2.4681265e-7,1.9701375e-7,3.4295667e-7,1.142149e-7,-1.8436197e-7,4.227038e-7,2.4172584e-7,0.000002887388,-0.0000012640708,0.0000013167432,-2.8789196e-7,-0.000019519044,-0.00004952738,0.00005815811,-0.00000277428,0.0000047698204,-8.8001514e-7,-0.0000015976607,0.0000025262907,0.0000014259734,-6.277197e-7,7.251428e-8,-3.0487027e-7,4.915652e-7,5.611505e-7,-0.000008388019,-0.000005978872,0.000028855444,-0.000005008954,-0.000004679947,-0.000049315837,-0.00017133106,-0.0000012885798,-0.000001705632,0.000001288856,2.6940495e-7,0.0000027161939,-0.0000129144455,-0.000011026366,0.0000018671382,-4.2172655e-7,-0.0000067004335,-0.000007907219,0.0000017242533,-0.000015894775,-0.0000047464387,-0.000011188162,0.00011310356,0.0005463827,-0.002733117,0.0],\"yaxis\":\"y\",\"type\":\"bar\"}],                        {\"template\":{\"data\":{\"histogram2dcontour\":[{\"type\":\"histogram2dcontour\",\"colorbar\":{\"outlinewidth\":0,\"ticks\":\"\"},\"colorscale\":[[0.0,\"#0d0887\"],[0.1111111111111111,\"#46039f\"],[0.2222222222222222,\"#7201a8\"],[0.3333333333333333,\"#9c179e\"],[0.4444444444444444,\"#bd3786\"],[0.5555555555555556,\"#d8576b\"],[0.6666666666666666,\"#ed7953\"],[0.7777777777777778,\"#fb9f3a\"],[0.8888888888888888,\"#fdca26\"],[1.0,\"#f0f921\"]]}],\"choropleth\":[{\"type\":\"choropleth\",\"colorbar\":{\"outlinewidth\":0,\"ticks\":\"\"}}],\"histogram2d\":[{\"type\":\"histogram2d\",\"colorbar\":{\"outlinewidth\":0,\"ticks\":\"\"},\"colorscale\":[[0.0,\"#0d0887\"],[0.1111111111111111,\"#46039f\"],[0.2222222222222222,\"#7201a8\"],[0.3333333333333333,\"#9c179e\"],[0.4444444444444444,\"#bd3786\"],[0.5555555555555556,\"#d8576b\"],[0.6666666666666666,\"#ed7953\"],[0.7777777777777778,\"#fb9f3a\"],[0.8888888888888888,\"#fdca26\"],[1.0,\"#f0f921\"]]}],\"heatmap\":[{\"type\":\"heatmap\",\"colorbar\":{\"outlinewidth\":0,\"ticks\":\"\"},\"colorscale\":[[0.0,\"#0d0887\"],[0.1111111111111111,\"#46039f\"],[0.2222222222222222,\"#7201a8\"],[0.3333333333333333,\"#9c179e\"],[0.4444444444444444,\"#bd3786\"],[0.5555555555555556,\"#d8576b\"],[0.6666666666666666,\"#ed7953\"],[0.7777777777777778,\"#fb9f3a\"],[0.8888888888888888,\"#fdca26\"],[1.0,\"#f0f921\"]]}],\"heatmapgl\":[{\"type\":\"heatmapgl\",\"colorbar\":{\"outlinewidth\":0,\"ticks\":\"\"},\"colorscale\":[[0.0,\"#0d0887\"],[0.1111111111111111,\"#46039f\"],[0.2222222222222222,\"#7201a8\"],[0.3333333333333333,\"#9c179e\"],[0.4444444444444444,\"#bd3786\"],[0.5555555555555556,\"#d8576b\"],[0.6666666666666666,\"#ed7953\"],[0.7777777777777778,\"#fb9f3a\"],[0.8888888888888888,\"#fdca26\"],[1.0,\"#f0f921\"]]}],\"contourcarpet\":[{\"type\":\"contourcarpet\",\"colorbar\":{\"outlinewidth\":0,\"ticks\":\"\"}}],\"contour\":[{\"type\":\"contour\",\"colorbar\":{\"outlinewidth\":0,\"ticks\":\"\"},\"colorscale\":[[0.0,\"#0d0887\"],[0.1111111111111111,\"#46039f\"],[0.2222222222222222,\"#7201a8\"],[0.3333333333333333,\"#9c179e\"],[0.4444444444444444,\"#bd3786\"],[0.5555555555555556,\"#d8576b\"],[0.6666666666666666,\"#ed7953\"],[0.7777777777777778,\"#fb9f3a\"],[0.8888888888888888,\"#fdca26\"],[1.0,\"#f0f921\"]]}],\"surface\":[{\"type\":\"surface\",\"colorbar\":{\"outlinewidth\":0,\"ticks\":\"\"},\"colorscale\":[[0.0,\"#0d0887\"],[0.1111111111111111,\"#46039f\"],[0.2222222222222222,\"#7201a8\"],[0.3333333333333333,\"#9c179e\"],[0.4444444444444444,\"#bd3786\"],[0.5555555555555556,\"#d8576b\"],[0.6666666666666666,\"#ed7953\"],[0.7777777777777778,\"#fb9f3a\"],[0.8888888888888888,\"#fdca26\"],[1.0,\"#f0f921\"]]}],\"mesh3d\":[{\"type\":\"mesh3d\",\"colorbar\":{\"outlinewidth\":0,\"ticks\":\"\"}}],\"scatter\":[{\"fillpattern\":{\"fillmode\":\"overlay\",\"size\":10,\"solidity\":0.2},\"type\":\"scatter\"}],\"parcoords\":[{\"type\":\"parcoords\",\"line\":{\"colorbar\":{\"outlinewidth\":0,\"ticks\":\"\"}}}],\"scatterpolargl\":[{\"type\":\"scatterpolargl\",\"marker\":{\"colorbar\":{\"outlinewidth\":0,\"ticks\":\"\"}}}],\"bar\":[{\"error_x\":{\"color\":\"#2a3f5f\"},\"error_y\":{\"color\":\"#2a3f5f\"},\"marker\":{\"line\":{\"color\":\"#E5ECF6\",\"width\":0.5},\"pattern\":{\"fillmode\":\"overlay\",\"size\":10,\"solidity\":0.2}},\"type\":\"bar\"}],\"scattergeo\":[{\"type\":\"scattergeo\",\"marker\":{\"colorbar\":{\"outlinewidth\":0,\"ticks\":\"\"}}}],\"scatterpolar\":[{\"type\":\"scatterpolar\",\"marker\":{\"colorbar\":{\"outlinewidth\":0,\"ticks\":\"\"}}}],\"histogram\":[{\"marker\":{\"pattern\":{\"fillmode\":\"overlay\",\"size\":10,\"solidity\":0.2}},\"type\":\"histogram\"}],\"scattergl\":[{\"type\":\"scattergl\",\"marker\":{\"colorbar\":{\"outlinewidth\":0,\"ticks\":\"\"}}}],\"scatter3d\":[{\"type\":\"scatter3d\",\"line\":{\"colorbar\":{\"outlinewidth\":0,\"ticks\":\"\"}},\"marker\":{\"colorbar\":{\"outlinewidth\":0,\"ticks\":\"\"}}}],\"scattermapbox\":[{\"type\":\"scattermapbox\",\"marker\":{\"colorbar\":{\"outlinewidth\":0,\"ticks\":\"\"}}}],\"scatterternary\":[{\"type\":\"scatterternary\",\"marker\":{\"colorbar\":{\"outlinewidth\":0,\"ticks\":\"\"}}}],\"scattercarpet\":[{\"type\":\"scattercarpet\",\"marker\":{\"colorbar\":{\"outlinewidth\":0,\"ticks\":\"\"}}}],\"carpet\":[{\"aaxis\":{\"endlinecolor\":\"#2a3f5f\",\"gridcolor\":\"white\",\"linecolor\":\"white\",\"minorgridcolor\":\"white\",\"startlinecolor\":\"#2a3f5f\"},\"baxis\":{\"endlinecolor\":\"#2a3f5f\",\"gridcolor\":\"white\",\"linecolor\":\"white\",\"minorgridcolor\":\"white\",\"startlinecolor\":\"#2a3f5f\"},\"type\":\"carpet\"}],\"table\":[{\"cells\":{\"fill\":{\"color\":\"#EBF0F8\"},\"line\":{\"color\":\"white\"}},\"header\":{\"fill\":{\"color\":\"#C8D4E3\"},\"line\":{\"color\":\"white\"}},\"type\":\"table\"}],\"barpolar\":[{\"marker\":{\"line\":{\"color\":\"#E5ECF6\",\"width\":0.5},\"pattern\":{\"fillmode\":\"overlay\",\"size\":10,\"solidity\":0.2}},\"type\":\"barpolar\"}],\"pie\":[{\"automargin\":true,\"type\":\"pie\"}]},\"layout\":{\"autotypenumbers\":\"strict\",\"colorway\":[\"#636efa\",\"#EF553B\",\"#00cc96\",\"#ab63fa\",\"#FFA15A\",\"#19d3f3\",\"#FF6692\",\"#B6E880\",\"#FF97FF\",\"#FECB52\"],\"font\":{\"color\":\"#2a3f5f\"},\"hovermode\":\"closest\",\"hoverlabel\":{\"align\":\"left\"},\"paper_bgcolor\":\"white\",\"plot_bgcolor\":\"#E5ECF6\",\"polar\":{\"bgcolor\":\"#E5ECF6\",\"angularaxis\":{\"gridcolor\":\"white\",\"linecolor\":\"white\",\"ticks\":\"\"},\"radialaxis\":{\"gridcolor\":\"white\",\"linecolor\":\"white\",\"ticks\":\"\"}},\"ternary\":{\"bgcolor\":\"#E5ECF6\",\"aaxis\":{\"gridcolor\":\"white\",\"linecolor\":\"white\",\"ticks\":\"\"},\"baxis\":{\"gridcolor\":\"white\",\"linecolor\":\"white\",\"ticks\":\"\"},\"caxis\":{\"gridcolor\":\"white\",\"linecolor\":\"white\",\"ticks\":\"\"}},\"coloraxis\":{\"colorbar\":{\"outlinewidth\":0,\"ticks\":\"\"}},\"colorscale\":{\"sequential\":[[0.0,\"#0d0887\"],[0.1111111111111111,\"#46039f\"],[0.2222222222222222,\"#7201a8\"],[0.3333333333333333,\"#9c179e\"],[0.4444444444444444,\"#bd3786\"],[0.5555555555555556,\"#d8576b\"],[0.6666666666666666,\"#ed7953\"],[0.7777777777777778,\"#fb9f3a\"],[0.8888888888888888,\"#fdca26\"],[1.0,\"#f0f921\"]],\"sequentialminus\":[[0.0,\"#0d0887\"],[0.1111111111111111,\"#46039f\"],[0.2222222222222222,\"#7201a8\"],[0.3333333333333333,\"#9c179e\"],[0.4444444444444444,\"#bd3786\"],[0.5555555555555556,\"#d8576b\"],[0.6666666666666666,\"#ed7953\"],[0.7777777777777778,\"#fb9f3a\"],[0.8888888888888888,\"#fdca26\"],[1.0,\"#f0f921\"]],\"diverging\":[[0,\"#8e0152\"],[0.1,\"#c51b7d\"],[0.2,\"#de77ae\"],[0.3,\"#f1b6da\"],[0.4,\"#fde0ef\"],[0.5,\"#f7f7f7\"],[0.6,\"#e6f5d0\"],[0.7,\"#b8e186\"],[0.8,\"#7fbc41\"],[0.9,\"#4d9221\"],[1,\"#276419\"]]},\"xaxis\":{\"gridcolor\":\"white\",\"linecolor\":\"white\",\"ticks\":\"\",\"title\":{\"standoff\":15},\"zerolinecolor\":\"white\",\"automargin\":true,\"zerolinewidth\":2},\"yaxis\":{\"gridcolor\":\"white\",\"linecolor\":\"white\",\"ticks\":\"\",\"title\":{\"standoff\":15},\"zerolinecolor\":\"white\",\"automargin\":true,\"zerolinewidth\":2},\"scene\":{\"xaxis\":{\"backgroundcolor\":\"#E5ECF6\",\"gridcolor\":\"white\",\"linecolor\":\"white\",\"showbackground\":true,\"ticks\":\"\",\"zerolinecolor\":\"white\",\"gridwidth\":2},\"yaxis\":{\"backgroundcolor\":\"#E5ECF6\",\"gridcolor\":\"white\",\"linecolor\":\"white\",\"showbackground\":true,\"ticks\":\"\",\"zerolinecolor\":\"white\",\"gridwidth\":2},\"zaxis\":{\"backgroundcolor\":\"#E5ECF6\",\"gridcolor\":\"white\",\"linecolor\":\"white\",\"showbackground\":true,\"ticks\":\"\",\"zerolinecolor\":\"white\",\"gridwidth\":2}},\"shapedefaults\":{\"line\":{\"color\":\"#2a3f5f\"}},\"annotationdefaults\":{\"arrowcolor\":\"#2a3f5f\",\"arrowhead\":0,\"arrowwidth\":1},\"geo\":{\"bgcolor\":\"white\",\"landcolor\":\"#E5ECF6\",\"subunitcolor\":\"white\",\"showland\":true,\"showlakes\":true,\"lakecolor\":\"white\"},\"title\":{\"x\":0.05},\"mapbox\":{\"style\":\"light\"}}},\"xaxis\":{\"anchor\":\"y\",\"domain\":[0.0,1.0],\"title\":{\"text\":\"x\"}},\"yaxis\":{\"anchor\":\"x\",\"domain\":[0.0,1.0],\"title\":{\"text\":\"y\"}},\"legend\":{\"tracegroupgap\":0},\"margin\":{\"t\":60},\"barmode\":\"relative\"},                        {\"responsive\": true}                    ).then(function(){\n",
       "                            \n",
       "var gd = document.getElementById('eae62e7d-e79a-4b22-9e38-454fa73eb33c');\n",
       "var x = new MutationObserver(function (mutations, observer) {{\n",
       "        var display = window.getComputedStyle(gd).display;\n",
       "        if (!display || display === 'none') {{\n",
       "            console.log([gd, 'removed!']);\n",
       "            Plotly.purge(gd);\n",
       "            observer.disconnect();\n",
       "        }}\n",
       "}});\n",
       "\n",
       "// Listen for the removal of the full notebook cells\n",
       "var notebookContainer = gd.closest('#notebook-container');\n",
       "if (notebookContainer) {{\n",
       "    x.observe(notebookContainer, {childList: true});\n",
       "}}\n",
       "\n",
       "// Listen for the clearing of the current output cell\n",
       "var outputEl = gd.closest('.output');\n",
       "if (outputEl) {{\n",
       "    x.observe(outputEl, {childList: true});\n",
       "}}\n",
       "\n",
       "                        })                };                });            </script>        </div>"
      ]
     },
     "metadata": {},
     "output_type": "display_data"
    }
   ],
   "source": [
    "toks = model.to_str_tokens(tokens)\n",
    "unique_tokens = [f\"{i}/{t}\" for i, t in enumerate(toks)]\n",
    "import plotly.express as px\n",
    "\n",
    "px.bar(x = unique_tokens,\n",
    "       y = feature_attribution_df.sae_feature_attributions[sae.cfg.hook_name][0].sum(-1).detach().cpu().numpy())"
   ]
  },
  {
   "cell_type": "code",
   "execution_count": 54,
   "metadata": {},
   "outputs": [
    {
     "data": {
      "text/plain": [
       "['<bos>',\n",
       " '<start_of_turn>',\n",
       " 'user',\n",
       " ' Below',\n",
       " ' is',\n",
       " ' an',\n",
       " ' instruction',\n",
       " ' that',\n",
       " ' describes',\n",
       " ' a',\n",
       " ' task',\n",
       " '.',\n",
       " ' Write',\n",
       " ' a',\n",
       " ' response',\n",
       " ' that',\n",
       " ' appropriately',\n",
       " ' completes',\n",
       " ' the',\n",
       " ' request',\n",
       " '.',\n",
       " '\\n\\n',\n",
       " ' Sally',\n",
       " ' has',\n",
       " ' ',\n",
       " '2',\n",
       " ' chickens',\n",
       " ',',\n",
       " ' ',\n",
       " '3',\n",
       " ' cows',\n",
       " ' and',\n",
       " ' ',\n",
       " '2',\n",
       " ' motorcycles',\n",
       " '.',\n",
       " ' Doug',\n",
       " ' has',\n",
       " ' ',\n",
       " '6',\n",
       " ' monkeys',\n",
       " ',',\n",
       " ' ',\n",
       " '1',\n",
       " '2',\n",
       " ' pigs',\n",
       " ' and',\n",
       " ' ',\n",
       " '2',\n",
       " ' tractors',\n",
       " '.',\n",
       " ' Amy',\n",
       " ' has',\n",
       " ' ',\n",
       " '1',\n",
       " ' car',\n",
       " ',',\n",
       " ' ',\n",
       " '1',\n",
       " '0',\n",
       " ' cows',\n",
       " ' and',\n",
       " ' ',\n",
       " '6',\n",
       " ' ducks',\n",
       " '.',\n",
       " ' How',\n",
       " ' many',\n",
       " ' farm',\n",
       " ' animals',\n",
       " ' do',\n",
       " ' Sally',\n",
       " ',',\n",
       " ' Doug',\n",
       " ' and',\n",
       " ' Amy',\n",
       " ' have',\n",
       " ' in',\n",
       " ' total',\n",
       " '?',\n",
       " ' ',\n",
       " '<end_of_turn>',\n",
       " '\\n',\n",
       " '<start_of_turn>',\n",
       " 'model',\n",
       " ' ',\n",
       " '\\n',\n",
       " ' Chickens',\n",
       " ',',\n",
       " ' cows',\n",
       " ',',\n",
       " ' ducks',\n",
       " ' and',\n",
       " ' pigs',\n",
       " ' are',\n",
       " ' commonly',\n",
       " ' considered',\n",
       " ' to',\n",
       " ' be',\n",
       " ' farm',\n",
       " ' animals',\n",
       " ' because',\n",
       " ' they',\n",
       " ' are',\n",
       " ' commonly',\n",
       " ' raised',\n",
       " ' in',\n",
       " ' farms',\n",
       " ' and',\n",
       " ' are',\n",
       " ' grown',\n",
       " ' for',\n",
       " ' human',\n",
       " ' consumption',\n",
       " '.',\n",
       " ' Meanwhile',\n",
       " ',',\n",
       " ' monkeys',\n",
       " ' are',\n",
       " ' not',\n",
       " ' considered',\n",
       " ' to',\n",
       " ' be',\n",
       " ' farm',\n",
       " ' animals',\n",
       " ' because',\n",
       " ' they',\n",
       " ' often',\n",
       " ' grow',\n",
       " ' up',\n",
       " ' in',\n",
       " ' the',\n",
       " ' wild',\n",
       " ' and',\n",
       " ' are',\n",
       " ' not',\n",
       " ' often',\n",
       " ' consumed',\n",
       " ' by',\n",
       " ' humans',\n",
       " '.',\n",
       " ' Cars',\n",
       " ',',\n",
       " ' motorcycles',\n",
       " ' and',\n",
       " ' tractors',\n",
       " ' are',\n",
       " ' not',\n",
       " ' living',\n",
       " ' things',\n",
       " ' so',\n",
       " ' they',\n",
       " ' are',\n",
       " ' not',\n",
       " ' farm',\n",
       " ' animals',\n",
       " '.',\n",
       " ' Sally',\n",
       " ',',\n",
       " ' Doug',\n",
       " ' and',\n",
       " ' Amy',\n",
       " ' have',\n",
       " ' ',\n",
       " '2',\n",
       " ' +',\n",
       " ' ',\n",
       " '3',\n",
       " ' +',\n",
       " ' ',\n",
       " '1',\n",
       " '2',\n",
       " ' +',\n",
       " ' ',\n",
       " '1',\n",
       " '0',\n",
       " ' +',\n",
       " ' ',\n",
       " '6',\n",
       " ' =',\n",
       " ' ',\n",
       " '3',\n",
       " '3',\n",
       " ' farm',\n",
       " ' animals',\n",
       " ' in',\n",
       " ' total',\n",
       " '.',\n",
       " ' ',\n",
       " '<end_of_turn>',\n",
       " '<start_of_turn>',\n",
       " 'model',\n",
       " ' ',\n",
       " '\\n\\n',\n",
       " 'Here',\n",
       " \"'\",\n",
       " 's',\n",
       " ' how',\n",
       " ' to',\n",
       " ' calculate',\n",
       " ' the',\n",
       " ' total',\n",
       " ' number',\n",
       " ' of',\n",
       " ' farm',\n",
       " ' animals',\n",
       " ':',\n",
       " '\\n\\n',\n",
       " '*',\n",
       " ' **',\n",
       " 'Sally',\n",
       " ':**',\n",
       " ' ',\n",
       " '2',\n",
       " ' chickens',\n",
       " ' +',\n",
       " ' ',\n",
       " '3',\n",
       " ' cows',\n",
       " ' =',\n",
       " ' ',\n",
       " '5',\n",
       " '\\n',\n",
       " '*',\n",
       " ' **',\n",
       " 'Doug',\n",
       " ':**',\n",
       " ' ',\n",
       " '6',\n",
       " ' monkeys',\n",
       " ' +',\n",
       " ' ',\n",
       " '1',\n",
       " '2',\n",
       " ' pigs',\n",
       " ' +',\n",
       " ' ',\n",
       " '2',\n",
       " ' tractors',\n",
       " ' =',\n",
       " ' ',\n",
       " '2',\n",
       " '0',\n",
       " '\\n',\n",
       " '*',\n",
       " ' **',\n",
       " 'Amy',\n",
       " ':**',\n",
       " ' ',\n",
       " '1',\n",
       " ' car',\n",
       " ' +',\n",
       " ' ',\n",
       " '1',\n",
       " '0',\n",
       " ' cows',\n",
       " ' +',\n",
       " ' ',\n",
       " '6',\n",
       " ' ducks',\n",
       " ' =',\n",
       " ' ',\n",
       " '1',\n",
       " '7',\n",
       " '\\n\\n',\n",
       " '**',\n",
       " 'Total',\n",
       " ':**',\n",
       " ' ',\n",
       " '5',\n",
       " ' +',\n",
       " ' ',\n",
       " '2',\n",
       " '0',\n",
       " ' +',\n",
       " ' ',\n",
       " '1',\n",
       " '7',\n",
       " ' =',\n",
       " ' **',\n",
       " '4',\n",
       " '2',\n",
       " '**',\n",
       " '\\n\\n',\n",
       " 'Sally',\n",
       " ',',\n",
       " ' Doug',\n",
       " ',',\n",
       " ' and',\n",
       " ' Amy',\n",
       " ' have',\n",
       " ' a',\n",
       " ' total',\n",
       " ' of',\n",
       " ' ',\n",
       " '4',\n",
       " '2',\n",
       " ' farm',\n",
       " ' animals',\n",
       " '.',\n",
       " ' ',\n",
       " '\\n',\n",
       " '<end_of_turn>']"
      ]
     },
     "execution_count": 54,
     "metadata": {},
     "output_type": "execute_result"
    }
   ],
   "source": [
    "toks"
   ]
  },
  {
   "cell_type": "code",
   "execution_count": 50,
   "metadata": {},
   "outputs": [
    {
     "data": {
      "text/plain": [
       "['0/<bos>',\n",
       " '1/<start_of_turn>',\n",
       " '2/user',\n",
       " '3/ Below',\n",
       " '4/ is',\n",
       " '5/ an',\n",
       " '6/ instruction',\n",
       " '7/ that',\n",
       " '8/ describes',\n",
       " '9/ a',\n",
       " '10/ task',\n",
       " '11/.',\n",
       " '12/ Write',\n",
       " '13/ a',\n",
       " '14/ response',\n",
       " '15/ that',\n",
       " '16/ appropriately',\n",
       " '17/ completes',\n",
       " '18/ the',\n",
       " '19/ request',\n",
       " '20/.',\n",
       " '21/\\n\\n',\n",
       " '22/ Sally',\n",
       " '23/ has',\n",
       " '24/ ',\n",
       " '25/2',\n",
       " '26/ chickens',\n",
       " '27/,',\n",
       " '28/ ',\n",
       " '29/3',\n",
       " '30/ cows',\n",
       " '31/ and',\n",
       " '32/ ',\n",
       " '33/2',\n",
       " '34/ motorcycles',\n",
       " '35/.',\n",
       " '36/ Doug',\n",
       " '37/ has',\n",
       " '38/ ',\n",
       " '39/6',\n",
       " '40/ monkeys',\n",
       " '41/,',\n",
       " '42/ ',\n",
       " '43/1',\n",
       " '44/2',\n",
       " '45/ pigs',\n",
       " '46/ and',\n",
       " '47/ ',\n",
       " '48/2',\n",
       " '49/ tractors',\n",
       " '50/.',\n",
       " '51/ Amy',\n",
       " '52/ has',\n",
       " '53/ ',\n",
       " '54/1',\n",
       " '55/ car',\n",
       " '56/,',\n",
       " '57/ ',\n",
       " '58/1',\n",
       " '59/0',\n",
       " '60/ cows',\n",
       " '61/ and',\n",
       " '62/ ',\n",
       " '63/6',\n",
       " '64/ ducks',\n",
       " '65/.',\n",
       " '66/ How',\n",
       " '67/ many',\n",
       " '68/ farm',\n",
       " '69/ animals',\n",
       " '70/ do',\n",
       " '71/ Sally',\n",
       " '72/,',\n",
       " '73/ Doug',\n",
       " '74/ and',\n",
       " '75/ Amy',\n",
       " '76/ have',\n",
       " '77/ in',\n",
       " '78/ total',\n",
       " '79/?',\n",
       " '80/ ',\n",
       " '81/<end_of_turn>',\n",
       " '82/\\n',\n",
       " '83/<start_of_turn>',\n",
       " '84/model',\n",
       " '85/ ',\n",
       " '86/\\n',\n",
       " '87/ Chickens',\n",
       " '88/,',\n",
       " '89/ cows',\n",
       " '90/,',\n",
       " '91/ ducks',\n",
       " '92/ and',\n",
       " '93/ pigs',\n",
       " '94/ are',\n",
       " '95/ commonly',\n",
       " '96/ considered',\n",
       " '97/ to',\n",
       " '98/ be',\n",
       " '99/ farm',\n",
       " '100/ animals',\n",
       " '101/ because',\n",
       " '102/ they',\n",
       " '103/ are',\n",
       " '104/ commonly',\n",
       " '105/ raised',\n",
       " '106/ in',\n",
       " '107/ farms',\n",
       " '108/ and',\n",
       " '109/ are',\n",
       " '110/ grown',\n",
       " '111/ for',\n",
       " '112/ human',\n",
       " '113/ consumption',\n",
       " '114/.',\n",
       " '115/ Meanwhile',\n",
       " '116/,',\n",
       " '117/ monkeys',\n",
       " '118/ are',\n",
       " '119/ not',\n",
       " '120/ considered',\n",
       " '121/ to',\n",
       " '122/ be',\n",
       " '123/ farm',\n",
       " '124/ animals',\n",
       " '125/ because',\n",
       " '126/ they',\n",
       " '127/ often',\n",
       " '128/ grow',\n",
       " '129/ up',\n",
       " '130/ in',\n",
       " '131/ the',\n",
       " '132/ wild',\n",
       " '133/ and',\n",
       " '134/ are',\n",
       " '135/ not',\n",
       " '136/ often',\n",
       " '137/ consumed',\n",
       " '138/ by',\n",
       " '139/ humans',\n",
       " '140/.',\n",
       " '141/ Cars',\n",
       " '142/,',\n",
       " '143/ motorcycles',\n",
       " '144/ and',\n",
       " '145/ tractors',\n",
       " '146/ are',\n",
       " '147/ not',\n",
       " '148/ living',\n",
       " '149/ things',\n",
       " '150/ so',\n",
       " '151/ they',\n",
       " '152/ are',\n",
       " '153/ not',\n",
       " '154/ farm',\n",
       " '155/ animals',\n",
       " '156/.',\n",
       " '157/ Sally',\n",
       " '158/,',\n",
       " '159/ Doug',\n",
       " '160/ and',\n",
       " '161/ Amy',\n",
       " '162/ have',\n",
       " '163/ ',\n",
       " '164/2',\n",
       " '165/ +',\n",
       " '166/ ',\n",
       " '167/3',\n",
       " '168/ +',\n",
       " '169/ ',\n",
       " '170/1',\n",
       " '171/2',\n",
       " '172/ +',\n",
       " '173/ ',\n",
       " '174/1',\n",
       " '175/0',\n",
       " '176/ +',\n",
       " '177/ ',\n",
       " '178/6',\n",
       " '179/ =',\n",
       " '180/ ',\n",
       " '181/3',\n",
       " '182/3',\n",
       " '183/ farm',\n",
       " '184/ animals',\n",
       " '185/ in',\n",
       " '186/ total',\n",
       " '187/.',\n",
       " '188/ ',\n",
       " '189/<end_of_turn>',\n",
       " '190/<start_of_turn>',\n",
       " '191/model',\n",
       " '192/ ',\n",
       " '193/\\n\\n',\n",
       " '194/Here',\n",
       " \"195/'\",\n",
       " '196/s',\n",
       " '197/ how',\n",
       " '198/ to',\n",
       " '199/ calculate',\n",
       " '200/ the',\n",
       " '201/ total',\n",
       " '202/ number',\n",
       " '203/ of',\n",
       " '204/ farm',\n",
       " '205/ animals',\n",
       " '206/:',\n",
       " '207/\\n\\n',\n",
       " '208/*',\n",
       " '209/ **',\n",
       " '210/Sally',\n",
       " '211/:**',\n",
       " '212/ ',\n",
       " '213/2',\n",
       " '214/ chickens',\n",
       " '215/ +',\n",
       " '216/ ',\n",
       " '217/3',\n",
       " '218/ cows',\n",
       " '219/ =',\n",
       " '220/ ',\n",
       " '221/5',\n",
       " '222/\\n',\n",
       " '223/*',\n",
       " '224/ **',\n",
       " '225/Doug',\n",
       " '226/:**',\n",
       " '227/ ',\n",
       " '228/6',\n",
       " '229/ monkeys',\n",
       " '230/ +',\n",
       " '231/ ',\n",
       " '232/1',\n",
       " '233/2',\n",
       " '234/ pigs',\n",
       " '235/ +',\n",
       " '236/ ',\n",
       " '237/2',\n",
       " '238/ tractors',\n",
       " '239/ =',\n",
       " '240/ ',\n",
       " '241/2',\n",
       " '242/0',\n",
       " '243/\\n',\n",
       " '244/*',\n",
       " '245/ **',\n",
       " '246/Amy',\n",
       " '247/:**',\n",
       " '248/ ',\n",
       " '249/1',\n",
       " '250/ car',\n",
       " '251/ +',\n",
       " '252/ ',\n",
       " '253/1',\n",
       " '254/0',\n",
       " '255/ cows',\n",
       " '256/ +',\n",
       " '257/ ',\n",
       " '258/6',\n",
       " '259/ ducks',\n",
       " '260/ =',\n",
       " '261/ ',\n",
       " '262/1',\n",
       " '263/7',\n",
       " '264/\\n\\n',\n",
       " '265/**',\n",
       " '266/Total',\n",
       " '267/:**',\n",
       " '268/ ',\n",
       " '269/5',\n",
       " '270/ +',\n",
       " '271/ ',\n",
       " '272/2',\n",
       " '273/0',\n",
       " '274/ +',\n",
       " '275/ ',\n",
       " '276/1',\n",
       " '277/7',\n",
       " '278/ =',\n",
       " '279/ **',\n",
       " '280/4',\n",
       " '281/2',\n",
       " '282/**',\n",
       " '283/\\n\\n',\n",
       " '284/Sally',\n",
       " '285/,',\n",
       " '286/ Doug',\n",
       " '287/,',\n",
       " '288/ and',\n",
       " '289/ Amy',\n",
       " '290/ have',\n",
       " '291/ a',\n",
       " '292/ total',\n",
       " '293/ of',\n",
       " '294/ ',\n",
       " '295/4',\n",
       " '296/2',\n",
       " '297/ farm',\n",
       " '298/ animals',\n",
       " '299/.',\n",
       " '300/ ',\n",
       " '301/\\n',\n",
       " '302/<end_of_turn>']"
      ]
     },
     "execution_count": 50,
     "metadata": {},
     "output_type": "execute_result"
    }
   ],
   "source": [
    "unique_tokens"
   ]
  },
  {
   "cell_type": "code",
   "execution_count": 33,
   "metadata": {},
   "outputs": [
    {
     "data": {
      "text/plain": [
       "(304,)"
      ]
     },
     "execution_count": 33,
     "metadata": {},
     "output_type": "execute_result"
    }
   ],
   "source": [
    "feature_attribution_df.sae_feature_attributions[sae.cfg.hook_name][0].sum(-1).detach().cpu().numpy().shape"
   ]
  },
  {
   "cell_type": "code",
   "execution_count": 36,
   "metadata": {},
   "outputs": [
    {
     "data": {
      "text/html": [
       "<div>\n",
       "<style scoped>\n",
       "    .dataframe tbody tr th:only-of-type {\n",
       "        vertical-align: middle;\n",
       "    }\n",
       "\n",
       "    .dataframe tbody tr th {\n",
       "        vertical-align: top;\n",
       "    }\n",
       "\n",
       "    .dataframe thead th {\n",
       "        text-align: right;\n",
       "    }\n",
       "</style>\n",
       "<table border=\"1\" class=\"dataframe\">\n",
       "  <thead>\n",
       "    <tr style=\"text-align: right;\">\n",
       "      <th></th>\n",
       "      <th>position</th>\n",
       "      <th>feature</th>\n",
       "      <th>attribution</th>\n",
       "    </tr>\n",
       "  </thead>\n",
       "  <tbody>\n",
       "    <tr>\n",
       "      <th>34983</th>\n",
       "      <td>303</td>\n",
       "      <td>8751</td>\n",
       "      <td>2.767849</td>\n",
       "    </tr>\n",
       "    <tr>\n",
       "      <th>49340</th>\n",
       "      <td>303</td>\n",
       "      <td>12545</td>\n",
       "      <td>1.666400</td>\n",
       "    </tr>\n",
       "    <tr>\n",
       "      <th>25633</th>\n",
       "      <td>0</td>\n",
       "      <td>6460</td>\n",
       "      <td>0.999610</td>\n",
       "    </tr>\n",
       "    <tr>\n",
       "      <th>25634</th>\n",
       "      <td>1</td>\n",
       "      <td>6460</td>\n",
       "      <td>0.996967</td>\n",
       "    </tr>\n",
       "    <tr>\n",
       "      <th>10883</th>\n",
       "      <td>303</td>\n",
       "      <td>2674</td>\n",
       "      <td>0.974223</td>\n",
       "    </tr>\n",
       "    <tr>\n",
       "      <th>...</th>\n",
       "      <td>...</td>\n",
       "      <td>...</td>\n",
       "      <td>...</td>\n",
       "    </tr>\n",
       "    <tr>\n",
       "      <th>7651</th>\n",
       "      <td>303</td>\n",
       "      <td>1855</td>\n",
       "      <td>-1.845463</td>\n",
       "    </tr>\n",
       "    <tr>\n",
       "      <th>61744</th>\n",
       "      <td>303</td>\n",
       "      <td>15775</td>\n",
       "      <td>-2.050848</td>\n",
       "    </tr>\n",
       "    <tr>\n",
       "      <th>11106</th>\n",
       "      <td>303</td>\n",
       "      <td>2759</td>\n",
       "      <td>-2.273624</td>\n",
       "    </tr>\n",
       "    <tr>\n",
       "      <th>49586</th>\n",
       "      <td>303</td>\n",
       "      <td>12639</td>\n",
       "      <td>-3.842000</td>\n",
       "    </tr>\n",
       "    <tr>\n",
       "      <th>18671</th>\n",
       "      <td>303</td>\n",
       "      <td>4766</td>\n",
       "      <td>-8.219375</td>\n",
       "    </tr>\n",
       "  </tbody>\n",
       "</table>\n",
       "<p>64081 rows × 3 columns</p>\n",
       "</div>"
      ],
      "text/plain": [
       "       position  feature  attribution\n",
       "34983       303     8751     2.767849\n",
       "49340       303    12545     1.666400\n",
       "25633         0     6460     0.999610\n",
       "25634         1     6460     0.996967\n",
       "10883       303     2674     0.974223\n",
       "...         ...      ...          ...\n",
       "7651        303     1855    -1.845463\n",
       "61744       303    15775    -2.050848\n",
       "11106       303     2759    -2.273624\n",
       "49586       303    12639    -3.842000\n",
       "18671       303     4766    -8.219375\n",
       "\n",
       "[64081 rows x 3 columns]"
      ]
     },
     "execution_count": 36,
     "metadata": {},
     "output_type": "execute_result"
    }
   ],
   "source": [
    "import pandas as pd\n",
    "feature_attribution_df.sae_feature_attributions[sae.cfg.hook_name][0].sum(-1).detach().cpu().numpy()\n",
    "def convert_sparse_feature_to_long_df(sparse_tensor: torch.Tensor) -> pd.DataFrame:\n",
    "    \"\"\"\n",
    "    Convert a sparse tensor to a long format pandas DataFrame.\n",
    "    \"\"\"\n",
    "    df = pd.DataFrame(sparse_tensor.detach().cpu().numpy())\n",
    "    df_long = df.melt(ignore_index=False, var_name='column', value_name='value')\n",
    "    df_long.columns = [\"feature\", \"attribution\"]\n",
    "    df_long_nonzero = df_long[df_long['attribution'] != 0]\n",
    "    df_long_nonzero = df_long_nonzero.reset_index().rename(columns={'index': 'position'})\n",
    "    return df_long_nonzero\n",
    "\n",
    "df_long_nonzero = convert_sparse_feature_to_long_df(feature_attribution_df.sae_feature_attributions[sae.cfg.hook_name][0])\n",
    "df_long_nonzero.sort_values(\"attribution\", ascending=False)\n",
    "\n",
    "\n",
    "\n"
   ]
  }
 ],
 "metadata": {
  "kernelspec": {
   "display_name": "base",
   "language": "python",
   "name": "python3"
  },
  "language_info": {
   "codemirror_mode": {
    "name": "ipython",
    "version": 3
   },
   "file_extension": ".py",
   "mimetype": "text/x-python",
   "name": "python",
   "nbconvert_exporter": "python",
   "pygments_lexer": "ipython3",
   "version": "3.10.13"
  }
 },
 "nbformat": 4,
 "nbformat_minor": 2
}
