{
 "cells": [
  {
   "cell_type": "code",
   "execution_count": 1,
   "id": "c2ed9e61-127d-42ef-8baa-abd80b7d526e",
   "metadata": {},
   "outputs": [],
   "source": [
    "from sae_lens import HookedSAETransformer, SAE, SAEConfig\n",
    "from gemma_utils import get_gemma_2_config, gemma_2_sae_loader\n"
   ]
  },
  {
   "cell_type": "code",
   "execution_count": 2,
   "id": "75a0f5be-6048-4c74-9af1-f946f02ca58a",
   "metadata": {},
   "outputs": [],
   "source": [
    "import numpy as np\n",
    "import torch\n",
    "import tqdm\n",
    "import einops\n",
    "import re\n",
    "from jaxtyping import Int, Float\n",
    "from typing import List, Optional, Any\n",
    "from torch import Tensor\n",
    "import json\n",
    "import os\n",
    "from torch.utils.data import Dataset, DataLoader\n",
    "import random\n",
    "import seaborn as sns\n",
    "import matplotlib.pyplot as plt\n",
    "from collections import defaultdict\n",
    "import random\n",
    "from transformer_lens.utils import get_act_name"
   ]
  },
  {
   "cell_type": "code",
   "execution_count": 3,
   "id": "b179c882-1a0f-40cb-b708-0fe4b5f55eaf",
   "metadata": {},
   "outputs": [
    {
     "data": {
      "text/plain": [
       "<torch._C.Generator at 0x7c1abe7491f0>"
      ]
     },
     "execution_count": 3,
     "metadata": {},
     "output_type": "execute_result"
    }
   ],
   "source": [
    "np.random.seed(0)\n",
    "random.seed(0)\n",
    "torch.random.manual_seed(0)"
   ]
  },
  {
   "cell_type": "markdown",
   "id": "e6a3ad49-30ba-45d9-a18a-fc171fe76377",
   "metadata": {},
   "source": [
    "### Get the model"
   ]
  },
  {
   "cell_type": "code",
   "execution_count": 4,
   "id": "c0986ede-681b-49e4-890e-ca48d720e963",
   "metadata": {},
   "outputs": [
    {
     "name": "stderr",
     "output_type": "stream",
     "text": [
      "WARNING:root:You tried to specify center_unembed=True for a model using logit softcap, but this can't be done! Softcapping is not invariant upon adding a constantSetting center_unembed=False instead.\n"
     ]
    },
    {
     "data": {
      "application/vnd.jupyter.widget-view+json": {
       "model_id": "f58748e3e96a402aa93e12acf67fb103",
       "version_major": 2,
       "version_minor": 0
      },
      "text/plain": [
       "Loading checkpoint shards:   0%|          | 0/2 [00:00<?, ?it/s]"
      ]
     },
     "metadata": {},
     "output_type": "display_data"
    },
    {
     "name": "stderr",
     "output_type": "stream",
     "text": [
      "WARNING:root:You are not using LayerNorm, so the writing weights can't be centered! Skipping\n"
     ]
    },
    {
     "name": "stdout",
     "output_type": "stream",
     "text": [
      "Loaded pretrained model google/gemma-2-2b-it into HookedTransformer\n"
     ]
    }
   ],
   "source": [
    "model = HookedSAETransformer.from_pretrained(\"google/gemma-2-2b-it\")"
   ]
  },
  {
   "cell_type": "markdown",
   "id": "9478df74-1e75-43b7-a2ca-082659372b3d",
   "metadata": {},
   "source": [
    "## Get the dataset"
   ]
  },
  {
   "cell_type": "code",
   "execution_count": 5,
   "id": "b1860fa1-2fb4-4abc-b93f-c9de925d21fd",
   "metadata": {},
   "outputs": [
    {
     "data": {
      "application/vnd.jupyter.widget-view+json": {
       "model_id": "ba38d81c466f41ab90abed9fc45e215b",
       "version_major": 2,
       "version_minor": 0
      },
      "text/plain": [
       "Downloading readme:   0%|          | 0.00/359 [00:00<?, ?B/s]"
      ]
     },
     "metadata": {},
     "output_type": "display_data"
    },
    {
     "data": {
      "application/vnd.jupyter.widget-view+json": {
       "model_id": "cfb8f942f4c044518ef1507ca2589b15",
       "version_major": 2,
       "version_minor": 0
      },
      "text/plain": [
       "Downloading data:   0%|          | 0.00/7.55M [00:00<?, ?B/s]"
      ]
     },
     "metadata": {},
     "output_type": "display_data"
    },
    {
     "data": {
      "application/vnd.jupyter.widget-view+json": {
       "model_id": "7750b0537bff4d809d2ce63f2956aa5b",
       "version_major": 2,
       "version_minor": 0
      },
      "text/plain": [
       "Generating train split:   0%|          | 0/15011 [00:00<?, ? examples/s]"
      ]
     },
     "metadata": {},
     "output_type": "display_data"
    }
   ],
   "source": [
    "from datasets import load_dataset\n",
    "\n",
    "ds = load_dataset(\"santhoshmlops/Skai_Gemma_Instruct_ChatTemplate\",split = \"train\")\n",
    "text = ds[:1000]['text']\n",
    "tokenized_ds = model.tokenizer(text, return_tensors = \"pt\", padding = True)\n",
    "pairs_length = tokenized_ds['attention_mask'].sum(dim = -1).numpy()\n",
    "indices = torch.where(torch.tensor(np.logical_and(pairs_length>50, pairs_length<200)))\n",
    "text_array = np.array(text)[indices]\n",
    "samp_ind = torch.randperm(len(text_array))[:300]\n",
    "final_text = text_array[samp_ind].tolist()\n",
    "tokens = model.tokenizer(final_text, return_tensors = \"pt\", padding = True, )\n"
   ]
  },
  {
   "cell_type": "code",
   "execution_count": null,
   "id": "e8fa787b-ad8b-4311-b78b-481c5ea1c7ac",
   "metadata": {},
   "outputs": [
    {
     "data": {
      "text/plain": [
       "<Axes: ylabel='Count'>"
      ]
     },
     "execution_count": 7,
     "metadata": {},
     "output_type": "execute_result"
    },
    {
     "data": {
      "image/png": "[encoded data removed]",
      "text/plain": [
       "<Figure size 640x480 with 1 Axes>"
      ]
     },
     "metadata": {},
     "output_type": "display_data"
    }
   ],
   "source": [
    "sns.histplot(tokens['attention_mask'].sum(dim = -1).numpy())"
   ]
  },
  {
   "cell_type": "code",
   "execution_count": null,
   "id": "df80f5a0-42b6-419b-a8d5-6d5751605187",
   "metadata": {},
   "outputs": [
    {
     "data": {
      "text/plain": [
       "1202"
      ]
     },
     "execution_count": 8,
     "metadata": {},
     "output_type": "execute_result"
    }
   ],
   "source": [
    "len(torch.where(tokens['input_ids']==106)[0])# checks out 2 turns for each datapoint"
   ]
  },
  {
   "cell_type": "code",
   "execution_count": null,
   "id": "16f778d3-a376-44aa-9521-06b8f1a73b2e",
   "metadata": {},
   "outputs": [],
   "source": [
    "starts_model_turn_pos = torch.stack([torch.where(tok == 106)[0][-1] for tok in tokens[\"input_ids\"]])# get the second turn"
   ]
  },
  {
   "cell_type": "code",
   "execution_count": null,
   "id": "0dce0b89-30ac-4550-b9fa-325b0c49c02b",
   "metadata": {},
   "outputs": [
    {
     "data": {
      "text/plain": [
       "<Axes: ylabel='Count'>"
      ]
     },
     "execution_count": 10,
     "metadata": {},
     "output_type": "execute_result"
    },
    {
     "data": {
      "image/png": "[encoded data removed]",
      "text/plain": [
       "<Figure size 640x480 with 1 Axes>"
      ]
     },
     "metadata": {},
     "output_type": "display_data"
    }
   ],
   "source": [
    "sns.histplot(tokens['attention_mask'].sum(dim = -1)-starts_model_turn_pos)"
   ]
  },
  {
   "cell_type": "code",
   "execution_count": null,
   "id": "ef8d37f1-4430-44b1-97bd-04ac7ba10aef",
   "metadata": {},
   "outputs": [
    {
     "name": "stderr",
     "output_type": "stream",
     "text": [
      "0it [00:00, ?it/s]"
     ]
    },
    {
     "name": "stderr",
     "output_type": "stream",
     "text": [
      "63it [00:13,  4.51it/s]\n"
     ]
    },
    {
     "ename": "KeyboardInterrupt",
     "evalue": "",
     "output_type": "error",
     "traceback": [
      "\u001b[0;31m---------------------------------------------------------------------------\u001b[0m",
      "\u001b[0;31mKeyboardInterrupt\u001b[0m                         Traceback (most recent call last)",
      "Cell \u001b[0;32mIn[9], line 12\u001b[0m\n\u001b[1;32m     10\u001b[0m     cache \u001b[38;5;241m=\u001b[39m {}\n\u001b[1;32m     11\u001b[0m     \u001b[38;5;28;01mwith\u001b[39;00m model\u001b[38;5;241m.\u001b[39mhooks(fwd_hooks\u001b[38;5;241m=\u001b[39m[(get_act_name(\u001b[38;5;124m\"\u001b[39m\u001b[38;5;124mpre\u001b[39m\u001b[38;5;124m\"\u001b[39m,i),hook_fn) \u001b[38;5;28;01mfor\u001b[39;00m i \u001b[38;5;129;01min\u001b[39;00m \u001b[38;5;28mrange\u001b[39m(\u001b[38;5;241m0\u001b[39m,model\u001b[38;5;241m.\u001b[39mcfg\u001b[38;5;241m.\u001b[39mn_layers)]),torch\u001b[38;5;241m.\u001b[39mno_grad():  \n\u001b[0;32m---> 12\u001b[0m         _ \u001b[38;5;241m=\u001b[39m \u001b[43mmodel\u001b[49m\u001b[43m(\u001b[49m\u001b[43mt\u001b[49m\u001b[43m)\u001b[49m\n\u001b[1;32m     13\u001b[0m         all_acts[\u001b[38;5;124mf\u001b[39m\u001b[38;5;124m\"\u001b[39m\u001b[38;5;124mQuery \u001b[39m\u001b[38;5;132;01m{\u001b[39;00mi\u001b[38;5;132;01m}\u001b[39;00m\u001b[38;5;124m\"\u001b[39m] \u001b[38;5;241m=\u001b[39m cache\n\u001b[1;32m     16\u001b[0m acts \u001b[38;5;241m=\u001b[39m torch\u001b[38;5;241m.\u001b[39mstack([torch\u001b[38;5;241m.\u001b[39mstack([v \u001b[38;5;28;01mfor\u001b[39;00m k,v \u001b[38;5;129;01min\u001b[39;00m val\u001b[38;5;241m.\u001b[39mitems()])\u001b[38;5;28;01mfor\u001b[39;00m key,val \u001b[38;5;129;01min\u001b[39;00m all_acts\u001b[38;5;241m.\u001b[39mitems()])\n",
      "File \u001b[0;32m/opt/conda/lib/python3.10/site-packages/torch/nn/modules/module.py:1511\u001b[0m, in \u001b[0;36mModule._wrapped_call_impl\u001b[0;34m(self, *args, **kwargs)\u001b[0m\n\u001b[1;32m   1509\u001b[0m     \u001b[38;5;28;01mreturn\u001b[39;00m \u001b[38;5;28mself\u001b[39m\u001b[38;5;241m.\u001b[39m_compiled_call_impl(\u001b[38;5;241m*\u001b[39margs, \u001b[38;5;241m*\u001b[39m\u001b[38;5;241m*\u001b[39mkwargs)  \u001b[38;5;66;03m# type: ignore[misc]\u001b[39;00m\n\u001b[1;32m   1510\u001b[0m \u001b[38;5;28;01melse\u001b[39;00m:\n\u001b[0;32m-> 1511\u001b[0m     \u001b[38;5;28;01mreturn\u001b[39;00m \u001b[38;5;28;43mself\u001b[39;49m\u001b[38;5;241;43m.\u001b[39;49m\u001b[43m_call_impl\u001b[49m\u001b[43m(\u001b[49m\u001b[38;5;241;43m*\u001b[39;49m\u001b[43margs\u001b[49m\u001b[43m,\u001b[49m\u001b[43m \u001b[49m\u001b[38;5;241;43m*\u001b[39;49m\u001b[38;5;241;43m*\u001b[39;49m\u001b[43mkwargs\u001b[49m\u001b[43m)\u001b[49m\n",
      "File \u001b[0;32m/opt/conda/lib/python3.10/site-packages/torch/nn/modules/module.py:1520\u001b[0m, in \u001b[0;36mModule._call_impl\u001b[0;34m(self, *args, **kwargs)\u001b[0m\n\u001b[1;32m   1515\u001b[0m \u001b[38;5;66;03m# If we don't have any hooks, we want to skip the rest of the logic in\u001b[39;00m\n\u001b[1;32m   1516\u001b[0m \u001b[38;5;66;03m# this function, and just call forward.\u001b[39;00m\n\u001b[1;32m   1517\u001b[0m \u001b[38;5;28;01mif\u001b[39;00m \u001b[38;5;129;01mnot\u001b[39;00m (\u001b[38;5;28mself\u001b[39m\u001b[38;5;241m.\u001b[39m_backward_hooks \u001b[38;5;129;01mor\u001b[39;00m \u001b[38;5;28mself\u001b[39m\u001b[38;5;241m.\u001b[39m_backward_pre_hooks \u001b[38;5;129;01mor\u001b[39;00m \u001b[38;5;28mself\u001b[39m\u001b[38;5;241m.\u001b[39m_forward_hooks \u001b[38;5;129;01mor\u001b[39;00m \u001b[38;5;28mself\u001b[39m\u001b[38;5;241m.\u001b[39m_forward_pre_hooks\n\u001b[1;32m   1518\u001b[0m         \u001b[38;5;129;01mor\u001b[39;00m _global_backward_pre_hooks \u001b[38;5;129;01mor\u001b[39;00m _global_backward_hooks\n\u001b[1;32m   1519\u001b[0m         \u001b[38;5;129;01mor\u001b[39;00m _global_forward_hooks \u001b[38;5;129;01mor\u001b[39;00m _global_forward_pre_hooks):\n\u001b[0;32m-> 1520\u001b[0m     \u001b[38;5;28;01mreturn\u001b[39;00m \u001b[43mforward_call\u001b[49m\u001b[43m(\u001b[49m\u001b[38;5;241;43m*\u001b[39;49m\u001b[43margs\u001b[49m\u001b[43m,\u001b[49m\u001b[43m \u001b[49m\u001b[38;5;241;43m*\u001b[39;49m\u001b[38;5;241;43m*\u001b[39;49m\u001b[43mkwargs\u001b[49m\u001b[43m)\u001b[49m\n\u001b[1;32m   1522\u001b[0m \u001b[38;5;28;01mtry\u001b[39;00m:\n\u001b[1;32m   1523\u001b[0m     result \u001b[38;5;241m=\u001b[39m \u001b[38;5;28;01mNone\u001b[39;00m\n",
      "File \u001b[0;32m/opt/conda/lib/python3.10/site-packages/transformer_lens/HookedTransformer.py:561\u001b[0m, in \u001b[0;36mHookedTransformer.forward\u001b[0;34m(self, input, return_type, loss_per_token, prepend_bos, padding_side, start_at_layer, tokens, shortformer_pos_embed, attention_mask, stop_at_layer, past_kv_cache)\u001b[0m\n\u001b[1;32m    556\u001b[0m     \u001b[38;5;28;01mif\u001b[39;00m shortformer_pos_embed \u001b[38;5;129;01mis\u001b[39;00m \u001b[38;5;129;01mnot\u001b[39;00m \u001b[38;5;28;01mNone\u001b[39;00m:\n\u001b[1;32m    557\u001b[0m         shortformer_pos_embed \u001b[38;5;241m=\u001b[39m shortformer_pos_embed\u001b[38;5;241m.\u001b[39mto(\n\u001b[1;32m    558\u001b[0m             devices\u001b[38;5;241m.\u001b[39mget_device_for_block_index(i, \u001b[38;5;28mself\u001b[39m\u001b[38;5;241m.\u001b[39mcfg)\n\u001b[1;32m    559\u001b[0m         )\n\u001b[0;32m--> 561\u001b[0m     residual \u001b[38;5;241m=\u001b[39m \u001b[43mblock\u001b[49m\u001b[43m(\u001b[49m\n\u001b[1;32m    562\u001b[0m \u001b[43m        \u001b[49m\u001b[43mresidual\u001b[49m\u001b[43m,\u001b[49m\n\u001b[1;32m    563\u001b[0m \u001b[43m        \u001b[49m\u001b[38;5;66;43;03m# Cache contains a list of HookedTransformerKeyValueCache objects, one for each\u001b[39;49;00m\n\u001b[1;32m    564\u001b[0m \u001b[43m        \u001b[49m\u001b[38;5;66;43;03m# block\u001b[39;49;00m\n\u001b[1;32m    565\u001b[0m \u001b[43m        \u001b[49m\u001b[43mpast_kv_cache_entry\u001b[49m\u001b[38;5;241;43m=\u001b[39;49m\u001b[43mpast_kv_cache\u001b[49m\u001b[43m[\u001b[49m\u001b[43mi\u001b[49m\u001b[43m]\u001b[49m\u001b[43m \u001b[49m\u001b[38;5;28;43;01mif\u001b[39;49;00m\u001b[43m \u001b[49m\u001b[43mpast_kv_cache\u001b[49m\u001b[43m \u001b[49m\u001b[38;5;129;43;01mis\u001b[39;49;00m\u001b[43m \u001b[49m\u001b[38;5;129;43;01mnot\u001b[39;49;00m\u001b[43m \u001b[49m\u001b[38;5;28;43;01mNone\u001b[39;49;00m\u001b[43m \u001b[49m\u001b[38;5;28;43;01melse\u001b[39;49;00m\u001b[43m \u001b[49m\u001b[38;5;28;43;01mNone\u001b[39;49;00m\u001b[43m,\u001b[49m\n\u001b[1;32m    566\u001b[0m \u001b[43m        \u001b[49m\u001b[43mshortformer_pos_embed\u001b[49m\u001b[38;5;241;43m=\u001b[39;49m\u001b[43mshortformer_pos_embed\u001b[49m\u001b[43m,\u001b[49m\n\u001b[1;32m    567\u001b[0m \u001b[43m        \u001b[49m\u001b[43mattention_mask\u001b[49m\u001b[38;5;241;43m=\u001b[39;49m\u001b[43mattention_mask\u001b[49m\u001b[43m,\u001b[49m\n\u001b[1;32m    568\u001b[0m \u001b[43m    \u001b[49m\u001b[43m)\u001b[49m  \u001b[38;5;66;03m# [batch, pos, d_model]\u001b[39;00m\n\u001b[1;32m    570\u001b[0m \u001b[38;5;28;01mif\u001b[39;00m stop_at_layer \u001b[38;5;129;01mis\u001b[39;00m \u001b[38;5;129;01mnot\u001b[39;00m \u001b[38;5;28;01mNone\u001b[39;00m:\n\u001b[1;32m    571\u001b[0m     \u001b[38;5;66;03m# When we stop at an early layer, we end here rather than doing further computation\u001b[39;00m\n\u001b[1;32m    572\u001b[0m     \u001b[38;5;28;01mreturn\u001b[39;00m residual\n",
      "File \u001b[0;32m/opt/conda/lib/python3.10/site-packages/torch/nn/modules/module.py:1511\u001b[0m, in \u001b[0;36mModule._wrapped_call_impl\u001b[0;34m(self, *args, **kwargs)\u001b[0m\n\u001b[1;32m   1509\u001b[0m     \u001b[38;5;28;01mreturn\u001b[39;00m \u001b[38;5;28mself\u001b[39m\u001b[38;5;241m.\u001b[39m_compiled_call_impl(\u001b[38;5;241m*\u001b[39margs, \u001b[38;5;241m*\u001b[39m\u001b[38;5;241m*\u001b[39mkwargs)  \u001b[38;5;66;03m# type: ignore[misc]\u001b[39;00m\n\u001b[1;32m   1510\u001b[0m \u001b[38;5;28;01melse\u001b[39;00m:\n\u001b[0;32m-> 1511\u001b[0m     \u001b[38;5;28;01mreturn\u001b[39;00m \u001b[38;5;28;43mself\u001b[39;49m\u001b[38;5;241;43m.\u001b[39;49m\u001b[43m_call_impl\u001b[49m\u001b[43m(\u001b[49m\u001b[38;5;241;43m*\u001b[39;49m\u001b[43margs\u001b[49m\u001b[43m,\u001b[49m\u001b[43m \u001b[49m\u001b[38;5;241;43m*\u001b[39;49m\u001b[38;5;241;43m*\u001b[39;49m\u001b[43mkwargs\u001b[49m\u001b[43m)\u001b[49m\n",
      "File \u001b[0;32m/opt/conda/lib/python3.10/site-packages/torch/nn/modules/module.py:1520\u001b[0m, in \u001b[0;36mModule._call_impl\u001b[0;34m(self, *args, **kwargs)\u001b[0m\n\u001b[1;32m   1515\u001b[0m \u001b[38;5;66;03m# If we don't have any hooks, we want to skip the rest of the logic in\u001b[39;00m\n\u001b[1;32m   1516\u001b[0m \u001b[38;5;66;03m# this function, and just call forward.\u001b[39;00m\n\u001b[1;32m   1517\u001b[0m \u001b[38;5;28;01mif\u001b[39;00m \u001b[38;5;129;01mnot\u001b[39;00m (\u001b[38;5;28mself\u001b[39m\u001b[38;5;241m.\u001b[39m_backward_hooks \u001b[38;5;129;01mor\u001b[39;00m \u001b[38;5;28mself\u001b[39m\u001b[38;5;241m.\u001b[39m_backward_pre_hooks \u001b[38;5;129;01mor\u001b[39;00m \u001b[38;5;28mself\u001b[39m\u001b[38;5;241m.\u001b[39m_forward_hooks \u001b[38;5;129;01mor\u001b[39;00m \u001b[38;5;28mself\u001b[39m\u001b[38;5;241m.\u001b[39m_forward_pre_hooks\n\u001b[1;32m   1518\u001b[0m         \u001b[38;5;129;01mor\u001b[39;00m _global_backward_pre_hooks \u001b[38;5;129;01mor\u001b[39;00m _global_backward_hooks\n\u001b[1;32m   1519\u001b[0m         \u001b[38;5;129;01mor\u001b[39;00m _global_forward_hooks \u001b[38;5;129;01mor\u001b[39;00m _global_forward_pre_hooks):\n\u001b[0;32m-> 1520\u001b[0m     \u001b[38;5;28;01mreturn\u001b[39;00m \u001b[43mforward_call\u001b[49m\u001b[43m(\u001b[49m\u001b[38;5;241;43m*\u001b[39;49m\u001b[43margs\u001b[49m\u001b[43m,\u001b[49m\u001b[43m \u001b[49m\u001b[38;5;241;43m*\u001b[39;49m\u001b[38;5;241;43m*\u001b[39;49m\u001b[43mkwargs\u001b[49m\u001b[43m)\u001b[49m\n\u001b[1;32m   1522\u001b[0m \u001b[38;5;28;01mtry\u001b[39;00m:\n\u001b[1;32m   1523\u001b[0m     result \u001b[38;5;241m=\u001b[39m \u001b[38;5;28;01mNone\u001b[39;00m\n",
      "File \u001b[0;32m/opt/conda/lib/python3.10/site-packages/transformer_lens/components/transformer_block.py:173\u001b[0m, in \u001b[0;36mTransformerBlock.forward\u001b[0;34m(self, resid_pre, shortformer_pos_embed, past_kv_cache_entry, attention_mask)\u001b[0m\n\u001b[1;32m    155\u001b[0m attn_out \u001b[38;5;241m=\u001b[39m (\n\u001b[1;32m    156\u001b[0m     \u001b[38;5;66;03m# hook the residual stream states that are used to calculate the\u001b[39;00m\n\u001b[1;32m    157\u001b[0m     \u001b[38;5;66;03m# queries, keys and values, independently.\u001b[39;00m\n\u001b[0;32m   (...)\u001b[0m\n\u001b[1;32m    167\u001b[0m     )\n\u001b[1;32m    168\u001b[0m )  \u001b[38;5;66;03m# [batch, pos, d_model]\u001b[39;00m\n\u001b[1;32m    169\u001b[0m \u001b[38;5;28;01mif\u001b[39;00m \u001b[38;5;28mself\u001b[39m\u001b[38;5;241m.\u001b[39mcfg\u001b[38;5;241m.\u001b[39muse_normalization_before_and_after:\n\u001b[1;32m    170\u001b[0m     \u001b[38;5;66;03m# If we use LayerNorm both before and after, then apply the second LN after the layer\u001b[39;00m\n\u001b[1;32m    171\u001b[0m     \u001b[38;5;66;03m# and before the hook. We do it before the hook so hook_attn_out captures \"that which\u001b[39;00m\n\u001b[1;32m    172\u001b[0m     \u001b[38;5;66;03m# is added to the residual stream\"\u001b[39;00m\n\u001b[0;32m--> 173\u001b[0m     attn_out \u001b[38;5;241m=\u001b[39m \u001b[38;5;28;43mself\u001b[39;49m\u001b[38;5;241;43m.\u001b[39;49m\u001b[43mln1_post\u001b[49m\u001b[43m(\u001b[49m\u001b[43mattn_out\u001b[49m\u001b[43m)\u001b[49m\n\u001b[1;32m    174\u001b[0m attn_out \u001b[38;5;241m=\u001b[39m \u001b[38;5;28mself\u001b[39m\u001b[38;5;241m.\u001b[39mhook_attn_out(attn_out)\n\u001b[1;32m    175\u001b[0m \u001b[38;5;28;01mif\u001b[39;00m \u001b[38;5;129;01mnot\u001b[39;00m \u001b[38;5;28mself\u001b[39m\u001b[38;5;241m.\u001b[39mcfg\u001b[38;5;241m.\u001b[39mattn_only \u001b[38;5;129;01mand\u001b[39;00m \u001b[38;5;129;01mnot\u001b[39;00m \u001b[38;5;28mself\u001b[39m\u001b[38;5;241m.\u001b[39mcfg\u001b[38;5;241m.\u001b[39mparallel_attn_mlp:\n",
      "File \u001b[0;32m/opt/conda/lib/python3.10/site-packages/torch/nn/modules/module.py:1511\u001b[0m, in \u001b[0;36mModule._wrapped_call_impl\u001b[0;34m(self, *args, **kwargs)\u001b[0m\n\u001b[1;32m   1509\u001b[0m     \u001b[38;5;28;01mreturn\u001b[39;00m \u001b[38;5;28mself\u001b[39m\u001b[38;5;241m.\u001b[39m_compiled_call_impl(\u001b[38;5;241m*\u001b[39margs, \u001b[38;5;241m*\u001b[39m\u001b[38;5;241m*\u001b[39mkwargs)  \u001b[38;5;66;03m# type: ignore[misc]\u001b[39;00m\n\u001b[1;32m   1510\u001b[0m \u001b[38;5;28;01melse\u001b[39;00m:\n\u001b[0;32m-> 1511\u001b[0m     \u001b[38;5;28;01mreturn\u001b[39;00m \u001b[38;5;28;43mself\u001b[39;49m\u001b[38;5;241;43m.\u001b[39;49m\u001b[43m_call_impl\u001b[49m\u001b[43m(\u001b[49m\u001b[38;5;241;43m*\u001b[39;49m\u001b[43margs\u001b[49m\u001b[43m,\u001b[49m\u001b[43m \u001b[49m\u001b[38;5;241;43m*\u001b[39;49m\u001b[38;5;241;43m*\u001b[39;49m\u001b[43mkwargs\u001b[49m\u001b[43m)\u001b[49m\n",
      "File \u001b[0;32m/opt/conda/lib/python3.10/site-packages/torch/nn/modules/module.py:1520\u001b[0m, in \u001b[0;36mModule._call_impl\u001b[0;34m(self, *args, **kwargs)\u001b[0m\n\u001b[1;32m   1515\u001b[0m \u001b[38;5;66;03m# If we don't have any hooks, we want to skip the rest of the logic in\u001b[39;00m\n\u001b[1;32m   1516\u001b[0m \u001b[38;5;66;03m# this function, and just call forward.\u001b[39;00m\n\u001b[1;32m   1517\u001b[0m \u001b[38;5;28;01mif\u001b[39;00m \u001b[38;5;129;01mnot\u001b[39;00m (\u001b[38;5;28mself\u001b[39m\u001b[38;5;241m.\u001b[39m_backward_hooks \u001b[38;5;129;01mor\u001b[39;00m \u001b[38;5;28mself\u001b[39m\u001b[38;5;241m.\u001b[39m_backward_pre_hooks \u001b[38;5;129;01mor\u001b[39;00m \u001b[38;5;28mself\u001b[39m\u001b[38;5;241m.\u001b[39m_forward_hooks \u001b[38;5;129;01mor\u001b[39;00m \u001b[38;5;28mself\u001b[39m\u001b[38;5;241m.\u001b[39m_forward_pre_hooks\n\u001b[1;32m   1518\u001b[0m         \u001b[38;5;129;01mor\u001b[39;00m _global_backward_pre_hooks \u001b[38;5;129;01mor\u001b[39;00m _global_backward_hooks\n\u001b[1;32m   1519\u001b[0m         \u001b[38;5;129;01mor\u001b[39;00m _global_forward_hooks \u001b[38;5;129;01mor\u001b[39;00m _global_forward_pre_hooks):\n\u001b[0;32m-> 1520\u001b[0m     \u001b[38;5;28;01mreturn\u001b[39;00m \u001b[43mforward_call\u001b[49m\u001b[43m(\u001b[49m\u001b[38;5;241;43m*\u001b[39;49m\u001b[43margs\u001b[49m\u001b[43m,\u001b[49m\u001b[43m \u001b[49m\u001b[38;5;241;43m*\u001b[39;49m\u001b[38;5;241;43m*\u001b[39;49m\u001b[43mkwargs\u001b[49m\u001b[43m)\u001b[49m\n\u001b[1;32m   1522\u001b[0m \u001b[38;5;28;01mtry\u001b[39;00m:\n\u001b[1;32m   1523\u001b[0m     result \u001b[38;5;241m=\u001b[39m \u001b[38;5;28;01mNone\u001b[39;00m\n",
      "File \u001b[0;32m/opt/conda/lib/python3.10/site-packages/transformer_lens/components/rms_norm.py:42\u001b[0m, in \u001b[0;36mRMSNorm.forward\u001b[0;34m(self, x)\u001b[0m\n\u001b[1;32m     39\u001b[0m \u001b[38;5;28;01mif\u001b[39;00m \u001b[38;5;28mself\u001b[39m\u001b[38;5;241m.\u001b[39mcfg\u001b[38;5;241m.\u001b[39mdtype \u001b[38;5;129;01mnot\u001b[39;00m \u001b[38;5;129;01min\u001b[39;00m [torch\u001b[38;5;241m.\u001b[39mfloat32, torch\u001b[38;5;241m.\u001b[39mfloat64]:\n\u001b[1;32m     40\u001b[0m     x \u001b[38;5;241m=\u001b[39m x\u001b[38;5;241m.\u001b[39mto(torch\u001b[38;5;241m.\u001b[39mfloat32)\n\u001b[1;32m     41\u001b[0m scale: Float[torch\u001b[38;5;241m.\u001b[39mTensor, \u001b[38;5;124m\"\u001b[39m\u001b[38;5;124mbatch pos 1\u001b[39m\u001b[38;5;124m\"\u001b[39m] \u001b[38;5;241m=\u001b[39m \u001b[38;5;28mself\u001b[39m\u001b[38;5;241m.\u001b[39mhook_scale(\n\u001b[0;32m---> 42\u001b[0m     \u001b[43m(\u001b[49m\u001b[43mx\u001b[49m\u001b[38;5;241;43m.\u001b[39;49m\u001b[43mpow\u001b[49m\u001b[43m(\u001b[49m\u001b[38;5;241;43m2\u001b[39;49m\u001b[43m)\u001b[49m\u001b[38;5;241;43m.\u001b[39;49m\u001b[43mmean\u001b[49m\u001b[43m(\u001b[49m\u001b[38;5;241;43m-\u001b[39;49m\u001b[38;5;241;43m1\u001b[39;49m\u001b[43m,\u001b[49m\u001b[43m \u001b[49m\u001b[43mkeepdim\u001b[49m\u001b[38;5;241;43m=\u001b[39;49m\u001b[38;5;28;43;01mTrue\u001b[39;49;00m\u001b[43m)\u001b[49m\u001b[43m \u001b[49m\u001b[38;5;241;43m+\u001b[39;49m\u001b[43m \u001b[49m\u001b[38;5;28;43mself\u001b[39;49m\u001b[38;5;241;43m.\u001b[39;49m\u001b[43meps\u001b[49m\u001b[43m)\u001b[49m\u001b[38;5;241;43m.\u001b[39;49m\u001b[43msqrt\u001b[49m\u001b[43m(\u001b[49m\u001b[43m)\u001b[49m\n\u001b[1;32m     43\u001b[0m )\n\u001b[1;32m     44\u001b[0m x \u001b[38;5;241m=\u001b[39m \u001b[38;5;28mself\u001b[39m\u001b[38;5;241m.\u001b[39mhook_normalized(x \u001b[38;5;241m/\u001b[39m scale)\u001b[38;5;241m.\u001b[39mto(\u001b[38;5;28mself\u001b[39m\u001b[38;5;241m.\u001b[39mcfg\u001b[38;5;241m.\u001b[39mdtype)  \u001b[38;5;66;03m# [batch, pos, length]\u001b[39;00m\n\u001b[1;32m     45\u001b[0m \u001b[38;5;28;01mreturn\u001b[39;00m x \u001b[38;5;241m*\u001b[39m \u001b[38;5;28mself\u001b[39m\u001b[38;5;241m.\u001b[39mw\n",
      "\u001b[0;31mKeyboardInterrupt\u001b[0m: "
     ]
    }
   ],
   "source": [
    "from functools import partial\n",
    "tokens = model.to_tokens(final_text,prepend_bos = False)\n",
    "def caching_hook(activations, hook, pos = None):\n",
    "    cache[hook.name] = activations.to(\"cpu\")[:,pos+1,:]\n",
    "\n",
    "all_acts = {}\n",
    "for i,t in tqdm.tqdm(enumerate(tokens)):\n",
    "    pos = starts_model_turn_pos[i]\n",
    "    hook_fn = partial(caching_hook, pos = pos)\n",
    "    cache = {}\n",
    "    with model.hooks(fwd_hooks=[(get_act_name(\"pre\",i),hook_fn) for i in range(0,model.cfg.n_layers)]),torch.no_grad():  \n",
    "        _ = model(t)\n",
    "        all_acts[f\"Query {i}\"] = cache\n",
    "\n",
    "\n",
    "acts = torch.stack([torch.stack([v for k,v in val.items()])for key,val in all_acts.items()])\n",
    "tokens = model.tokenizer(final_text, return_tensors = \"pt\", padding = True, )\n",
    "lengths = (tokens['attention_mask'].sum(dim = -1)-starts_model_turn_pos).tolist()\n",
    "lengths = torch.tensor(lengths, dtype=torch.float32)"
   ]
  },
  {
   "cell_type": "code",
   "execution_count": null,
   "id": "f334f13b-3a38-423f-8f97-fbd791672466",
   "metadata": {},
   "outputs": [],
   "source": [
    "import torch\n",
    "import torch.nn as nn\n",
    "from sklearn.model_selection import train_test_split\n",
    "\n",
    "import torch\n",
    "import torch.nn as nn\n",
    "from sklearn.model_selection import train_test_split\n",
    "from sklearn.preprocessing import KBinsDiscretizer\n",
    "\n",
    "def train_classification_probe(act, target, test_size=0.2, l1_lambda=0.01, num_epochs=20, top_k=10, n_bins=4):\n",
    "\n",
    "\n",
    "    # Discretize the target into bins\n",
    "    est = KBinsDiscretizer(n_bins=n_bins, encode='ordinal', strategy='uniform')\n",
    "    target_binned = est.fit_transform(target.reshape(-1, 1)).squeeze().astype(int)\n",
    "    target_binned = torch.tensor(target_binned, dtype=torch.long)  # Convert to tensor of longs\n",
    "\n",
    "    # Split the data into train and test sets\n",
    "    train_activations, test_activations, train_labels, test_labels = train_test_split(\n",
    "        act, target_binned, test_size=test_size, random_state=42\n",
    "    )\n",
    "\n",
    "    # Ensure that train_labels and test_labels are 1D tensors\n",
    "    train_labels = train_labels.squeeze()  # Ensure shape [batch_size]\n",
    "    test_labels = test_labels.squeeze()    # Ensure shape [batch_size]\n",
    "\n",
    "    # Define a linear classification probe with L1 regularization\n",
    "    class ClassificationProbe(nn.Module):\n",
    "        def __init__(self, input_size, n_classes):\n",
    "            super(ClassificationProbe, self).__init__()\n",
    "            self.fc = nn.Linear(input_size, n_classes)  # Output logits for each class\n",
    "        \n",
    "        def forward(self, x):\n",
    "            return self.fc(x)\n",
    "\n",
    "    probe = ClassificationProbe(input_size=act.size(-1), n_classes=n_bins)\n",
    "\n",
    "    # Define the loss function and optimizer with L1 regularization\n",
    "    criterion = nn.CrossEntropyLoss()  # Cross-Entropy loss for classification\n",
    "    optimizer = torch.optim.Adam(probe.parameters(), lr=1e-3)\n",
    "\n",
    "    # Training loop\n",
    "    for epoch in range(num_epochs):\n",
    "        probe.train()\n",
    "        \n",
    "        optimizer.zero_grad()\n",
    "        predictions = probe(train_activations)\n",
    "        \n",
    "        # Compute the loss with L1 regularization\n",
    "        l1_norm = sum(p.abs().sum() for p in probe.parameters())\n",
    "        loss = criterion(predictions, train_labels) + l1_lambda * l1_norm\n",
    "        \n",
    "        loss.backward()\n",
    "        optimizer.step()\n",
    "        \n",
    "        # Print the loss for monitoring\n",
    "        if (epoch + 1) % 5 == 0:\n",
    "            print(f'Epoch [{epoch + 1}/{num_epochs}], Loss: {loss.item():.4f}')\n",
    "\n",
    "    # Evaluate the probe on the test set\n",
    "    probe.eval()\n",
    "    with torch.no_grad():\n",
    "        test_predictions = probe(test_activations)\n",
    "        test_loss = criterion(test_predictions, test_labels)\n",
    "\n",
    "        # Calculate accuracy\n",
    "        _, predicted_labels = torch.max(test_predictions, 1)\n",
    "        accuracy = (predicted_labels == test_labels).float().mean()\n",
    "        print(f'Test Loss: {test_loss.item():.4f}')\n",
    "        print(f'Test Accuracy: {accuracy.item() * 100:.2f}%')\n",
    "\n",
    "    # After training, analyze the weights of the probe to find the top-k important features\n",
    "    weights = probe.fc.weight.data.abs()  # Take the absolute value of weights\n",
    "    top_k_indices = weights.topk(k=top_k, dim=-1).indices  # Get the indices of top-k weights\n",
    "\n",
    "    print(f\"Top-{top_k} important activations indices: {top_k_indices}\")\n",
    "\n",
    "    return top_k_indices, accuracy.item()"
   ]
  },
  {
   "cell_type": "code",
   "execution_count": null,
   "id": "ddc41049-f1b7-4dcf-85ef-9cd5ccbd0100",
   "metadata": {},
   "outputs": [
    {
     "ename": "NameError",
     "evalue": "name 'acts' is not defined",
     "output_type": "error",
     "traceback": [
      "\u001b[0;31m---------------------------------------------------------------------------\u001b[0m",
      "\u001b[0;31mNameError\u001b[0m                                 Traceback (most recent call last)",
      "Cell \u001b[0;32mIn[11], line 3\u001b[0m\n\u001b[1;32m      1\u001b[0m all_test_losses \u001b[38;5;241m=\u001b[39m []\n\u001b[1;32m      2\u001b[0m \u001b[38;5;28;01mfor\u001b[39;00m i \u001b[38;5;129;01min\u001b[39;00m \u001b[38;5;28mrange\u001b[39m(model\u001b[38;5;241m.\u001b[39mcfg\u001b[38;5;241m.\u001b[39mn_layers):\n\u001b[0;32m----> 3\u001b[0m     act \u001b[38;5;241m=\u001b[39m \u001b[43macts\u001b[49m[:,i,:,:]\n\u001b[1;32m      4\u001b[0m     k_idx, test_loss \u001b[38;5;241m=\u001b[39m train_classification_probe(act,lengths)\n\u001b[1;32m      5\u001b[0m     all_test_losses\u001b[38;5;241m.\u001b[39mappend(test_loss)\n",
      "\u001b[0;31mNameError\u001b[0m: name 'acts' is not defined"
     ]
    }
   ],
   "source": [
    "all_test_losses = []\n",
    "for i in range(model.cfg.n_layers):\n",
    "    act = acts[:,i,:,:]\n",
    "    k_idx, test_loss = train_classification_probe(act,lengths)\n",
    "    all_test_losses.append(test_loss)\n"
   ]
  },
  {
   "cell_type": "code",
   "execution_count": null,
   "id": "47794743-37ce-4185-bb9d-2853361bf146",
   "metadata": {},
   "outputs": [
    {
     "data": {
      "image/png": "[encoded data removed]",
      "text/plain": [
       "<Figure size 640x480 with 1 Axes>"
      ]
     },
     "metadata": {},
     "output_type": "display_data"
    }
   ],
   "source": [
    "sns.lineplot(all_test_losses)\n",
    "plt.show()"
   ]
  },
  {
   "cell_type": "markdown",
   "id": "4edc032c-4422-474b-95eb-eb589242c3ea",
   "metadata": {},
   "source": []
  },
  {
   "cell_type": "code",
   "execution_count": null,
   "id": "6eaa77a6-2266-4599-b44a-8c188514b98b",
   "metadata": {},
   "outputs": [],
   "source": [
    "_,cache = model.run_with_cache(\"the\")"
   ]
  },
  {
   "cell_type": "code",
   "execution_count": null,
   "id": "24e7be4f-2250-49fc-bdaa-935c7941bf0b",
   "metadata": {},
   "outputs": [],
   "source": [
    "import einops"
   ]
  },
  {
   "cell_type": "code",
   "execution_count": null,
   "id": "e65d54d9-e69f-4965-beeb-bef5e29a2d3a",
   "metadata": {},
   "outputs": [],
   "source": [
    "tokens = model.to_tokens(final_text[0], prepend_bos = False)\n",
    "def caching_hook(activations, hook, pos = None):\n",
    "    cache[hook.name] = activations.to(\"cpu\")\n",
    "\n",
    "hook_fn = partial(caching_hook, pos = None)\n",
    "cache = {}\n",
    "with model.hooks(fwd_hooks=[(get_act_name(\"resid_post\",i),hook_fn) for i in range(0,model.cfg.n_layers)]),torch.no_grad():  \n",
    "    _ = model(tokens)\n"
   ]
  },
  {
   "cell_type": "code",
   "execution_count": null,
   "id": "bd6b142a-dee9-489a-b839-e4633e51f138",
   "metadata": {},
   "outputs": [],
   "source": [
    "resid_stack = torch.stack([val for key,val in cache.items()]).to(\"cpu\").detach()\n",
    "eot_token = model.to_tokens(\"<end_of_turn>\", prepend_bos = False).item()\n",
    "eot_dir = model.W_U[:,eot_token].to(\"cpu\").detach()\n",
    "dir_across_layers_pos = einops.einsum(eot_dir, resid_stack,\"d_model,n_layers batch pos d_model -> n_layers batch pos\" )[:,0]"
   ]
  },
  {
   "cell_type": "code",
   "execution_count": null,
   "id": "aeac2a43-ba20-4c25-9e99-cca0e9c09f41",
   "metadata": {},
   "outputs": [
    {
     "data": {
      "image/png": "[encoded data removed]",
      "text/plain": [
       "<Figure size 640x480 with 2 Axes>"
      ]
     },
     "metadata": {},
     "output_type": "display_data"
    }
   ],
   "source": [
    "sns.heatmap(dir_across_layers_pos)\n",
    "plt.show()"
   ]
  },
  {
   "cell_type": "code",
   "execution_count": null,
   "id": "af8780a0-c937-4284-8859-d1af2f48265d",
   "metadata": {},
   "outputs": [],
   "source": [
    "pattern_hook_names_filter = lambda name: name.endswith(\"hook_resid_pre\") or name.endswith(\"25.hook_resid_post\") or  name.endswith('ln_final.hook_scale'\n",
    "\n",
    ")\n",
    "\n",
    "_,cache = model.run_with_cache(tokens,names_filter = pattern_hook_names_filter)\n",
    "accum_resid, labels = cache.accumulated_resid(return_labels=True, apply_ln=True)\n"
   ]
  },
  {
   "cell_type": "code",
   "execution_count": null,
   "id": "6346973c-3d23-4c8e-aaa3-528e406b1a3f",
   "metadata": {},
   "outputs": [],
   "source": [
    "\n",
    "resid_stack = accum_resid[:-2].to(\"cpu\").detach()\n",
    "eot_token = model.to_tokens(\"<end_of_turn>\", prepend_bos = False).item()\n",
    "eot_dir = model.W_U[:,eot_token].to(\"cpu\").detach()\n",
    "dir_across_layers_pos = einops.einsum(eot_dir, resid_stack,\"d_model,n_layers batch pos d_model -> n_layers batch pos\" )[:,0]\n"
   ]
  },
  {
   "cell_type": "code",
   "execution_count": null,
   "id": "8f7c24ff-ad1f-4c28-9cd6-6d359e50ea4d",
   "metadata": {},
   "outputs": [
    {
     "data": {
      "image/png": "[encoded data removed]",
      "text/plain": [
       "<Figure size 640x480 with 2 Axes>"
      ]
     },
     "metadata": {},
     "output_type": "display_data"
    }
   ],
   "source": [
    "sns.heatmap(dir_across_layers_pos[:,:-1])\n",
    "plt.show()"
   ]
  },
  {
   "cell_type": "code",
   "execution_count": null,
   "id": "7610a12f-72bf-4460-8a09-f749c02baf50",
   "metadata": {},
   "outputs": [],
   "source": [
    "w_u = model.W_U.detach().to(\"cpu\")\n",
    "logit_lens = einops.einsum(w_u, resid_stack[-1,0,-10:,:].detach(),\"d_model d_vocab ,pos d_model -> d_vocab pos\" )\n"
   ]
  },
  {
   "cell_type": "code",
   "execution_count": null,
   "id": "e015a349-bea1-4692-ae48-6d69d638e08f",
   "metadata": {
    "scrolled": true
   },
   "outputs": [
    {
     "name": "stdout",
     "output_type": "stream",
     "text": [
      "['2', '1', ' farm', ' animals', '.', ' total', '.', ' ', '\\n', '<eos>']\n",
      "['3', '2', ' Farm', ' animal', ' in', ' totale', '\\n\\n', '\\n\\n', '\\n\\n', 'ryl']\n",
      "[' ', '0', ' total', 'animal', ' total', 'total', ' ', '\\n', '\\n\\n\\n', '\\n\\n\\n\\n']\n",
      "[' twenty', '7', 'farm', ' Animal', ' together', ' Total', '\\n', '  ', '\\n\\n\\n\\n', 'стри']\n",
      "['Twenty', 'CR', '\\n\\n', ' animais', '\\n\\n', ' all', ' because', '\\n\\n\\n', '\\n\\n\\n\\n\\n', '下一']\n",
      "['1', ' hồn', ' animal', 'Animal', ' ', 'Total', ',', '\\n\\n\\n\\n', '  ', 'law']\n",
      "['Thirty', 'ny', '.', ' animales', ' altogether', ' TOTAL', '!', '   ', '\\n\\n\\n\\n\\n\\n', ' replied']\n",
      "[' thirty', '3', ' animals', ' and', ',', ' the', ' if', ' The', '\\n\\n\\n\\n\\n\\n\\n', 'lamo']\n",
      "['  ', '呑', '+', ' animale', ' combined', ' addition', ' .', ' Here', '   ', 'ary']\n",
      "['\\n', ' insan', ' in', 'animals', ' on', ' totaal', '..', '\\n\\n\\n\\n\\n', '<eos>', 'Turkey']\n",
      "['4', 'жде', ' live', ' Animals', '  ', ' their', '\\n\\n\\n', ' This', ' ', 'lait']\n",
      "[' Twenty', 'กร', ' of', ' or', '\\n', ' sum', ' (', '    ', '    ', 'semantics']\n",
      "['twenty', ' disfruta', ',', '动物', ' and', 'TOTAL', ' after', ' So', '\\n\\n\\n\\n\\n\\n\\n\\n', ' görüş']\n",
      "['<b>', ' amado', ' ', '動物', ' all', ' totalt', '  ', '<eos>', '        ', 'Sap']\n",
      "['iss', ' malattie', ' (', 'Animals', ' overall', ' combination', ':', ' They', '\\n\\n\\n\\n\\n\\n\\n\\n\\n', 'ímite']\n",
      "['<strong>', ' reparar', '  ', ' ANIMAL', 'Total', ' totally', ' when', ' (', '      ', ' nearest']\n",
      "['\\n\\n', 'moja', ' living', '/', ' (', ' totals', ' which', ' We', '     ', ' Daha']\n",
      "[' Thirty', ' terrasse', ' far', '-', 'total', ' toal', ' according', ' There', '\\t', '\\n\\n\\n']\n",
      "['二十', '眯', 'Farm', ' animali', ' because', ' together', '<eos>', ' However', '1', ' erne']\n",
      "['**', '賬', ' non', ' livestock', ' Total', ' altogether', ' as', ' To', '       ', ' alms']\n"
     ]
    }
   ],
   "source": [
    "val, indices = logit_lens.topk(k = 20,dim = 0)\n",
    "for ind in indices:\n",
    "    print([model.to_string(t) for t in ind])"
   ]
  },
  {
   "cell_type": "code",
   "execution_count": null,
   "id": "c288ea42-41e6-482f-9e42-a7f4fa2b2e53",
   "metadata": {},
   "outputs": [
    {
     "data": {
      "text/plain": [
       "'<bos><start_of_turn>user Below is an instruction that describes a task. Write a response that appropriately completes the request.\\n\\n Did Harry Potter put his own name in the goblet of fire? <end_of_turn>\\n<start_of_turn>model'"
      ]
     },
     "execution_count": 200,
     "metadata": {},
     "output_type": "execute_result"
    }
   ],
   "source": [
    "text = final_text[11].split(\"<start_of_turn>model\")[0]+\"<start_of_turn>model\"\n",
    "text"
   ]
  },
  {
   "cell_type": "markdown",
   "id": "40405b10-3f89-4551-8643-e8963db1a0b9",
   "metadata": {},
   "source": [
    "### Get the generation going"
   ]
  },
  {
   "cell_type": "code",
   "execution_count": null,
   "id": "abb95101-34dd-4224-8b4a-1886bac5f216",
   "metadata": {},
   "outputs": [
    {
     "data": {
      "application/vnd.jupyter.widget-view+json": {
       "model_id": "0b120fa273c14fab8dea2656fcb0a883",
       "version_major": 2,
       "version_minor": 0
      },
      "text/plain": [
       "  0%|          | 0/400 [00:00<?, ?it/s]"
      ]
     },
     "metadata": {},
     "output_type": "display_data"
    },
    {
     "data": {
      "application/vnd.jupyter.widget-view+json": {
       "model_id": "c4d18dc53f8343aba2264b0b16eed086",
       "version_major": 2,
       "version_minor": 0
      },
      "text/plain": [
       "  0%|          | 0/400 [00:00<?, ?it/s]"
      ]
     },
     "metadata": {},
     "output_type": "display_data"
    },
    {
     "data": {
      "application/vnd.jupyter.widget-view+json": {
       "model_id": "dc119e12f3d44ad19edf9890e8e95ff7",
       "version_major": 2,
       "version_minor": 0
      },
      "text/plain": [
       "  0%|          | 0/400 [00:00<?, ?it/s]"
      ]
     },
     "metadata": {},
     "output_type": "display_data"
    },
    {
     "data": {
      "application/vnd.jupyter.widget-view+json": {
       "model_id": "ba5e0d7156bc4295b3a301f19c064b24",
       "version_major": 2,
       "version_minor": 0
      },
      "text/plain": [
       "  0%|          | 0/400 [00:00<?, ?it/s]"
      ]
     },
     "metadata": {},
     "output_type": "display_data"
    },
    {
     "data": {
      "application/vnd.jupyter.widget-view+json": {
       "model_id": "8555f06b016b48088acb9bd18f370186",
       "version_major": 2,
       "version_minor": 0
      },
      "text/plain": [
       "  0%|          | 0/400 [00:00<?, ?it/s]"
      ]
     },
     "metadata": {},
     "output_type": "display_data"
    },
    {
     "data": {
      "application/vnd.jupyter.widget-view+json": {
       "model_id": "29c4999fcd61499b9310c2dee2c3a777",
       "version_major": 2,
       "version_minor": 0
      },
      "text/plain": [
       "  0%|          | 0/400 [00:00<?, ?it/s]"
      ]
     },
     "metadata": {},
     "output_type": "display_data"
    },
    {
     "data": {
      "application/vnd.jupyter.widget-view+json": {
       "model_id": "361c9c284a53403fb463861901a3dce1",
       "version_major": 2,
       "version_minor": 0
      },
      "text/plain": [
       "  0%|          | 0/400 [00:00<?, ?it/s]"
      ]
     },
     "metadata": {},
     "output_type": "display_data"
    },
    {
     "data": {
      "application/vnd.jupyter.widget-view+json": {
       "model_id": "3fcf1c729ed14d6abfc0be6595ac08c9",
       "version_major": 2,
       "version_minor": 0
      },
      "text/plain": [
       "  0%|          | 0/400 [00:00<?, ?it/s]"
      ]
     },
     "metadata": {},
     "output_type": "display_data"
    },
    {
     "data": {
      "application/vnd.jupyter.widget-view+json": {
       "model_id": "4ec1de001f6e4d06ac5217ebcc4b8ace",
       "version_major": 2,
       "version_minor": 0
      },
      "text/plain": [
       "  0%|          | 0/400 [00:00<?, ?it/s]"
      ]
     },
     "metadata": {},
     "output_type": "display_data"
    },
    {
     "data": {
      "application/vnd.jupyter.widget-view+json": {
       "model_id": "0e01d542834943b7b22eb9ba8689bc4b",
       "version_major": 2,
       "version_minor": 0
      },
      "text/plain": [
       "  0%|          | 0/400 [00:00<?, ?it/s]"
      ]
     },
     "metadata": {},
     "output_type": "display_data"
    },
    {
     "data": {
      "application/vnd.jupyter.widget-view+json": {
       "model_id": "f4933a9675e64c679c9c41cfa9aabf9e",
       "version_major": 2,
       "version_minor": 0
      },
      "text/plain": [
       "  0%|          | 0/400 [00:00<?, ?it/s]"
      ]
     },
     "metadata": {},
     "output_type": "display_data"
    },
    {
     "data": {
      "application/vnd.jupyter.widget-view+json": {
       "model_id": "955818d5a4d5477682ffa6bfc69b06d8",
       "version_major": 2,
       "version_minor": 0
      },
      "text/plain": [
       "  0%|          | 0/400 [00:00<?, ?it/s]"
      ]
     },
     "metadata": {},
     "output_type": "display_data"
    },
    {
     "data": {
      "application/vnd.jupyter.widget-view+json": {
       "model_id": "9198b9f1438745e2abd2c01d46bc006c",
       "version_major": 2,
       "version_minor": 0
      },
      "text/plain": [
       "  0%|          | 0/400 [00:00<?, ?it/s]"
      ]
     },
     "metadata": {},
     "output_type": "display_data"
    },
    {
     "data": {
      "application/vnd.jupyter.widget-view+json": {
       "model_id": "919f3439e4d346a49c52a83e02e1463a",
       "version_major": 2,
       "version_minor": 0
      },
      "text/plain": [
       "  0%|          | 0/400 [00:00<?, ?it/s]"
      ]
     },
     "metadata": {},
     "output_type": "display_data"
    },
    {
     "data": {
      "application/vnd.jupyter.widget-view+json": {
       "model_id": "9adcad14d7eb4ff28f32c53c9c3baa30",
       "version_major": 2,
       "version_minor": 0
      },
      "text/plain": [
       "  0%|          | 0/400 [00:00<?, ?it/s]"
      ]
     },
     "metadata": {},
     "output_type": "display_data"
    },
    {
     "data": {
      "application/vnd.jupyter.widget-view+json": {
       "model_id": "cd9195c354d449899eb2d61174abb068",
       "version_major": 2,
       "version_minor": 0
      },
      "text/plain": [
       "  0%|          | 0/400 [00:00<?, ?it/s]"
      ]
     },
     "metadata": {},
     "output_type": "display_data"
    },
    {
     "data": {
      "application/vnd.jupyter.widget-view+json": {
       "model_id": "56ae4874ec9444519be93c47be876a6a",
       "version_major": 2,
       "version_minor": 0
      },
      "text/plain": [
       "  0%|          | 0/400 [00:00<?, ?it/s]"
      ]
     },
     "metadata": {},
     "output_type": "display_data"
    },
    {
     "data": {
      "application/vnd.jupyter.widget-view+json": {
       "model_id": "a2e51d881c414ed686e98863a2b203f3",
       "version_major": 2,
       "version_minor": 0
      },
      "text/plain": [
       "  0%|          | 0/400 [00:00<?, ?it/s]"
      ]
     },
     "metadata": {},
     "output_type": "display_data"
    },
    {
     "data": {
      "application/vnd.jupyter.widget-view+json": {
       "model_id": "d5df836e376d4dcdbe0416c2ad319592",
       "version_major": 2,
       "version_minor": 0
      },
      "text/plain": [
       "  0%|          | 0/400 [00:00<?, ?it/s]"
      ]
     },
     "metadata": {},
     "output_type": "display_data"
    },
    {
     "data": {
      "application/vnd.jupyter.widget-view+json": {
       "model_id": "2fe6692f11e24f32bedb4846a3828e00",
       "version_major": 2,
       "version_minor": 0
      },
      "text/plain": [
       "  0%|          | 0/400 [00:00<?, ?it/s]"
      ]
     },
     "metadata": {},
     "output_type": "display_data"
    }
   ],
   "source": [
    "from collections import defaultdict\n",
    "\n",
    "\n",
    "\n",
    "def caching_hook(activations, hook, pos = None):\n",
    "    cache[hook.name].append(activations.to(\"cpu\"))\n",
    "\n",
    "\n",
    "all_caches = {}\n",
    "for i,text in enumerate(final_text[:20]):\n",
    "    \n",
    "    cache = defaultdict(list)\n",
    "    text = final_text[11].split(\"<start_of_turn>model\")[0]+\"<start_of_turn>model\"\n",
    "    tokens = model.to_tokens(text,prepend_bos = False)\n",
    "\n",
    "          \n",
    "    with model.hooks(fwd_hooks=[(get_act_name(\"resid_post\",i),caching_hook) for i in range(0,model.cfg.n_layers)]),torch.no_grad():  \n",
    "            out = model.generate(\n",
    "                tokens,\n",
    "                max_new_tokens = 400,\n",
    "                temperature = 0.7,\n",
    "                top_p = 0.9,\n",
    "                eos_token_id=107,\n",
    "                stop_at_eos=True,\n",
    "                )\n",
    "    if out.shape[1]-tokens.shape[1]<400:\n",
    "         all_caches[f\"Query {i}\"] = cache\n",
    "    else:\n",
    "         all_caches[f\"Query {i}\"] = None\n",
    "    "
   ]
  },
  {
   "cell_type": "code",
   "execution_count": 8,
   "id": "e5921440",
   "metadata": {},
   "outputs": [],
   "source": [
    "\n",
    "tokens = model.to_tokens(final_text, prepend_bos = False)\n",
    "last_pos = [torch.where(t == 107)[0][-1].item() for t in tokens]"
   ]
  },
  {
   "cell_type": "code",
   "execution_count": 10,
   "id": "a8c6f10e-feec-4d87-bd26-e44cdbff954c",
   "metadata": {},
   "outputs": [],
   "source": [
    "#stacked_cache = {key:torch.cat([torch.cat(v, dim = 1) for v in cache.values()]) for key,cache in all_caches.items()}\n",
    "\n",
    "import pickle\n",
    "with open(\"cache_activations_resid_post.pickle\",\"rb\") as f:\n",
    "    stacked_cache = pickle.load(f)"
   ]
  },
  {
   "cell_type": "code",
   "execution_count": 13,
   "id": "f69d72a7",
   "metadata": {},
   "outputs": [],
   "source": [
    "\n",
    "repo_id = \"google/gemma-scope-2b-pt-res\"\n",
    "folder_name = \"layer_23/width_16k/average_l0_38\"\n",
    "\n",
    "config = get_gemma_2_config(repo_id, folder_name)\n",
    "cfg, state_dict, log_spar = gemma_2_sae_loader(repo_id, folder_name)"
   ]
  },
  {
   "cell_type": "code",
   "execution_count": 13,
   "id": "e79a08f5",
   "metadata": {},
   "outputs": [],
   "source": [
    "from gemma_utils import get_all_string_min_l0_resid_gemma"
   ]
  },
  {
   "cell_type": "markdown",
   "id": "59c6b0cd",
   "metadata": {},
   "source": [
    "## Use all of the SAEs for the RS for all the queries/responses\n",
    "\n",
    "We need them to be loaded iteratievely, to avoid memory issues"
   ]
  },
  {
   "cell_type": "code",
   "execution_count": 16,
   "id": "4dc0b25b",
   "metadata": {},
   "outputs": [
    {
     "name": "stderr",
     "output_type": "stream",
     "text": [
      "/tmp/ipykernel_479/924575571.py:5: FutureWarning: Series.__getitem__ treating keys as positions is deprecated. In a future version, integer keys will always be treated as labels (consistent with DataFrame behavior). To access a value by position, use `ser.iloc[pos]`\n",
      "  resid_dict = df[df['release'] == \"gemma-scope-2b-pt-res\"]['saes_map'][0]\n",
      "100%|██████████| 26/26 [00:37<00:00,  1.44s/it]\n"
     ]
    }
   ],
   "source": [
    "full_strings= get_all_string_min_l0_resid_gemma()\n",
    "sae_acts_dict = {}\n",
    "with torch.no_grad():\n",
    "    for layer in tqdm.tqdm(range(model.cfg.n_layers)):\n",
    "\n",
    "        layer_cache = {key:val[layer] for key,val in stacked_cache.items()}\n",
    "        repo_id = \"google/gemma-scope-2b-pt-res\"\n",
    "        folder_name = full_strings[layer]\n",
    "\n",
    "        config = get_gemma_2_config(repo_id, folder_name)\n",
    "        cfg, state_dict, log_spar = gemma_2_sae_loader(repo_id, folder_name)\n",
    "        sae_cfg = SAEConfig.from_dict(cfg)\n",
    "        sae = SAE(sae_cfg)\n",
    "        sae.load_state_dict(state_dict)\n",
    "        sae.to(\"cuda:0\")\n",
    "        sae_acts_dict[f\"Layer_{layer}\"] = {}\n",
    "        for key,val in layer_cache.items():\n",
    "            acts = sae.encode(layer_cache['Query 0'].to(\"cuda:0\"))\n",
    "            #acts = [torch.where(act!=0) for act in acts]\n",
    "            sae_acts_dict[f\"Layer_{layer}\"][key] = acts.detach().to(\"cpu\")\n",
    "    "
   ]
  },
  {
   "cell_type": "code",
   "execution_count": 17,
   "id": "aeb79086",
   "metadata": {},
   "outputs": [],
   "source": [
    "sae_acts_per_pos = {}\n",
    "i = 0\n",
    "for layer, dicts in sae_acts_dict.items():\n",
    "    pos = last_pos[i]-1\n",
    "    acts_list = []\n",
    "    for query, acts in dicts.items():\n",
    "        acts_list.append(torch.where(acts[pos]!=0)[0])\n",
    "    sae_acts_per_pos[layer] = acts_list\n",
    "    i += 1"
   ]
  },
  {
   "cell_type": "code",
   "execution_count": 105,
   "id": "c0d5827d",
   "metadata": {},
   "outputs": [
    {
     "data": {
      "text/plain": [
       "'layer_24/width_16k/average_l0_158'"
      ]
     },
     "execution_count": 105,
     "metadata": {},
     "output_type": "execute_result"
    }
   ],
   "source": [
    "sae_acts_per_pos['Layer_25'][0]\n",
    "full_strings[24]"
   ]
  },
  {
   "cell_type": "markdown",
   "id": "60ede3b1",
   "metadata": {},
   "source": [
    "## What are the features in the RS over the layers that increse <end_of_turn> more"
   ]
  },
  {
   "cell_type": "code",
   "execution_count": 95,
   "id": "51717a01",
   "metadata": {},
   "outputs": [
    {
     "name": "stderr",
     "output_type": "stream",
     "text": [
      "/tmp/ipykernel_479/924575571.py:5: FutureWarning: Series.__getitem__ treating keys as positions is deprecated. In a future version, integer keys will always be treated as labels (consistent with DataFrame behavior). To access a value by position, use `ser.iloc[pos]`\n",
      "  resid_dict = df[df['release'] == \"gemma-scope-2b-pt-res\"]['saes_map'][0]\n",
      "100%|██████████| 26/26 [00:32<00:00,  1.25s/it]\n"
     ]
    }
   ],
   "source": [
    "\n",
    "full_strings= get_all_string_min_l0_resid_gemma()\n",
    "feature_lens_dict = {}\n",
    "with torch.no_grad():\n",
    "    for layer in tqdm.tqdm(range(model.cfg.n_layers)):\n",
    "\n",
    "        repo_id = \"google/gemma-scope-2b-pt-res\"\n",
    "        folder_name = full_strings[layer]\n",
    "\n",
    "        config = get_gemma_2_config(repo_id, folder_name)\n",
    "        cfg, state_dict, log_spar = gemma_2_sae_loader(repo_id, folder_name)\n",
    "        sae_cfg = SAEConfig.from_dict(cfg)\n",
    "        sae = SAE(sae_cfg)\n",
    "        sae.load_state_dict(state_dict)\n",
    "        sae.to(\"cuda:0\")\n",
    "        W_dec = sae.W_dec.detach()\n",
    "        eot_dir = model.W_U.detach()[:,1]\n",
    "        feature_lens = einops.einsum(W_dec,eot_dir,\"feats d_model, d_model -> feats\")\n",
    "        val, ind = feature_lens.topk(k = 10)\n",
    "        feature_lens_dict[f\"Layer_{layer}\"] = ind "
   ]
  },
  {
   "cell_type": "markdown",
   "id": "411c1cc2",
   "metadata": {},
   "source": [
    "### Are this top features present in the RS"
   ]
  },
  {
   "cell_type": "code",
   "execution_count": 96,
   "id": "7e879735",
   "metadata": {},
   "outputs": [],
   "source": [
    "final_perc_dict = {}\n",
    "i = 0\n",
    "for key in sae_acts_dict.keys():\n",
    "    sae_acts = sae_acts_dict[key]\n",
    "    feats = set(feature_lens_dict[key].tolist())\n",
    "    pos = last_pos[i]-1\n",
    "\n",
    "    final_perc_dict[key] = [list(feats.intersection(set(torch.where(acts[pos]!=0)[0].tolist()))) for k,acts in sae_acts.items()]\n",
    "    final_perc_dict[key] = [e for e in final_perc_dict[key] if len(e)>0]\n",
    "    if len(final_perc_dict[key])==0:\n",
    "        final_perc_dict.pop(key)\n",
    "    else:\n",
    "\n",
    "        final_perc_dict[key] = list(set([e for query in final_perc_dict[key] for e in query]))\n",
    "\n",
    "\n",
    "\n",
    "    i += 1\n"
   ]
  },
  {
   "cell_type": "markdown",
   "id": "bb0aecc2",
   "metadata": {},
   "source": [
    "\n",
    "### Interprete the features that are present sin the position befoer <end_of_turn>\n",
    "\n",
    "\n",
    "\n",
    "\n",
    "\n",
    "**Important features**\n",
    "```\n",
    "{'Layer_12': [909],\n",
    " 'Layer_17': [11077],\n",
    " 'Layer_21': [1618],\n",
    " 'Layer_22': [10984, 9141],\n",
    " 'Layer_23': [8751],\n",
    " 'Layer_25': [3420]}\n",
    "```"
   ]
  },
  {
   "cell_type": "code",
   "execution_count": 97,
   "id": "879054a0",
   "metadata": {},
   "outputs": [
    {
     "name": "stderr",
     "output_type": "stream",
     "text": [
      "/tmp/ipykernel_479/924575571.py:5: FutureWarning: Series.__getitem__ treating keys as positions is deprecated. In a future version, integer keys will always be treated as labels (consistent with DataFrame behavior). To access a value by position, use `ser.iloc[pos]`\n",
      "  resid_dict = df[df['release'] == \"gemma-scope-2b-pt-res\"]['saes_map'][0]\n"
     ]
    },
    {
     "name": "stdout",
     "output_type": "stream",
     "text": [
      "Layer_0\n",
      "[' ', ' (', ',', '.', '<eos>', '\\n\\n', ' in', '\\n', '-', ' I']\n",
      "Layer_10\n",
      "['<eos>', 'WriteBarrier', '\\n\\n', ' utafitiHapana', ' nahilalakip', ' …', ' etc', 'MemoryWarning', ' vPvB', ' Chwiliwch']\n",
      "Layer_12\n",
      "['<eos>', 'AndEndTag', ' kasarigan', 'MENAFN', ' насељу', 'Vidite', ' Walkover', ' Italijanski', 'MLLoader', ' Roskov']\n",
      "['<eos>', '\\n', '    ', '        ', '\\t', '\\t\\t', '      ', '[toxicity=0]', '     ', '\\n\\n\\n']\n",
      "Layer_15\n",
      "['\\n\\n', '<h2>', '<h3>', '<blockquote>', '[toxicity=0]', '\\n\\n\\n', '<h4>', '\\n\\n\\n\\n\\n', '\\n\\n\\n\\n', '<h1>']\n",
      "Layer_17\n",
      "['.', '\\n\\n', '<eos>', '\\n\\n\\n', '。', ').', '!', '।', '\\n\\n\\n\\n', '\\n']\n",
      "Layer_24\n",
      "['\\n\\n', '\\n\\n\\n', '\\n\\n\\n\\n', '\\n\\n\\n\\n\\n', '<eos>', '\\n\\n\\n\\n\\n\\n', '\\n', '\\n\\n\\n\\n\\n\\n\\n', '\\n\\n\\n\\n\\n\\n\\n\\n', '\\n\\n\\n\\n\\n\\n\\n\\n\\n']\n"
     ]
    }
   ],
   "source": [
    "\n",
    "W_U = model.W_U.detach()\n",
    "full_strings= get_all_string_min_l0_resid_gemma()\n",
    "with torch.no_grad():\n",
    "    for layer,feats in final_perc_dict.items():\n",
    "        l = int(layer.split(\"_\")[-1])\n",
    "\n",
    "        repo_id = \"google/gemma-scope-2b-pt-res\"\n",
    "        folder_name = full_strings[l]\n",
    "\n",
    "        config = get_gemma_2_config(repo_id, folder_name)\n",
    "        cfg, state_dict, log_spar = gemma_2_sae_loader(repo_id, folder_name)\n",
    "        sae_cfg = SAEConfig.from_dict(cfg)\n",
    "        sae = SAE(sae_cfg)\n",
    "        sae.load_state_dict(state_dict)\n",
    "        sae.to(\"cuda:0\")\n",
    "        print(layer)\n",
    "        W_dec = sae.W_dec.detach()\n",
    "        for feat in feats:\n",
    "            dir = W_dec[feat,:]\n",
    "            feature_lens = einops.einsum(W_U,dir,\"d_model d_vocab, d_model -> d_vocab\")\n",
    "            val, ind = feature_lens.topk(k = 10)\n",
    "            print([model.to_string(i) for i in ind.tolist()])"
   ]
  }
 ],
 "metadata": {
  "kernelspec": {
   "display_name": "Python 3 (ipykernel)",
   "language": "python",
   "name": "python3"
  },
  "language_info": {
   "codemirror_mode": {
    "name": "ipython",
    "version": 3
   },
   "file_extension": ".py",
   "mimetype": "text/x-python",
   "name": "python",
   "nbconvert_exporter": "python",
   "pygments_lexer": "ipython3",
   "version": "3.10.13"
  }
 },
 "nbformat": 4,
 "nbformat_minor": 5
}
