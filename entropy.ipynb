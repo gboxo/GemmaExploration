{
 "cells": [
  {
   "cell_type": "code",
   "execution_count": 1,
   "metadata": {},
   "outputs": [],
   "source": [
    "\n",
    "# %%\n",
    "from attribution_utils import calculate_feature_attribution\n",
    "from collections import defaultdict\n",
    "from torch.nn.functional import log_softmax\n",
    "from gemma_utils import get_all_string_min_l0_resid_gemma\n",
    "from transformer_lens.hook_points import HookPoint\n",
    "from transformer_lens import utils\n",
    "from functools import partial\n",
    "import tqdm\n",
    "from sae_lens import HookedSAETransformer, SAE, SAEConfig\n",
    "from gemma_utils import get_gemma_2_config, gemma_2_sae_loader\n",
    "import numpy as np\n",
    "import torch\n",
    "import tqdm\n",
    "import pandas as pd\n",
    "\n",
    "import torch.nn.functional as F\n",
    "import plotly.express as px\n",
    "import seaborn as sns\n",
    "import matplotlib.pyplot as plt"
   ]
  },
  {
   "cell_type": "code",
   "execution_count": 2,
   "metadata": {},
   "outputs": [
    {
     "name": "stderr",
     "output_type": "stream",
     "text": [
      "WARNING:root:You tried to specify center_unembed=True for a model using logit softcap, but this can't be done! Softcapping is not invariant upon adding a constantSetting center_unembed=False instead.\n"
     ]
    },
    {
     "data": {
      "application/vnd.jupyter.widget-view+json": {
       "model_id": "238a87bf3e084e2e95898f2f707d9096",
       "version_major": 2,
       "version_minor": 0
      },
      "text/plain": [
       "Loading checkpoint shards:   0%|          | 0/2 [00:00<?, ?it/s]"
      ]
     },
     "metadata": {},
     "output_type": "display_data"
    },
    {
     "name": "stderr",
     "output_type": "stream",
     "text": [
      "WARNING:root:You are not using LayerNorm, so the writing weights can't be centered! Skipping\n"
     ]
    },
    {
     "name": "stdout",
     "output_type": "stream",
     "text": [
      "Loaded pretrained model google/gemma-2-2b-it into HookedTransformer\n"
     ]
    }
   ],
   "source": [
    "\n",
    "\n",
    "model = HookedSAETransformer.from_pretrained(\"google/gemma-2-2b-it\")\n"
   ]
  },
  {
   "cell_type": "code",
   "execution_count": 3,
   "metadata": {},
   "outputs": [],
   "source": [
    "\n",
    "generation_dict = torch.load(\"gemma2_generation_dict.pt\")"
   ]
  },
  {
   "cell_type": "code",
   "execution_count": 19,
   "metadata": {},
   "outputs": [],
   "source": [
    "\n",
    "def logits_to_entropy(logits):\n",
    "    log_probs = log_softmax(logits, dim = -1)\n",
    "    probs = log_probs.exp()\n",
    "    entropy = -(log_probs*probs).sum(dim = -1)\n",
    "    return entropy\n",
    "\n",
    "\n",
    "def logits_to_varentropy(logits):\n",
    "    log_probs = log_softmax(logits, dim = -1)\n",
    "    probs = log_probs.exp()\n",
    "    entropy = -(log_probs*probs).sum(dim = -1)\n",
    "    elem = (probs*(-log_probs)**2).sum(dim = -1)\n",
    "    return elem - entropy\n",
    "\n"
   ]
  },
  {
   "cell_type": "code",
   "execution_count": 71,
   "metadata": {},
   "outputs": [
    {
     "data": {
      "text/plain": [
       "tensor([[     2, 235290]], device='cuda:0')"
      ]
     },
     "execution_count": 71,
     "metadata": {},
     "output_type": "execute_result"
    }
   ],
   "source": [
    "model.to_tokens(\" \")"
   ]
  },
  {
   "cell_type": "code",
   "execution_count": 93,
   "metadata": {},
   "outputs": [],
   "source": [
    "\n",
    "all_entropy_hyphen = []\n",
    "all_entropy_breaks = []\n",
    "for key in list(generation_dict.keys()):\n",
    "    val = generation_dict[key]\n",
    "    for toks in val:\n",
    "        with torch.no_grad():\n",
    "            pos_hyphen = torch.where(toks[0] == 235290)[0]+1\n",
    "            pos_break = torch.where(toks[0] == 108)[0][3:]\n",
    "            if len(pos_hyphen) != 10:\n",
    "                continue\n",
    "            logits = model(toks)\n",
    "            entropy = logits_to_entropy(logits)\n",
    "            all_entropy_hyphen.append(entropy[:,pos_hyphen])\n",
    "            all_entropy_breaks.append(entropy[:,pos_break])\n",
    "\n",
    "\n",
    "\n",
    "max_size = max(tensor.size(1) for tensor in all_entropy_hyphen)\n",
    "padded_tensors = []\n",
    "for tensor in all_entropy_hyphen:\n",
    "    pad_amount = max_size - tensor.size(1)\n",
    "    padded_tensor = F.pad(tensor, (pad_amount, 0), \"constant\", 0)  # Left padding\n",
    "    padded_tensors.append(padded_tensor)\n",
    "stacked_entropy_hyphen = torch.cat(padded_tensors,dim = 0)\n",
    "\n",
    "\n",
    "max_size = max(tensor.size(1) for tensor in all_entropy_breaks)\n",
    "padded_tensors = []\n",
    "for tensor in all_entropy_breaks:\n",
    "    pad_amount = max_size - tensor.size(1)\n",
    "    padded_tensor = F.pad(tensor, (pad_amount, 0), \"constant\", 0)  # Left padding\n",
    "    padded_tensors.append(padded_tensor)\n",
    "stacked_entropy_breaks = torch.cat(padded_tensors,dim = 0)\n",
    "\n",
    "\n",
    "\n"
   ]
  },
  {
   "cell_type": "code",
   "execution_count": 94,
   "metadata": {},
   "outputs": [
    {
     "data": {
      "application/vnd.plotly.v1+json": {
       "config": {
        "plotlyServerURL": "https://plot.ly"
       },
       "data": [
        {
         "coloraxis": "coloraxis",
         "hovertemplate": "x: %{x}<br>y: %{y}<br>color: %{z}<extra></extra>",
         "name": "0",
         "type": "heatmap",
         "xaxis": "x",
         "yaxis": "y",
         "z": [
          [
           0.008711766,
           0.004188017,
           0.001541751,
           0.0032290504,
           0.0017584037,
           0.0014430983,
           0.0031977862,
           0.0028911205,
           0.008754578,
           0.0022942675
          ],
          [
           0.008711747,
           0.0060185688,
           0.001427892,
           0.0016745459,
           0.0073909587,
           0.0007530564,
           0.002277216,
           0.0046776067,
           0.0083434,
           0.0020909368
          ],
          [
           0.009067936,
           0.004941634,
           0.0014946021,
           0.0021294921,
           0.0010646236,
           0.000589291,
           0.0013239792,
           0.01906228,
           0.0017621305,
           0.0018692655
          ],
          [
           0.008711747,
           0.004188027,
           0.0015417476,
           0.0013528485,
           0.0017690859,
           0.00070598605,
           0.0013643594,
           0.0037316356,
           0.0014970367,
           0.0017745798
          ],
          [
           0.013020549,
           0.0020821278,
           0.003193938,
           0.0066693174,
           0.007542853,
           0.0062845224,
           0.012185946,
           0.0077131437,
           0.011733144,
           0.008258317
          ],
          [
           0.007913001,
           0.0019387178,
           0.0011956837,
           0.0010691165,
           0.00089817785,
           0.0018197662,
           0.0015621296,
           0.0065438338,
           0.0025081336,
           0.0018318181
          ],
          [
           0.011157365,
           0.0022389153,
           0.001673852,
           0.001477037,
           0.0014805798,
           0.001159702,
           0.0015154985,
           0.0021868055,
           0.0018928597,
           0.002320819
          ],
          [
           0.008941427,
           0.004104628,
           0.0012593034,
           0.00085770723,
           0.0013394081,
           0.0014345796,
           0.004264384,
           0.0015081929,
           0.0039253584,
           0.002407106
          ],
          [
           0.011157365,
           0.0022938258,
           0.0010145529,
           0.0016326765,
           0.0013136796,
           0.001813233,
           0.0016363357,
           0.002957979,
           0.0017989378,
           0.0025706822
          ],
          [
           0.011157365,
           0.002162208,
           0.0013569708,
           0.0006404587,
           0.0010703013,
           0.0021273873,
           0.0014035794,
           0.0022956945,
           0.004593419,
           0.002256111
          ],
          [
           0.011157365,
           0.0034225434,
           0.0009703218,
           0.0013180448,
           0.000926591,
           0.0007467188,
           0.0015499234,
           0.0018614349,
           0.0025614842,
           0.0029128015
          ],
          [
           0.007875161,
           0.004438015,
           0.0014296002,
           0.0007621193,
           0.00092239934,
           0.0006285086,
           0.0012855778,
           0.0010831358,
           0.001388646,
           0.0010827907
          ],
          [
           0.007875161,
           0.0023376266,
           0.0009428671,
           0.0008027046,
           0.00044082018,
           0.00087534403,
           0.0016057807,
           0.0008750337,
           0.0008795228,
           0.0014782369
          ],
          [
           0.007875145,
           0.0023376206,
           0.00094285986,
           0.00080270745,
           0.00037886787,
           0.000724526,
           0.001708278,
           0.0019834035,
           0.0009797184,
           0.0011643862
          ],
          [
           0.007875161,
           0.0023376266,
           0.0009428671,
           0.0007972107,
           0.00041237322,
           0.00048578682,
           0.00054356246,
           0.0012388527,
           0.0008394413,
           0.0006605237
          ],
          [
           0.007875145,
           0.004438041,
           0.0014296,
           0.00076211954,
           0.0006892637,
           0.00039747468,
           0.00064919365,
           0.0017597757,
           0.015739024,
           0.00077918463
          ],
          [
           0.007879042,
           0.0009830117,
           0.00102625,
           0.0021567002,
           0.0011824726,
           0.0017586502,
           0.002178131,
           0.0024033883,
           0.0020547519,
           0.0018978107
          ],
          [
           0.011539715,
           0.0036758434,
           0.006353397,
           0.002586439,
           0.001141345,
           0.0043146573,
           0.0019083472,
           0.0034340727,
           0.003583236,
           0.0027782735
          ],
          [
           0.024811914,
           0.004358563,
           0.004311581,
           0.0025298093,
           0.0013359386,
           0.0025591506,
           0.0018841602,
           0.0024243158,
           0.0046291156,
           0.0018032014
          ],
          [
           0.008424566,
           0.0072667096,
           0.0049931533,
           0.0022014747,
           0.0039643752,
           0.0016048125,
           0.0033631867,
           0.00232335,
           0.0022849662,
           0.0018681261
          ],
          [
           0.005830231,
           0.006819765,
           0.0009151569,
           0.0011062631,
           0.0052051726,
           0.003049569,
           0.0031652646,
           0.0021064244,
           0.0063669444,
           0.006085287
          ],
          [
           0.005277868,
           0.0028256327,
           0.0008502037,
           0.008440135,
           0.003654288,
           0.0041762926,
           0.0018368267,
           0.003160993,
           0.005172528,
           0.005193073
          ],
          [
           0.005830231,
           0.006819765,
           0.0022154346,
           0.0018846568,
           0.002323477,
           0.001340175,
           0.0043614153,
           0.003119084,
           0.0059344713,
           0.0061111567
          ],
          [
           0.008388091,
           0.0019214276,
           0.0033048114,
           0.0048874766,
           0.0046267402,
           0.0029944805,
           0.0035544892,
           0.0037360322,
           0.0036460545,
           0.0041912687
          ],
          [
           0,
           0.011667793,
           0.0016548216,
           0.0006014922,
           0.0019237475,
           0.0016354489,
           0.0014511636,
           0.0015427385,
           0.0017150348,
           0.004604332
          ],
          [
           0.09400342,
           0.0028930497,
           0.0058073825,
           0.002719312,
           0.0016852219,
           0.002463493,
           0.0023847457,
           0.0034799918,
           0.002950411,
           0.005340288
          ],
          [
           0.006947953,
           0.009637737,
           0.005553097,
           0.005658454,
           0.0048083435,
           0.00451286,
           0.008074375,
           0.006539172,
           0.0045721955,
           0.0044913283
          ],
          [
           0.006947953,
           0.008009816,
           0.011141169,
           0.0048761102,
           0.003983702,
           0.0051923706,
           0.0052128714,
           0.0038620483,
           0.0045842603,
           0.003487153
          ],
          [
           0.016523587,
           0.0046436186,
           0.0018831121,
           0.0016766649,
           0.005037368,
           0.0017411712,
           0.0015653081,
           0.0020258212,
           0.004230206,
           0.0029957397
          ],
          [
           0.013699075,
           0.0019924412,
           0.0008988855,
           0.0012883256,
           0.0010994287,
           0.0010766819,
           0.00086906384,
           0.0011422456,
           0.0011421794,
           0.0010693622
          ],
          [
           0.016523587,
           0.0046436186,
           0.0019187572,
           0.001304071,
           0.0008972936,
           0.0012535454,
           0.0045612734,
           0.0021605475,
           0.0021884535,
           0.0019590752
          ],
          [
           0.013847635,
           0.004581716,
           0.0021829556,
           0.002307879,
           0.0018580721,
           0.0025357888,
           0.0022631763,
           0.007501377,
           0.034321837,
           0.009964706
          ],
          [
           0.013350442,
           0.0050914534,
           0.002497398,
           0.0026777408,
           0.004246802,
           0.0023619088,
           0.0046983124,
           0.0027369345,
           0.0023289714,
           0.003377744
          ],
          [
           0.03492901,
           0.0057062777,
           0.002818387,
           0.0037288757,
           0.0018091965,
           0.035301376,
           0.02184308,
           0.016774448,
           0.04519662,
           0.05026771
          ],
          [
           0.0045669554,
           0.0013885327,
           0.0017548102,
           0.0012902361,
           0.003720122,
           0.0106440885,
           0.0009951573,
           0.03299718,
           0.009656714,
           0.0008850957
          ],
          [
           0.0063850763,
           0.0008644584,
           0.0010213292,
           0.0016669409,
           0.0012279433,
           0.01003018,
           0.0007866968,
           0.015473829,
           0.001457856,
           0.0015458902
          ],
          [
           0.009681906,
           0.0031340534,
           0.009751484,
           0.0013832873,
           0.0005371036,
           0.0025338323,
           0.0027026501,
           0.005412501,
           0.0075889374,
           0.0038656853
          ],
          [
           0.009480013,
           0.00095165195,
           0.0017246857,
           0.00040603746,
           0.0015835145,
           0.0021852017,
           0.0028977995,
           0.0029159763,
           0.01583598,
           0.005186359
          ],
          [
           0.009480013,
           0.001292705,
           0.01048199,
           0.003311318,
           0.004573426,
           0.0017480468,
           0.002740445,
           0.0024956297,
           0.016114352,
           0.0043895375
          ],
          [
           0.013949987,
           0.005745432,
           0.011278797,
           0.05244683,
           0.010035456,
           0.013962871,
           0.018979752,
           0.0063228533,
           0.009458817,
           0.008767941
          ],
          [
           0.013949987,
           0.008468246,
           0.008153523,
           0.0028195903,
           0.014714562,
           0.0052565415,
           0.031081809,
           0.00662679,
           0.008302724,
           0.0059183044
          ],
          [
           0.013949987,
           0.0035545728,
           0.006146598,
           0.0021450366,
           0.0026341344,
           0.027413944,
           0.023441408,
           0.013814961,
           0.0048201145,
           0.0050752014
          ],
          [
           0.013949987,
           0.0023279903,
           0.019816315,
           0.011101262,
           0.0046933084,
           0.0038182964,
           0.005703331,
           0.0046679736,
           0.007873919,
           0.0068859723
          ],
          [
           0.013949987,
           0.0023279903,
           0.001970793,
           0.013193458,
           0.0030426402,
           0.011714077,
           0.004560528,
           0.01553335,
           0.004362565,
           0.004835527
          ],
          [
           0.012210939,
           0.0014137409,
           0.0028605566,
           0.0039142044,
           0.0009671165,
           0.005634658,
           0.0020251903,
           0.0017235881,
           0.011150778,
           0.006882568
          ],
          [
           0.011295754,
           0.010993117,
           0.005845723,
           0.0037829403,
           0.0033473733,
           0.0071902773,
           0.010664082,
           0.003969472,
           0.0044273497,
           0.0037982878
          ],
          [
           0.011675832,
           0.006320352,
           0.003394722,
           0.002222082,
           0.0041215112,
           0.007840525,
           0.009746987,
           0.0051940233,
           0.0053477697,
           0.0049084695
          ],
          [
           0.011295754,
           0.010993117,
           0.005845723,
           0.0037829403,
           0.0030871804,
           0.0031356865,
           0.004899605,
           0.017144766,
           0.025728486,
           0.004332393
          ],
          [
           0.01128279,
           0.002461356,
           0.0048309863,
           0.0044775466,
           0.004719804,
           0.003351774,
           0.007964988,
           0.004411829,
           0.010292917,
           0.0047231833
          ],
          [
           0.011295754,
           0.010993117,
           0.005314597,
           0.0051690396,
           0.0041287285,
           0.0046519903,
           0.018267857,
           0.00492845,
           0.005523445,
           0.021125607
          ],
          [
           0.012682374,
           0.0020726372,
           0.0037107954,
           0.0019619078,
           0.0014331585,
           0.0015397158,
           0.0010798585,
           0.0012687949,
           0.0010865058,
           0.0055148755
          ],
          [
           0.012682374,
           0.0017635726,
           0.0019743554,
           0.0016818172,
           0.0011517376,
           0.0009901103,
           0.00096665847,
           0.0021147944,
           0.003259698,
           0.0012347394
          ]
         ]
        }
       ],
       "layout": {
        "coloraxis": {
         "colorscale": [
          [
           0,
           "#0d0887"
          ],
          [
           0.1111111111111111,
           "#46039f"
          ],
          [
           0.2222222222222222,
           "#7201a8"
          ],
          [
           0.3333333333333333,
           "#9c179e"
          ],
          [
           0.4444444444444444,
           "#bd3786"
          ],
          [
           0.5555555555555556,
           "#d8576b"
          ],
          [
           0.6666666666666666,
           "#ed7953"
          ],
          [
           0.7777777777777778,
           "#fb9f3a"
          ],
          [
           0.8888888888888888,
           "#fdca26"
          ],
          [
           1,
           "#f0f921"
          ]
         ]
        },
        "margin": {
         "t": 60
        },
        "template": {
         "data": {
          "bar": [
           {
            "error_x": {
             "color": "#2a3f5f"
            },
            "error_y": {
             "color": "#2a3f5f"
            },
            "marker": {
             "line": {
              "color": "#E5ECF6",
              "width": 0.5
             },
             "pattern": {
              "fillmode": "overlay",
              "size": 10,
              "solidity": 0.2
             }
            },
            "type": "bar"
           }
          ],
          "barpolar": [
           {
            "marker": {
             "line": {
              "color": "#E5ECF6",
              "width": 0.5
             },
             "pattern": {
              "fillmode": "overlay",
              "size": 10,
              "solidity": 0.2
             }
            },
            "type": "barpolar"
           }
          ],
          "carpet": [
           {
            "aaxis": {
             "endlinecolor": "#2a3f5f",
             "gridcolor": "white",
             "linecolor": "white",
             "minorgridcolor": "white",
             "startlinecolor": "#2a3f5f"
            },
            "baxis": {
             "endlinecolor": "#2a3f5f",
             "gridcolor": "white",
             "linecolor": "white",
             "minorgridcolor": "white",
             "startlinecolor": "#2a3f5f"
            },
            "type": "carpet"
           }
          ],
          "choropleth": [
           {
            "colorbar": {
             "outlinewidth": 0,
             "ticks": ""
            },
            "type": "choropleth"
           }
          ],
          "contour": [
           {
            "colorbar": {
             "outlinewidth": 0,
             "ticks": ""
            },
            "colorscale": [
             [
              0,
              "#0d0887"
             ],
             [
              0.1111111111111111,
              "#46039f"
             ],
             [
              0.2222222222222222,
              "#7201a8"
             ],
             [
              0.3333333333333333,
              "#9c179e"
             ],
             [
              0.4444444444444444,
              "#bd3786"
             ],
             [
              0.5555555555555556,
              "#d8576b"
             ],
             [
              0.6666666666666666,
              "#ed7953"
             ],
             [
              0.7777777777777778,
              "#fb9f3a"
             ],
             [
              0.8888888888888888,
              "#fdca26"
             ],
             [
              1,
              "#f0f921"
             ]
            ],
            "type": "contour"
           }
          ],
          "contourcarpet": [
           {
            "colorbar": {
             "outlinewidth": 0,
             "ticks": ""
            },
            "type": "contourcarpet"
           }
          ],
          "heatmap": [
           {
            "colorbar": {
             "outlinewidth": 0,
             "ticks": ""
            },
            "colorscale": [
             [
              0,
              "#0d0887"
             ],
             [
              0.1111111111111111,
              "#46039f"
             ],
             [
              0.2222222222222222,
              "#7201a8"
             ],
             [
              0.3333333333333333,
              "#9c179e"
             ],
             [
              0.4444444444444444,
              "#bd3786"
             ],
             [
              0.5555555555555556,
              "#d8576b"
             ],
             [
              0.6666666666666666,
              "#ed7953"
             ],
             [
              0.7777777777777778,
              "#fb9f3a"
             ],
             [
              0.8888888888888888,
              "#fdca26"
             ],
             [
              1,
              "#f0f921"
             ]
            ],
            "type": "heatmap"
           }
          ],
          "heatmapgl": [
           {
            "colorbar": {
             "outlinewidth": 0,
             "ticks": ""
            },
            "colorscale": [
             [
              0,
              "#0d0887"
             ],
             [
              0.1111111111111111,
              "#46039f"
             ],
             [
              0.2222222222222222,
              "#7201a8"
             ],
             [
              0.3333333333333333,
              "#9c179e"
             ],
             [
              0.4444444444444444,
              "#bd3786"
             ],
             [
              0.5555555555555556,
              "#d8576b"
             ],
             [
              0.6666666666666666,
              "#ed7953"
             ],
             [
              0.7777777777777778,
              "#fb9f3a"
             ],
             [
              0.8888888888888888,
              "#fdca26"
             ],
             [
              1,
              "#f0f921"
             ]
            ],
            "type": "heatmapgl"
           }
          ],
          "histogram": [
           {
            "marker": {
             "pattern": {
              "fillmode": "overlay",
              "size": 10,
              "solidity": 0.2
             }
            },
            "type": "histogram"
           }
          ],
          "histogram2d": [
           {
            "colorbar": {
             "outlinewidth": 0,
             "ticks": ""
            },
            "colorscale": [
             [
              0,
              "#0d0887"
             ],
             [
              0.1111111111111111,
              "#46039f"
             ],
             [
              0.2222222222222222,
              "#7201a8"
             ],
             [
              0.3333333333333333,
              "#9c179e"
             ],
             [
              0.4444444444444444,
              "#bd3786"
             ],
             [
              0.5555555555555556,
              "#d8576b"
             ],
             [
              0.6666666666666666,
              "#ed7953"
             ],
             [
              0.7777777777777778,
              "#fb9f3a"
             ],
             [
              0.8888888888888888,
              "#fdca26"
             ],
             [
              1,
              "#f0f921"
             ]
            ],
            "type": "histogram2d"
           }
          ],
          "histogram2dcontour": [
           {
            "colorbar": {
             "outlinewidth": 0,
             "ticks": ""
            },
            "colorscale": [
             [
              0,
              "#0d0887"
             ],
             [
              0.1111111111111111,
              "#46039f"
             ],
             [
              0.2222222222222222,
              "#7201a8"
             ],
             [
              0.3333333333333333,
              "#9c179e"
             ],
             [
              0.4444444444444444,
              "#bd3786"
             ],
             [
              0.5555555555555556,
              "#d8576b"
             ],
             [
              0.6666666666666666,
              "#ed7953"
             ],
             [
              0.7777777777777778,
              "#fb9f3a"
             ],
             [
              0.8888888888888888,
              "#fdca26"
             ],
             [
              1,
              "#f0f921"
             ]
            ],
            "type": "histogram2dcontour"
           }
          ],
          "mesh3d": [
           {
            "colorbar": {
             "outlinewidth": 0,
             "ticks": ""
            },
            "type": "mesh3d"
           }
          ],
          "parcoords": [
           {
            "line": {
             "colorbar": {
              "outlinewidth": 0,
              "ticks": ""
             }
            },
            "type": "parcoords"
           }
          ],
          "pie": [
           {
            "automargin": true,
            "type": "pie"
           }
          ],
          "scatter": [
           {
            "fillpattern": {
             "fillmode": "overlay",
             "size": 10,
             "solidity": 0.2
            },
            "type": "scatter"
           }
          ],
          "scatter3d": [
           {
            "line": {
             "colorbar": {
              "outlinewidth": 0,
              "ticks": ""
             }
            },
            "marker": {
             "colorbar": {
              "outlinewidth": 0,
              "ticks": ""
             }
            },
            "type": "scatter3d"
           }
          ],
          "scattercarpet": [
           {
            "marker": {
             "colorbar": {
              "outlinewidth": 0,
              "ticks": ""
             }
            },
            "type": "scattercarpet"
           }
          ],
          "scattergeo": [
           {
            "marker": {
             "colorbar": {
              "outlinewidth": 0,
              "ticks": ""
             }
            },
            "type": "scattergeo"
           }
          ],
          "scattergl": [
           {
            "marker": {
             "colorbar": {
              "outlinewidth": 0,
              "ticks": ""
             }
            },
            "type": "scattergl"
           }
          ],
          "scattermapbox": [
           {
            "marker": {
             "colorbar": {
              "outlinewidth": 0,
              "ticks": ""
             }
            },
            "type": "scattermapbox"
           }
          ],
          "scatterpolar": [
           {
            "marker": {
             "colorbar": {
              "outlinewidth": 0,
              "ticks": ""
             }
            },
            "type": "scatterpolar"
           }
          ],
          "scatterpolargl": [
           {
            "marker": {
             "colorbar": {
              "outlinewidth": 0,
              "ticks": ""
             }
            },
            "type": "scatterpolargl"
           }
          ],
          "scatterternary": [
           {
            "marker": {
             "colorbar": {
              "outlinewidth": 0,
              "ticks": ""
             }
            },
            "type": "scatterternary"
           }
          ],
          "surface": [
           {
            "colorbar": {
             "outlinewidth": 0,
             "ticks": ""
            },
            "colorscale": [
             [
              0,
              "#0d0887"
             ],
             [
              0.1111111111111111,
              "#46039f"
             ],
             [
              0.2222222222222222,
              "#7201a8"
             ],
             [
              0.3333333333333333,
              "#9c179e"
             ],
             [
              0.4444444444444444,
              "#bd3786"
             ],
             [
              0.5555555555555556,
              "#d8576b"
             ],
             [
              0.6666666666666666,
              "#ed7953"
             ],
             [
              0.7777777777777778,
              "#fb9f3a"
             ],
             [
              0.8888888888888888,
              "#fdca26"
             ],
             [
              1,
              "#f0f921"
             ]
            ],
            "type": "surface"
           }
          ],
          "table": [
           {
            "cells": {
             "fill": {
              "color": "#EBF0F8"
             },
             "line": {
              "color": "white"
             }
            },
            "header": {
             "fill": {
              "color": "#C8D4E3"
             },
             "line": {
              "color": "white"
             }
            },
            "type": "table"
           }
          ]
         },
         "layout": {
          "annotationdefaults": {
           "arrowcolor": "#2a3f5f",
           "arrowhead": 0,
           "arrowwidth": 1
          },
          "autotypenumbers": "strict",
          "coloraxis": {
           "colorbar": {
            "outlinewidth": 0,
            "ticks": ""
           }
          },
          "colorscale": {
           "diverging": [
            [
             0,
             "#8e0152"
            ],
            [
             0.1,
             "#c51b7d"
            ],
            [
             0.2,
             "#de77ae"
            ],
            [
             0.3,
             "#f1b6da"
            ],
            [
             0.4,
             "#fde0ef"
            ],
            [
             0.5,
             "#f7f7f7"
            ],
            [
             0.6,
             "#e6f5d0"
            ],
            [
             0.7,
             "#b8e186"
            ],
            [
             0.8,
             "#7fbc41"
            ],
            [
             0.9,
             "#4d9221"
            ],
            [
             1,
             "#276419"
            ]
           ],
           "sequential": [
            [
             0,
             "#0d0887"
            ],
            [
             0.1111111111111111,
             "#46039f"
            ],
            [
             0.2222222222222222,
             "#7201a8"
            ],
            [
             0.3333333333333333,
             "#9c179e"
            ],
            [
             0.4444444444444444,
             "#bd3786"
            ],
            [
             0.5555555555555556,
             "#d8576b"
            ],
            [
             0.6666666666666666,
             "#ed7953"
            ],
            [
             0.7777777777777778,
             "#fb9f3a"
            ],
            [
             0.8888888888888888,
             "#fdca26"
            ],
            [
             1,
             "#f0f921"
            ]
           ],
           "sequentialminus": [
            [
             0,
             "#0d0887"
            ],
            [
             0.1111111111111111,
             "#46039f"
            ],
            [
             0.2222222222222222,
             "#7201a8"
            ],
            [
             0.3333333333333333,
             "#9c179e"
            ],
            [
             0.4444444444444444,
             "#bd3786"
            ],
            [
             0.5555555555555556,
             "#d8576b"
            ],
            [
             0.6666666666666666,
             "#ed7953"
            ],
            [
             0.7777777777777778,
             "#fb9f3a"
            ],
            [
             0.8888888888888888,
             "#fdca26"
            ],
            [
             1,
             "#f0f921"
            ]
           ]
          },
          "colorway": [
           "#636efa",
           "#EF553B",
           "#00cc96",
           "#ab63fa",
           "#FFA15A",
           "#19d3f3",
           "#FF6692",
           "#B6E880",
           "#FF97FF",
           "#FECB52"
          ],
          "font": {
           "color": "#2a3f5f"
          },
          "geo": {
           "bgcolor": "white",
           "lakecolor": "white",
           "landcolor": "#E5ECF6",
           "showlakes": true,
           "showland": true,
           "subunitcolor": "white"
          },
          "hoverlabel": {
           "align": "left"
          },
          "hovermode": "closest",
          "mapbox": {
           "style": "light"
          },
          "paper_bgcolor": "white",
          "plot_bgcolor": "#E5ECF6",
          "polar": {
           "angularaxis": {
            "gridcolor": "white",
            "linecolor": "white",
            "ticks": ""
           },
           "bgcolor": "#E5ECF6",
           "radialaxis": {
            "gridcolor": "white",
            "linecolor": "white",
            "ticks": ""
           }
          },
          "scene": {
           "xaxis": {
            "backgroundcolor": "#E5ECF6",
            "gridcolor": "white",
            "gridwidth": 2,
            "linecolor": "white",
            "showbackground": true,
            "ticks": "",
            "zerolinecolor": "white"
           },
           "yaxis": {
            "backgroundcolor": "#E5ECF6",
            "gridcolor": "white",
            "gridwidth": 2,
            "linecolor": "white",
            "showbackground": true,
            "ticks": "",
            "zerolinecolor": "white"
           },
           "zaxis": {
            "backgroundcolor": "#E5ECF6",
            "gridcolor": "white",
            "gridwidth": 2,
            "linecolor": "white",
            "showbackground": true,
            "ticks": "",
            "zerolinecolor": "white"
           }
          },
          "shapedefaults": {
           "line": {
            "color": "#2a3f5f"
           }
          },
          "ternary": {
           "aaxis": {
            "gridcolor": "white",
            "linecolor": "white",
            "ticks": ""
           },
           "baxis": {
            "gridcolor": "white",
            "linecolor": "white",
            "ticks": ""
           },
           "bgcolor": "#E5ECF6",
           "caxis": {
            "gridcolor": "white",
            "linecolor": "white",
            "ticks": ""
           }
          },
          "title": {
           "x": 0.05
          },
          "xaxis": {
           "automargin": true,
           "gridcolor": "white",
           "linecolor": "white",
           "ticks": "",
           "title": {
            "standoff": 15
           },
           "zerolinecolor": "white",
           "zerolinewidth": 2
          },
          "yaxis": {
           "automargin": true,
           "gridcolor": "white",
           "linecolor": "white",
           "ticks": "",
           "title": {
            "standoff": 15
           },
           "zerolinecolor": "white",
           "zerolinewidth": 2
          }
         }
        },
        "xaxis": {
         "anchor": "y",
         "domain": [
          0,
          1
         ]
        },
        "yaxis": {
         "anchor": "x",
         "autorange": "reversed",
         "domain": [
          0,
          1
         ]
        }
       }
      },
      "text/html": [
       "<div>                            <div id=\"08cd9ffb-e853-41af-8901-e46b43f37c1c\" class=\"plotly-graph-div\" style=\"height:525px; width:100%;\"></div>            <script type=\"text/javascript\">                require([\"plotly\"], function(Plotly) {                    window.PLOTLYENV=window.PLOTLYENV || {};                                    if (document.getElementById(\"08cd9ffb-e853-41af-8901-e46b43f37c1c\")) {                    Plotly.newPlot(                        \"08cd9ffb-e853-41af-8901-e46b43f37c1c\",                        [{\"coloraxis\":\"coloraxis\",\"name\":\"0\",\"z\":[[0.008711766,0.004188017,0.001541751,0.0032290504,0.0017584037,0.0014430983,0.0031977862,0.0028911205,0.008754578,0.0022942675],[0.008711747,0.0060185688,0.001427892,0.0016745459,0.0073909587,0.0007530564,0.002277216,0.0046776067,0.0083434,0.0020909368],[0.009067936,0.004941634,0.0014946021,0.0021294921,0.0010646236,0.000589291,0.0013239792,0.01906228,0.0017621305,0.0018692655],[0.008711747,0.004188027,0.0015417476,0.0013528485,0.0017690859,0.00070598605,0.0013643594,0.0037316356,0.0014970367,0.0017745798],[0.013020549,0.0020821278,0.003193938,0.0066693174,0.007542853,0.0062845224,0.012185946,0.0077131437,0.011733144,0.008258317],[0.007913001,0.0019387178,0.0011956837,0.0010691165,0.00089817785,0.0018197662,0.0015621296,0.0065438338,0.0025081336,0.0018318181],[0.011157365,0.0022389153,0.001673852,0.001477037,0.0014805798,0.001159702,0.0015154985,0.0021868055,0.0018928597,0.002320819],[0.008941427,0.004104628,0.0012593034,0.00085770723,0.0013394081,0.0014345796,0.004264384,0.0015081929,0.0039253584,0.002407106],[0.011157365,0.0022938258,0.0010145529,0.0016326765,0.0013136796,0.001813233,0.0016363357,0.002957979,0.0017989378,0.0025706822],[0.011157365,0.002162208,0.0013569708,0.0006404587,0.0010703013,0.0021273873,0.0014035794,0.0022956945,0.004593419,0.002256111],[0.011157365,0.0034225434,0.0009703218,0.0013180448,0.000926591,0.0007467188,0.0015499234,0.0018614349,0.0025614842,0.0029128015],[0.007875161,0.004438015,0.0014296002,0.0007621193,0.00092239934,0.0006285086,0.0012855778,0.0010831358,0.001388646,0.0010827907],[0.007875161,0.0023376266,0.0009428671,0.0008027046,0.00044082018,0.00087534403,0.0016057807,0.0008750337,0.0008795228,0.0014782369],[0.007875145,0.0023376206,0.00094285986,0.00080270745,0.00037886787,0.000724526,0.001708278,0.0019834035,0.0009797184,0.0011643862],[0.007875161,0.0023376266,0.0009428671,0.0007972107,0.00041237322,0.00048578682,0.00054356246,0.0012388527,0.0008394413,0.0006605237],[0.007875145,0.004438041,0.0014296,0.00076211954,0.0006892637,0.00039747468,0.00064919365,0.0017597757,0.015739024,0.00077918463],[0.007879042,0.0009830117,0.00102625,0.0021567002,0.0011824726,0.0017586502,0.002178131,0.0024033883,0.0020547519,0.0018978107],[0.011539715,0.0036758434,0.006353397,0.002586439,0.001141345,0.0043146573,0.0019083472,0.0034340727,0.003583236,0.0027782735],[0.024811914,0.004358563,0.004311581,0.0025298093,0.0013359386,0.0025591506,0.0018841602,0.0024243158,0.0046291156,0.0018032014],[0.008424566,0.0072667096,0.0049931533,0.0022014747,0.0039643752,0.0016048125,0.0033631867,0.00232335,0.0022849662,0.0018681261],[0.005830231,0.006819765,0.0009151569,0.0011062631,0.0052051726,0.003049569,0.0031652646,0.0021064244,0.0063669444,0.006085287],[0.005277868,0.0028256327,0.0008502037,0.008440135,0.003654288,0.0041762926,0.0018368267,0.003160993,0.005172528,0.005193073],[0.005830231,0.006819765,0.0022154346,0.0018846568,0.002323477,0.001340175,0.0043614153,0.003119084,0.0059344713,0.0061111567],[0.008388091,0.0019214276,0.0033048114,0.0048874766,0.0046267402,0.0029944805,0.0035544892,0.0037360322,0.0036460545,0.0041912687],[0.0,0.011667793,0.0016548216,0.0006014922,0.0019237475,0.0016354489,0.0014511636,0.0015427385,0.0017150348,0.004604332],[0.09400342,0.0028930497,0.0058073825,0.002719312,0.0016852219,0.002463493,0.0023847457,0.0034799918,0.002950411,0.005340288],[0.006947953,0.009637737,0.005553097,0.005658454,0.0048083435,0.00451286,0.008074375,0.006539172,0.0045721955,0.0044913283],[0.006947953,0.008009816,0.011141169,0.0048761102,0.003983702,0.0051923706,0.0052128714,0.0038620483,0.0045842603,0.003487153],[0.016523587,0.0046436186,0.0018831121,0.0016766649,0.005037368,0.0017411712,0.0015653081,0.0020258212,0.004230206,0.0029957397],[0.013699075,0.0019924412,0.0008988855,0.0012883256,0.0010994287,0.0010766819,0.00086906384,0.0011422456,0.0011421794,0.0010693622],[0.016523587,0.0046436186,0.0019187572,0.001304071,0.0008972936,0.0012535454,0.0045612734,0.0021605475,0.0021884535,0.0019590752],[0.013847635,0.004581716,0.0021829556,0.002307879,0.0018580721,0.0025357888,0.0022631763,0.007501377,0.034321837,0.009964706],[0.013350442,0.0050914534,0.002497398,0.0026777408,0.004246802,0.0023619088,0.0046983124,0.0027369345,0.0023289714,0.003377744],[0.03492901,0.0057062777,0.002818387,0.0037288757,0.0018091965,0.035301376,0.02184308,0.016774448,0.04519662,0.05026771],[0.0045669554,0.0013885327,0.0017548102,0.0012902361,0.003720122,0.0106440885,0.0009951573,0.03299718,0.009656714,0.0008850957],[0.0063850763,0.0008644584,0.0010213292,0.0016669409,0.0012279433,0.01003018,0.0007866968,0.015473829,0.001457856,0.0015458902],[0.009681906,0.0031340534,0.009751484,0.0013832873,0.0005371036,0.0025338323,0.0027026501,0.005412501,0.0075889374,0.0038656853],[0.009480013,0.00095165195,0.0017246857,0.00040603746,0.0015835145,0.0021852017,0.0028977995,0.0029159763,0.01583598,0.005186359],[0.009480013,0.001292705,0.01048199,0.003311318,0.004573426,0.0017480468,0.002740445,0.0024956297,0.016114352,0.0043895375],[0.013949987,0.005745432,0.011278797,0.05244683,0.010035456,0.013962871,0.018979752,0.0063228533,0.009458817,0.008767941],[0.013949987,0.008468246,0.008153523,0.0028195903,0.014714562,0.0052565415,0.031081809,0.00662679,0.008302724,0.0059183044],[0.013949987,0.0035545728,0.006146598,0.0021450366,0.0026341344,0.027413944,0.023441408,0.013814961,0.0048201145,0.0050752014],[0.013949987,0.0023279903,0.019816315,0.011101262,0.0046933084,0.0038182964,0.005703331,0.0046679736,0.007873919,0.0068859723],[0.013949987,0.0023279903,0.001970793,0.013193458,0.0030426402,0.011714077,0.004560528,0.01553335,0.004362565,0.004835527],[0.012210939,0.0014137409,0.0028605566,0.0039142044,0.0009671165,0.005634658,0.0020251903,0.0017235881,0.011150778,0.006882568],[0.011295754,0.010993117,0.005845723,0.0037829403,0.0033473733,0.0071902773,0.010664082,0.003969472,0.0044273497,0.0037982878],[0.011675832,0.006320352,0.003394722,0.002222082,0.0041215112,0.007840525,0.009746987,0.0051940233,0.0053477697,0.0049084695],[0.011295754,0.010993117,0.005845723,0.0037829403,0.0030871804,0.0031356865,0.004899605,0.017144766,0.025728486,0.004332393],[0.01128279,0.002461356,0.0048309863,0.0044775466,0.004719804,0.003351774,0.007964988,0.004411829,0.010292917,0.0047231833],[0.011295754,0.010993117,0.005314597,0.0051690396,0.0041287285,0.0046519903,0.018267857,0.00492845,0.005523445,0.021125607],[0.012682374,0.0020726372,0.0037107954,0.0019619078,0.0014331585,0.0015397158,0.0010798585,0.0012687949,0.0010865058,0.0055148755],[0.012682374,0.0017635726,0.0019743554,0.0016818172,0.0011517376,0.0009901103,0.00096665847,0.0021147944,0.003259698,0.0012347394]],\"type\":\"heatmap\",\"xaxis\":\"x\",\"yaxis\":\"y\",\"hovertemplate\":\"x: %{x}\\u003cbr\\u003ey: %{y}\\u003cbr\\u003ecolor: %{z}\\u003cextra\\u003e\\u003c\\u002fextra\\u003e\"}],                        {\"template\":{\"data\":{\"histogram2dcontour\":[{\"type\":\"histogram2dcontour\",\"colorbar\":{\"outlinewidth\":0,\"ticks\":\"\"},\"colorscale\":[[0.0,\"#0d0887\"],[0.1111111111111111,\"#46039f\"],[0.2222222222222222,\"#7201a8\"],[0.3333333333333333,\"#9c179e\"],[0.4444444444444444,\"#bd3786\"],[0.5555555555555556,\"#d8576b\"],[0.6666666666666666,\"#ed7953\"],[0.7777777777777778,\"#fb9f3a\"],[0.8888888888888888,\"#fdca26\"],[1.0,\"#f0f921\"]]}],\"choropleth\":[{\"type\":\"choropleth\",\"colorbar\":{\"outlinewidth\":0,\"ticks\":\"\"}}],\"histogram2d\":[{\"type\":\"histogram2d\",\"colorbar\":{\"outlinewidth\":0,\"ticks\":\"\"},\"colorscale\":[[0.0,\"#0d0887\"],[0.1111111111111111,\"#46039f\"],[0.2222222222222222,\"#7201a8\"],[0.3333333333333333,\"#9c179e\"],[0.4444444444444444,\"#bd3786\"],[0.5555555555555556,\"#d8576b\"],[0.6666666666666666,\"#ed7953\"],[0.7777777777777778,\"#fb9f3a\"],[0.8888888888888888,\"#fdca26\"],[1.0,\"#f0f921\"]]}],\"heatmap\":[{\"type\":\"heatmap\",\"colorbar\":{\"outlinewidth\":0,\"ticks\":\"\"},\"colorscale\":[[0.0,\"#0d0887\"],[0.1111111111111111,\"#46039f\"],[0.2222222222222222,\"#7201a8\"],[0.3333333333333333,\"#9c179e\"],[0.4444444444444444,\"#bd3786\"],[0.5555555555555556,\"#d8576b\"],[0.6666666666666666,\"#ed7953\"],[0.7777777777777778,\"#fb9f3a\"],[0.8888888888888888,\"#fdca26\"],[1.0,\"#f0f921\"]]}],\"heatmapgl\":[{\"type\":\"heatmapgl\",\"colorbar\":{\"outlinewidth\":0,\"ticks\":\"\"},\"colorscale\":[[0.0,\"#0d0887\"],[0.1111111111111111,\"#46039f\"],[0.2222222222222222,\"#7201a8\"],[0.3333333333333333,\"#9c179e\"],[0.4444444444444444,\"#bd3786\"],[0.5555555555555556,\"#d8576b\"],[0.6666666666666666,\"#ed7953\"],[0.7777777777777778,\"#fb9f3a\"],[0.8888888888888888,\"#fdca26\"],[1.0,\"#f0f921\"]]}],\"contourcarpet\":[{\"type\":\"contourcarpet\",\"colorbar\":{\"outlinewidth\":0,\"ticks\":\"\"}}],\"contour\":[{\"type\":\"contour\",\"colorbar\":{\"outlinewidth\":0,\"ticks\":\"\"},\"colorscale\":[[0.0,\"#0d0887\"],[0.1111111111111111,\"#46039f\"],[0.2222222222222222,\"#7201a8\"],[0.3333333333333333,\"#9c179e\"],[0.4444444444444444,\"#bd3786\"],[0.5555555555555556,\"#d8576b\"],[0.6666666666666666,\"#ed7953\"],[0.7777777777777778,\"#fb9f3a\"],[0.8888888888888888,\"#fdca26\"],[1.0,\"#f0f921\"]]}],\"surface\":[{\"type\":\"surface\",\"colorbar\":{\"outlinewidth\":0,\"ticks\":\"\"},\"colorscale\":[[0.0,\"#0d0887\"],[0.1111111111111111,\"#46039f\"],[0.2222222222222222,\"#7201a8\"],[0.3333333333333333,\"#9c179e\"],[0.4444444444444444,\"#bd3786\"],[0.5555555555555556,\"#d8576b\"],[0.6666666666666666,\"#ed7953\"],[0.7777777777777778,\"#fb9f3a\"],[0.8888888888888888,\"#fdca26\"],[1.0,\"#f0f921\"]]}],\"mesh3d\":[{\"type\":\"mesh3d\",\"colorbar\":{\"outlinewidth\":0,\"ticks\":\"\"}}],\"scatter\":[{\"fillpattern\":{\"fillmode\":\"overlay\",\"size\":10,\"solidity\":0.2},\"type\":\"scatter\"}],\"parcoords\":[{\"type\":\"parcoords\",\"line\":{\"colorbar\":{\"outlinewidth\":0,\"ticks\":\"\"}}}],\"scatterpolargl\":[{\"type\":\"scatterpolargl\",\"marker\":{\"colorbar\":{\"outlinewidth\":0,\"ticks\":\"\"}}}],\"bar\":[{\"error_x\":{\"color\":\"#2a3f5f\"},\"error_y\":{\"color\":\"#2a3f5f\"},\"marker\":{\"line\":{\"color\":\"#E5ECF6\",\"width\":0.5},\"pattern\":{\"fillmode\":\"overlay\",\"size\":10,\"solidity\":0.2}},\"type\":\"bar\"}],\"scattergeo\":[{\"type\":\"scattergeo\",\"marker\":{\"colorbar\":{\"outlinewidth\":0,\"ticks\":\"\"}}}],\"scatterpolar\":[{\"type\":\"scatterpolar\",\"marker\":{\"colorbar\":{\"outlinewidth\":0,\"ticks\":\"\"}}}],\"histogram\":[{\"marker\":{\"pattern\":{\"fillmode\":\"overlay\",\"size\":10,\"solidity\":0.2}},\"type\":\"histogram\"}],\"scattergl\":[{\"type\":\"scattergl\",\"marker\":{\"colorbar\":{\"outlinewidth\":0,\"ticks\":\"\"}}}],\"scatter3d\":[{\"type\":\"scatter3d\",\"line\":{\"colorbar\":{\"outlinewidth\":0,\"ticks\":\"\"}},\"marker\":{\"colorbar\":{\"outlinewidth\":0,\"ticks\":\"\"}}}],\"scattermapbox\":[{\"type\":\"scattermapbox\",\"marker\":{\"colorbar\":{\"outlinewidth\":0,\"ticks\":\"\"}}}],\"scatterternary\":[{\"type\":\"scatterternary\",\"marker\":{\"colorbar\":{\"outlinewidth\":0,\"ticks\":\"\"}}}],\"scattercarpet\":[{\"type\":\"scattercarpet\",\"marker\":{\"colorbar\":{\"outlinewidth\":0,\"ticks\":\"\"}}}],\"carpet\":[{\"aaxis\":{\"endlinecolor\":\"#2a3f5f\",\"gridcolor\":\"white\",\"linecolor\":\"white\",\"minorgridcolor\":\"white\",\"startlinecolor\":\"#2a3f5f\"},\"baxis\":{\"endlinecolor\":\"#2a3f5f\",\"gridcolor\":\"white\",\"linecolor\":\"white\",\"minorgridcolor\":\"white\",\"startlinecolor\":\"#2a3f5f\"},\"type\":\"carpet\"}],\"table\":[{\"cells\":{\"fill\":{\"color\":\"#EBF0F8\"},\"line\":{\"color\":\"white\"}},\"header\":{\"fill\":{\"color\":\"#C8D4E3\"},\"line\":{\"color\":\"white\"}},\"type\":\"table\"}],\"barpolar\":[{\"marker\":{\"line\":{\"color\":\"#E5ECF6\",\"width\":0.5},\"pattern\":{\"fillmode\":\"overlay\",\"size\":10,\"solidity\":0.2}},\"type\":\"barpolar\"}],\"pie\":[{\"automargin\":true,\"type\":\"pie\"}]},\"layout\":{\"autotypenumbers\":\"strict\",\"colorway\":[\"#636efa\",\"#EF553B\",\"#00cc96\",\"#ab63fa\",\"#FFA15A\",\"#19d3f3\",\"#FF6692\",\"#B6E880\",\"#FF97FF\",\"#FECB52\"],\"font\":{\"color\":\"#2a3f5f\"},\"hovermode\":\"closest\",\"hoverlabel\":{\"align\":\"left\"},\"paper_bgcolor\":\"white\",\"plot_bgcolor\":\"#E5ECF6\",\"polar\":{\"bgcolor\":\"#E5ECF6\",\"angularaxis\":{\"gridcolor\":\"white\",\"linecolor\":\"white\",\"ticks\":\"\"},\"radialaxis\":{\"gridcolor\":\"white\",\"linecolor\":\"white\",\"ticks\":\"\"}},\"ternary\":{\"bgcolor\":\"#E5ECF6\",\"aaxis\":{\"gridcolor\":\"white\",\"linecolor\":\"white\",\"ticks\":\"\"},\"baxis\":{\"gridcolor\":\"white\",\"linecolor\":\"white\",\"ticks\":\"\"},\"caxis\":{\"gridcolor\":\"white\",\"linecolor\":\"white\",\"ticks\":\"\"}},\"coloraxis\":{\"colorbar\":{\"outlinewidth\":0,\"ticks\":\"\"}},\"colorscale\":{\"sequential\":[[0.0,\"#0d0887\"],[0.1111111111111111,\"#46039f\"],[0.2222222222222222,\"#7201a8\"],[0.3333333333333333,\"#9c179e\"],[0.4444444444444444,\"#bd3786\"],[0.5555555555555556,\"#d8576b\"],[0.6666666666666666,\"#ed7953\"],[0.7777777777777778,\"#fb9f3a\"],[0.8888888888888888,\"#fdca26\"],[1.0,\"#f0f921\"]],\"sequentialminus\":[[0.0,\"#0d0887\"],[0.1111111111111111,\"#46039f\"],[0.2222222222222222,\"#7201a8\"],[0.3333333333333333,\"#9c179e\"],[0.4444444444444444,\"#bd3786\"],[0.5555555555555556,\"#d8576b\"],[0.6666666666666666,\"#ed7953\"],[0.7777777777777778,\"#fb9f3a\"],[0.8888888888888888,\"#fdca26\"],[1.0,\"#f0f921\"]],\"diverging\":[[0,\"#8e0152\"],[0.1,\"#c51b7d\"],[0.2,\"#de77ae\"],[0.3,\"#f1b6da\"],[0.4,\"#fde0ef\"],[0.5,\"#f7f7f7\"],[0.6,\"#e6f5d0\"],[0.7,\"#b8e186\"],[0.8,\"#7fbc41\"],[0.9,\"#4d9221\"],[1,\"#276419\"]]},\"xaxis\":{\"gridcolor\":\"white\",\"linecolor\":\"white\",\"ticks\":\"\",\"title\":{\"standoff\":15},\"zerolinecolor\":\"white\",\"automargin\":true,\"zerolinewidth\":2},\"yaxis\":{\"gridcolor\":\"white\",\"linecolor\":\"white\",\"ticks\":\"\",\"title\":{\"standoff\":15},\"zerolinecolor\":\"white\",\"automargin\":true,\"zerolinewidth\":2},\"scene\":{\"xaxis\":{\"backgroundcolor\":\"#E5ECF6\",\"gridcolor\":\"white\",\"linecolor\":\"white\",\"showbackground\":true,\"ticks\":\"\",\"zerolinecolor\":\"white\",\"gridwidth\":2},\"yaxis\":{\"backgroundcolor\":\"#E5ECF6\",\"gridcolor\":\"white\",\"linecolor\":\"white\",\"showbackground\":true,\"ticks\":\"\",\"zerolinecolor\":\"white\",\"gridwidth\":2},\"zaxis\":{\"backgroundcolor\":\"#E5ECF6\",\"gridcolor\":\"white\",\"linecolor\":\"white\",\"showbackground\":true,\"ticks\":\"\",\"zerolinecolor\":\"white\",\"gridwidth\":2}},\"shapedefaults\":{\"line\":{\"color\":\"#2a3f5f\"}},\"annotationdefaults\":{\"arrowcolor\":\"#2a3f5f\",\"arrowhead\":0,\"arrowwidth\":1},\"geo\":{\"bgcolor\":\"white\",\"landcolor\":\"#E5ECF6\",\"subunitcolor\":\"white\",\"showland\":true,\"showlakes\":true,\"lakecolor\":\"white\"},\"title\":{\"x\":0.05},\"mapbox\":{\"style\":\"light\"}}},\"xaxis\":{\"anchor\":\"y\",\"domain\":[0.0,1.0]},\"yaxis\":{\"anchor\":\"x\",\"domain\":[0.0,1.0],\"autorange\":\"reversed\"},\"coloraxis\":{\"colorscale\":[[0.0,\"#0d0887\"],[0.1111111111111111,\"#46039f\"],[0.2222222222222222,\"#7201a8\"],[0.3333333333333333,\"#9c179e\"],[0.4444444444444444,\"#bd3786\"],[0.5555555555555556,\"#d8576b\"],[0.6666666666666666,\"#ed7953\"],[0.7777777777777778,\"#fb9f3a\"],[0.8888888888888888,\"#fdca26\"],[1.0,\"#f0f921\"]]},\"margin\":{\"t\":60}},                        {\"responsive\": true}                    ).then(function(){\n",
       "                            \n",
       "var gd = document.getElementById('08cd9ffb-e853-41af-8901-e46b43f37c1c');\n",
       "var x = new MutationObserver(function (mutations, observer) {{\n",
       "        var display = window.getComputedStyle(gd).display;\n",
       "        if (!display || display === 'none') {{\n",
       "            console.log([gd, 'removed!']);\n",
       "            Plotly.purge(gd);\n",
       "            observer.disconnect();\n",
       "        }}\n",
       "}});\n",
       "\n",
       "// Listen for the removal of the full notebook cells\n",
       "var notebookContainer = gd.closest('#notebook-container');\n",
       "if (notebookContainer) {{\n",
       "    x.observe(notebookContainer, {childList: true});\n",
       "}}\n",
       "\n",
       "// Listen for the clearing of the current output cell\n",
       "var outputEl = gd.closest('.output');\n",
       "if (outputEl) {{\n",
       "    x.observe(outputEl, {childList: true});\n",
       "}}\n",
       "\n",
       "                        })                };                });            </script>        </div>"
      ]
     },
     "metadata": {},
     "output_type": "display_data"
    }
   ],
   "source": [
    "\n",
    "px.imshow(stacked_entropy_breaks.cpu().numpy(), aspect = 'auto')"
   ]
  }
 ],
 "metadata": {
  "kernelspec": {
   "display_name": "base",
   "language": "python",
   "name": "python3"
  },
  "language_info": {
   "codemirror_mode": {
    "name": "ipython",
    "version": 3
   },
   "file_extension": ".py",
   "mimetype": "text/x-python",
   "name": "python",
   "nbconvert_exporter": "python",
   "pygments_lexer": "ipython3",
   "version": "3.10.13"
  }
 },
 "nbformat": 4,
 "nbformat_minor": 2
}
