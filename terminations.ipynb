{
 "cells": [
  {
   "cell_type": "code",
   "execution_count": 1,
   "metadata": {},
   "outputs": [],
   "source": [
    "\n",
    "from sae_lens import HookedSAETransformer, SAE, SAEConfig\n",
    "from gemma_utils import get_gemma_2_config, gemma_2_sae_loader"
   ]
  },
  {
   "cell_type": "code",
   "execution_count": 2,
   "metadata": {},
   "outputs": [],
   "source": [
    "\n",
    "import numpy as np\n",
    "import torch\n",
    "import tqdm\n",
    "import einops\n",
    "import re\n",
    "from jaxtyping import Int, Float\n",
    "from typing import List, Optional, Any\n",
    "from torch import Tensor\n",
    "import json\n",
    "import os\n",
    "from torch.utils.data import Dataset, DataLoader\n",
    "import random\n",
    "import seaborn as sns\n",
    "import matplotlib.pyplot as plt\n",
    "from collections import defaultdict\n",
    "import random\n",
    "from transformer_lens.utils import get_act_name\n",
    "from IPython.display import display, HTMtring(3119)L"
   ]
  },
  {
   "cell_type": "code",
   "execution_count": 3,
   "metadata": {},
   "outputs": [
    {
     "data": {
      "text/plain": [
       "<torch._C.Generator at 0x7f996684b9f0>"
      ]
     },
     "execution_count": 3,
     "metadata": {},
     "output_type": "execute_result"
    }
   ],
   "source": [
    "\n",
    "np.random.seed(0)\n",
    "random.seed(0)\n",
    "torch.random.manual_seed(0)"
   ]
  },
  {
   "cell_type": "code",
   "execution_count": 4,
   "metadata": {},
   "outputs": [
    {
     "name": "stderr",
     "output_type": "stream",
     "text": [
      "WARNING:root:You tried to specify center_unembed=True for a model using logit softcap, but this can't be done! Softcapping is not invariant upon adding a constantSetting center_unembed=False instead.\n"
     ]
    },
    {
     "data": {
      "application/vnd.jupyter.widget-view+json": {
       "model_id": "baf81a0242fa4dec89b27e0b41cbe754",
       "version_major": 2,
       "version_minor": 0
      },
      "text/plain": [
       "Loading checkpoint shards:   0%|          | 0/3 [00:00<?, ?it/s]"
      ]
     },
     "metadata": {},
     "output_type": "display_data"
    },
    {
     "name": "stderr",
     "output_type": "stream",
     "text": [
      "WARNING:root:You are not using LayerNorm, so the writing weights can't be centered! Skipping\n"
     ]
    },
    {
     "name": "stdout",
     "output_type": "stream",
     "text": [
      "Loaded pretrained model google/gemma-2-2b into HookedTransformer\n"
     ]
    }
   ],
   "source": [
    "\n",
    "model = HookedSAETransformer.from_pretrained(\"google/gemma-2-2b\")"
   ]
  },
  {
   "cell_type": "code",
   "execution_count": null,
   "metadata": {},
   "outputs": [],
   "source": [
    "\n",
    "def visualize_html(text):\n",
    "    text = text.replace(\"<eos>\",\"\")\n",
    "    text = text.replace(\"<bos>\",\"\")\n",
    "    display(HTML(text))\n",
    "    "
   ]
  },
  {
   "cell_type": "code",
   "execution_count": 5,
   "metadata": {},
   "outputs": [
    {
     "data": {
      "application/vnd.jupyter.widget-view+json": {
       "model_id": "0e14191cd7aa47608db9502f5d367758",
       "version_major": 2,
       "version_minor": 0
      },
      "text/plain": [
       "  0%|          | 0/100 [00:00<?, ?it/s]"
      ]
     },
     "metadata": {},
     "output_type": "display_data"
    },
    {
     "ename": "NameError",
     "evalue": "name 'visualize_html' is not defined",
     "output_type": "error",
     "traceback": [
      "\u001b[0;31m---------------------------------------------------------------------------\u001b[0m",
      "\u001b[0;31mNameError\u001b[0m                                 Traceback (most recent call last)",
      "Cell \u001b[0;32mIn[5], line 11\u001b[0m\n\u001b[1;32m      2\u001b[0m tokens \u001b[38;5;241m=\u001b[39m model\u001b[38;5;241m.\u001b[39mto_tokens(text)\n\u001b[1;32m      3\u001b[0m out \u001b[38;5;241m=\u001b[39m model\u001b[38;5;241m.\u001b[39mgenerate(\n\u001b[1;32m      4\u001b[0m     tokens,\n\u001b[1;32m      5\u001b[0m     max_new_tokens \u001b[38;5;241m=\u001b[39m \u001b[38;5;241m100\u001b[39m,\n\u001b[0;32m   (...)\u001b[0m\n\u001b[1;32m      8\u001b[0m     stop_at_eos\u001b[38;5;241m=\u001b[39m\u001b[38;5;28;01mTrue\u001b[39;00m,\n\u001b[1;32m      9\u001b[0m     )\n\u001b[0;32m---> 11\u001b[0m \u001b[43mvisualize_html\u001b[49m(model\u001b[38;5;241m.\u001b[39mto_string(out[\u001b[38;5;241m-\u001b[39m\u001b[38;5;241m1\u001b[39m]))\n",
      "\u001b[0;31mNameError\u001b[0m: name 'visualize_html' is not defined"
     ]
    }
   ],
   "source": [
    "text = \"\"\"<body><h1>List of My Brother's Favourite Cities</h1><ul><li>\"\"\"\n",
    "tokens = model.to_tokens(text)\n",
    "out = model.generate(\n",
    "    tokens,\n",
    "    max_new_tokens = 100,\n",
    "    temperature = 0.7,\n",
    "    top_p = 0.9,\n",
    "    stop_at_eos=True,\n",
    "    )\n",
    "\n",
    "visualize_html(model.to_string(out[-1]))"
   ]
  },
  {
   "cell_type": "code",
   "execution_count": 44,
   "metadata": {},
   "outputs": [],
   "source": [
    "string = \"<bos><body><h1>List of My Brother's Favourite Cities</h1><ul><li>Bangkok, Thailand</li><li>London, England</li><li>Paris, France</li><li>Melbourne, Australia</li><li>Toronto, Canada</li><li>New York, USA</li></ul></body>\\n<eos>\"\n",
    "tokens = model.to_tokens(string, prepend_bos=False)"
   ]
  },
  {
   "cell_type": "markdown",
   "metadata": {},
   "source": [
    "At this point and with the changes that we have made to the setup to reliably produce list that don't spiral out of control, we ask ourselves how can the model decide to add another elemnt or not.\n",
    "\n",
    "\n",
    "Taking into account the moel's tokenization:\n",
    "\n",
    "- `'<ul>' '<', 'ul', '>'`\n",
    "- `'><li>' '><', 'li', '>'`\n",
    "- `'</li>' '</', 'li', '>'`\n",
    "- `'><ul>' '></', 'ul', '>'`\n",
    "\n",
    "The model will continue the list while remaining html consistent if it uses the token `><` instead of the token `></`"
   ]
  },
  {
   "cell_type": "code",
   "execution_count": 45,
   "metadata": {},
   "outputs": [],
   "source": [
    "tok_id = model.to_tokens(\"></\", prepend_bos=False)[0]\n",
    "\n",
    "tok_id2 = model.to_tokens(\"><\", prepend_bos=False)[0]\n",
    "tok_pos = torch.where(tokens[0] == tok_id)[0][0].tolist()\n",
    "all_tok2_pos = torch.where(tokens[0] == tok_id2)[0][1:].tolist()"
   ]
  },
  {
   "cell_type": "code",
   "execution_count": 52,
   "metadata": {},
   "outputs": [],
   "source": [
    "with torch.no_grad():\n",
    "    logits = model(tokens)"
   ]
  },
  {
   "cell_type": "code",
   "execution_count": 56,
   "metadata": {},
   "outputs": [
    {
     "name": "stdout",
     "output_type": "stream",
     "text": [
      "tensor([-2.0125], device='cuda:0')\n",
      "tensor([-2.1449], device='cuda:0')\n",
      "tensor([-0.7575], device='cuda:0')\n",
      "tensor([-0.6126], device='cuda:0')\n",
      "tensor([-0.0059], device='cuda:0')\n",
      "tensor([0.2700], device='cuda:0')\n"
     ]
    }
   ],
   "source": [
    "for elem in all_tok2_pos + [tok_pos]:\n",
    "    l = logits[0,elem-1]\n",
    "    print(l[tok_id]-l[tok_id2])\n",
    "    #print([model.to_str_tokens(i) for i in l.topk(10).indices])"
   ]
  },
  {
   "cell_type": "markdown",
   "metadata": {},
   "source": [
    "## Logit Lens"
   ]
  },
  {
   "cell_type": "code",
   "execution_count": 57,
   "metadata": {},
   "outputs": [],
   "source": [
    "import pandas as pd"
   ]
  },
  {
   "cell_type": "code",
   "execution_count": 62,
   "metadata": {},
   "outputs": [],
   "source": [
    "pattern_hook_names_filter = lambda name: name.endswith(\"hook_resid_pre\") or name.endswith(\"25.hook_resid_post\") or  name.endswith('ln_final.hook_scale'\n",
    "\n",
    ")\n",
    "\n",
    "with torch.no_grad():\n",
    "    _,cache = model.run_with_cache(tokens,names_filter = pattern_hook_names_filter)\n",
    "\n",
    "all_logit_lens = []\n",
    "for elem in all_tok2_pos + [tok_pos]:\n",
    "    accumulated_residual, labels = cache.accumulated_resid(\n",
    "        incl_mid=False, pos_slice=elem-1, return_labels=True,apply_ln = True\n",
    "    )\n",
    "\n",
    "    dir = model.W_U[:,tok_id].detach()-model.W_U[:,tok_id2].detach()\n",
    "    logit_lens = einops.einsum(dir[:,0], accumulated_residual,\"d_model,comps batch d_model -> comps batch \")\n",
    "    all_logit_lens.append(logit_lens)\n",
    "\n"
   ]
  },
  {
   "cell_type": "code",
   "execution_count": 67,
   "metadata": {},
   "outputs": [
    {
     "data": {
      "image/png": "[encoded data removed]",
      "text/plain": [
       "<Figure size 1000x600 with 1 Axes>"
      ]
     },
     "metadata": {},
     "output_type": "display_data"
    }
   ],
   "source": [
    "import seaborn as sns\n",
    "import matplotlib.pyplot as plt\n",
    "import pandas as pd\n",
    "\n",
    "def plot_superposed_lineplots(data, x, y, hue, title=None, xlabel=None, ylabel=None, \n",
    "                              palette='husl', line_styles=None, markers=True, \n",
    "                              grid=True, legend=True, legend_loc='best', \n",
    "                              figsize=(10, 6), linewidth=2):\n",
    "    \"\"\"\n",
    "    Plots multiple superposed line plots with custom aesthetics using Seaborn.\n",
    "\n",
    "    Parameters:\n",
    "        data (pd.DataFrame): DataFrame containing the data.\n",
    "        x (str): Column name to be used for the x-axis.\n",
    "        y (str): Column name to be used for the y-axis.\n",
    "        hue (str): Column name to be used for grouping data (each group gets a different line).\n",
    "        title (str): Title of the plot.\n",
    "        xlabel (str): Label for the x-axis.\n",
    "        ylabel (str): Label for the y-axis.\n",
    "        palette (str or list): Seaborn color palette or list of colors.\n",
    "        line_styles (list or dict): List or dictionary of line styles for each hue category.\n",
    "        markers (bool): Whether to show markers at data points.\n",
    "        grid (bool): Whether to show grid lines.\n",
    "        legend (bool): Whether to show the legend.\n",
    "        legend_loc (str): Location of the legend.\n",
    "        figsize (tuple): Size of the figure.\n",
    "        linewidth (int): Width of the lines.\n",
    "    \"\"\"\n",
    "    # Set up the matplotlib figure and size\n",
    "    plt.figure(figsize=figsize)\n",
    "\n",
    "    # Apply a Seaborn style\n",
    "    sns.set(style=\"whitegrid\")\n",
    "\n",
    "    # Create the line plot\n",
    "    sns.lineplot(data=data, x=x, y=y, hue=hue, palette=palette, style=hue if line_styles else None, \n",
    "                 dashes=line_styles, markers=markers, linewidth=linewidth)\n",
    "    \n",
    "    # Customize gridlines\n",
    "    if grid:\n",
    "        plt.grid(True, which='major', linestyle='--', linewidth=0.5)\n",
    "    \n",
    "    # Set the title and labels\n",
    "    if title:\n",
    "        plt.title(title, fontsize=16, fontweight='bold')\n",
    "    if xlabel:\n",
    "        plt.xlabel(xlabel, fontsize=14)\n",
    "    if ylabel:\n",
    "        plt.ylabel(ylabel, fontsize=14)\n",
    "\n",
    "    # Customize the legend\n",
    "    if legend:\n",
    "        plt.legend(title=hue, loc=legend_loc, title_fontsize='13', fontsize='11', frameon=True, framealpha=0.9)\n",
    "\n",
    "    # Improve the overall layout\n",
    "    plt.tight_layout()\n",
    "\n",
    "    # Show the plot\n",
    "    plt.show()\n",
    "\n",
    "import pandas as pd\n",
    "data_dict = {}\n",
    "data_dict[\"Layers\"] = list(range(model.cfg.n_layers+1))\n",
    "for i,tensor in enumerate(all_logit_lens):\n",
    "    data_dict[f\"Item {i}\"] =  tensor.cpu().reshape(-1).numpy()\n",
    "\n",
    "data = pd.DataFrame(data_dict)\n",
    "                     \n",
    "# Melt the data for seaborn compatibility\n",
    "melted_data = pd.melt(data, id_vars=['Layers'], value_vars=list(data_dict.keys())[1:], \n",
    "                      var_name='Item', value_name='Value')\n",
    "\n",
    "plot_superposed_lineplots(melted_data, x='Layers', y='Value', hue='Item', \n",
    "                          title='Superposed Line Plots', xlabel='Layer', ylabel='Value',\n",
    "                          palette='husl',  markers=True)\n"
   ]
  },
  {
   "cell_type": "markdown",
   "metadata": {},
   "source": [
    "**Clearly something is happening from layer 22 to layer 23**\n",
    "\n",
    "\n",
    "Next thing to do is to perform feature attribution in layer 22 and layer 23 and check which feature is more related to the logit difference.\n",
    "\n",
    "Then after that we weill perform some ablations"
   ]
  },
  {
   "cell_type": "code",
   "execution_count": 68,
   "metadata": {},
   "outputs": [],
   "source": [
    "from attribution_utils import calculate_feature_attribution\n",
    "from torch.nn.functional import log_softmax\n",
    "from gemma_utils import get_all_string_min_l0_resid_gemma"
   ]
  },
  {
   "cell_type": "code",
   "execution_count": 70,
   "metadata": {},
   "outputs": [],
   "source": [
    "\n",
    "def metric_fn(logits: torch.Tensor, pos:int=tok_pos-1) -> torch.Tensor:\n",
    "    #return logits[0,pos,3119] - logits[0,pos,2577]\n",
    "    return logits[0,pos,2577] - logits[0,pos,3119]"
   ]
  },
  {
   "cell_type": "code",
   "execution_count": 13,
   "metadata": {},
   "outputs": [
    {
     "name": "stderr",
     "output_type": "stream",
     "text": [
      "/root/GemmaExploration/gemma_utils.py:158: FutureWarning: Series.__getitem__ treating keys as positions is deprecated. In a future version, integer keys will always be treated as labels (consistent with DataFrame behavior). To access a value by position, use `ser.iloc[pos]`\n",
      "  resid_dict = df[df['release'] == \"gemma-scope-2b-pt-res\"]['saes_map'][0]\n"
     ]
    }
   ],
   "source": [
    "full_strings = get_all_string_min_l0_resid_gemma()\n",
    "layer = 22\n",
    "saes_dict = {}\n",
    "with torch.no_grad():\n",
    "    repo_id = \"google/gemma-scope-2b-pt-res\"\n",
    "    folder_name = full_strings[layer]\n",
    "    config = get_gemma_2_config(repo_id, folder_name)\n",
    "    cfg, state_dict, log_spar = gemma_2_sae_loader(repo_id, folder_name)\n",
    "    sae_cfg = SAEConfig.from_dict(cfg)\n",
    "    sae = SAE(sae_cfg)\n",
    "    sae.load_state_dict(state_dict)\n",
    "    sae.to(\"cuda:0\")\n",
    "\n",
    "    saes_dict[sae.cfg.hook_name] = sae"
   ]
  },
  {
   "cell_type": "code",
   "execution_count": 14,
   "metadata": {},
   "outputs": [],
   "source": [
    "import pandas as pd\n",
    "import plotly.express as px\n"
   ]
  },
  {
   "cell_type": "code",
   "execution_count": 71,
   "metadata": {},
   "outputs": [],
   "source": [
    "\n",
    "feature_attribution_df = calculate_feature_attribution(\n",
    "    model = model,\n",
    "    input = tokens,\n",
    "    metric_fn = metric_fn,\n",
    "    include_saes=saes_dict,\n",
    "    include_error_term=True,\n",
    "    return_logits=True,\n",
    ")"
   ]
  },
  {
   "cell_type": "code",
   "execution_count": 87,
   "metadata": {},
   "outputs": [
    {
     "data": {
      "text/html": [
       "<div>\n",
       "<style scoped>\n",
       "    .dataframe tbody tr th:only-of-type {\n",
       "        vertical-align: middle;\n",
       "    }\n",
       "\n",
       "    .dataframe tbody tr th {\n",
       "        vertical-align: top;\n",
       "    }\n",
       "\n",
       "    .dataframe thead th {\n",
       "        text-align: right;\n",
       "    }\n",
       "</style>\n",
       "<table border=\"1\" class=\"dataframe\">\n",
       "  <thead>\n",
       "    <tr style=\"text-align: right;\">\n",
       "      <th></th>\n",
       "      <th>position</th>\n",
       "      <th>feature</th>\n",
       "      <th>attribution</th>\n",
       "    </tr>\n",
       "  </thead>\n",
       "  <tbody>\n",
       "    <tr>\n",
       "      <th>9084</th>\n",
       "      <td>64</td>\n",
       "      <td>10529</td>\n",
       "      <td>0.214704</td>\n",
       "    </tr>\n",
       "    <tr>\n",
       "      <th>135</th>\n",
       "      <td>64</td>\n",
       "      <td>152</td>\n",
       "      <td>0.166543</td>\n",
       "    </tr>\n",
       "    <tr>\n",
       "      <th>10779</th>\n",
       "      <td>64</td>\n",
       "      <td>12523</td>\n",
       "      <td>0.164121</td>\n",
       "    </tr>\n",
       "    <tr>\n",
       "      <th>7259</th>\n",
       "      <td>64</td>\n",
       "      <td>8323</td>\n",
       "      <td>0.153746</td>\n",
       "    </tr>\n",
       "    <tr>\n",
       "      <th>460</th>\n",
       "      <td>64</td>\n",
       "      <td>492</td>\n",
       "      <td>0.131538</td>\n",
       "    </tr>\n",
       "    <tr>\n",
       "      <th>...</th>\n",
       "      <td>...</td>\n",
       "      <td>...</td>\n",
       "      <td>...</td>\n",
       "    </tr>\n",
       "    <tr>\n",
       "      <th>5176</th>\n",
       "      <td>64</td>\n",
       "      <td>6004</td>\n",
       "      <td>-0.119178</td>\n",
       "    </tr>\n",
       "    <tr>\n",
       "      <th>1647</th>\n",
       "      <td>64</td>\n",
       "      <td>1777</td>\n",
       "      <td>-0.124738</td>\n",
       "    </tr>\n",
       "    <tr>\n",
       "      <th>4674</th>\n",
       "      <td>64</td>\n",
       "      <td>5325</td>\n",
       "      <td>-0.142518</td>\n",
       "    </tr>\n",
       "    <tr>\n",
       "      <th>11590</th>\n",
       "      <td>64</td>\n",
       "      <td>13491</td>\n",
       "      <td>-0.200526</td>\n",
       "    </tr>\n",
       "    <tr>\n",
       "      <th>3841</th>\n",
       "      <td>64</td>\n",
       "      <td>4411</td>\n",
       "      <td>-0.542568</td>\n",
       "    </tr>\n",
       "  </tbody>\n",
       "</table>\n",
       "<p>14063 rows × 3 columns</p>\n",
       "</div>"
      ],
      "text/plain": [
       "       position  feature  attribution\n",
       "9084         64    10529     0.214704\n",
       "135          64      152     0.166543\n",
       "10779        64    12523     0.164121\n",
       "7259         64     8323     0.153746\n",
       "460          64      492     0.131538\n",
       "...         ...      ...          ...\n",
       "5176         64     6004    -0.119178\n",
       "1647         64     1777    -0.124738\n",
       "4674         64     5325    -0.142518\n",
       "11590        64    13491    -0.200526\n",
       "3841         64     4411    -0.542568\n",
       "\n",
       "[14063 rows x 3 columns]"
      ]
     },
     "execution_count": 87,
     "metadata": {},
     "output_type": "execute_result"
    }
   ],
   "source": [
    "def convert_sparse_feature_to_long_df(sparse_tensor: torch.Tensor) -> pd.DataFrame:\n",
    "    \"\"\"\n",
    "    Convert a sparse tensor to a long format pandas DataFrame.\n",
    "    \"\"\"\n",
    "    df = pd.DataFrame(sparse_tensor.detach().cpu().numpy())\n",
    "    df_long = df.melt(ignore_index=False, var_name='column', value_name='value')\n",
    "    df_long.columns = [\"feature\", \"attribution\"]\n",
    "    df_long_nonzero = df_long[df_long['attribution'] != 0]\n",
    "    df_long_nonzero = df_long_nonzero.reset_index().rename(columns={'index': 'position'})\n",
    "    return df_long_nonzero\n",
    "\n",
    "df_long_nonzero = convert_sparse_feature_to_long_df(feature_attribution_df.sae_feature_attributions[sae.cfg.hook_name][0])\n",
    "df_long_nonzero.sort_values(\"attribution\", ascending=False)"
   ]
  },
  {
   "cell_type": "code",
   "execution_count": 72,
   "metadata": {},
   "outputs": [
    {
     "data": {
      "application/vnd.plotly.v1+json": {
       "config": {
        "plotlyServerURL": "https://plot.ly"
       },
       "data": [
        {
         "alignmentgroup": "True",
         "hovertemplate": "x=%{x}<br>y=%{y}<extra></extra>",
         "legendgroup": "",
         "marker": {
          "color": "#636efa",
          "pattern": {
           "shape": ""
          }
         },
         "name": "",
         "offsetgroup": "",
         "orientation": "v",
         "showlegend": false,
         "textposition": "auto",
         "type": "bar",
         "x": [
          "0/<bos>",
          "1/<",
          "2/body",
          "3/>",
          "4/<h1>",
          "5/List",
          "6/ of",
          "7/ My",
          "8/ Brother",
          "9/'",
          "10/s",
          "11/ Favourite",
          "12/ Cities",
          "13/</h1>",
          "14/<",
          "15/ul",
          "16/><",
          "17/li",
          "18/>",
          "19/Bangkok",
          "20/,",
          "21/ Thailand",
          "22/</",
          "23/li",
          "24/><",
          "25/li",
          "26/>",
          "27/London",
          "28/,",
          "29/ England",
          "30/</",
          "31/li",
          "32/><",
          "33/li",
          "34/>",
          "35/Paris",
          "36/,",
          "37/ France",
          "38/</",
          "39/li",
          "40/><",
          "41/li",
          "42/>",
          "43/Melbourne",
          "44/,",
          "45/ Australia",
          "46/</",
          "47/li",
          "48/><",
          "49/li",
          "50/>",
          "51/Toronto",
          "52/,",
          "53/ Canada",
          "54/</",
          "55/li",
          "56/><",
          "57/li",
          "58/>",
          "59/New",
          "60/ York",
          "61/,",
          "62/ USA",
          "63/</",
          "64/li"
         ],
         "xaxis": "x",
         "y": [
          -0.17893702,
          -0.016843947,
          0.0127801355,
          -0.0046982137,
          0.013009471,
          -0.00008626074,
          -0.00097639795,
          0.0009773278,
          0.0020855432,
          0.0015052021,
          0.00012263628,
          -0.00039201826,
          0.0022548288,
          0.004719613,
          -0.048927225,
          0.015441029,
          -0.0412746,
          0.03326773,
          0.004086469,
          0.003521633,
          0.00021840123,
          0.0011838278,
          -0.011319308,
          -0.098116264,
          0.003692911,
          0.004173964,
          0.000028661823,
          -0.00037072127,
          -0.00005643756,
          0.00087386585,
          -0.0011640872,
          0.04963716,
          0.005034997,
          0.0034630403,
          0.00053234876,
          -0.0007884918,
          -0.00026681783,
          0.002629086,
          -0.0019329231,
          0.032674335,
          0.005409756,
          0.0033642903,
          -0.0001257602,
          -0.000085997664,
          -0.00025861454,
          0.0035563486,
          -0.0012652975,
          0.035721153,
          0.010324512,
          0.0031639375,
          0.0011114306,
          -0.00021518645,
          -0.0002571039,
          0.0028641145,
          0.00035569005,
          0.010456771,
          0.024906082,
          0.008661188,
          0.0022133018,
          -0.00035427447,
          0.00034451816,
          -0.000102570906,
          0.0058257566,
          -0.0052475613,
          -0.29985604
         ],
         "yaxis": "y"
        }
       ],
       "layout": {
        "barmode": "relative",
        "legend": {
         "tracegroupgap": 0
        },
        "margin": {
         "t": 60
        },
        "template": {
         "data": {
          "bar": [
           {
            "error_x": {
             "color": "#2a3f5f"
            },
            "error_y": {
             "color": "#2a3f5f"
            },
            "marker": {
             "line": {
              "color": "#E5ECF6",
              "width": 0.5
             },
             "pattern": {
              "fillmode": "overlay",
              "size": 10,
              "solidity": 0.2
             }
            },
            "type": "bar"
           }
          ],
          "barpolar": [
           {
            "marker": {
             "line": {
              "color": "#E5ECF6",
              "width": 0.5
             },
             "pattern": {
              "fillmode": "overlay",
              "size": 10,
              "solidity": 0.2
             }
            },
            "type": "barpolar"
           }
          ],
          "carpet": [
           {
            "aaxis": {
             "endlinecolor": "#2a3f5f",
             "gridcolor": "white",
             "linecolor": "white",
             "minorgridcolor": "white",
             "startlinecolor": "#2a3f5f"
            },
            "baxis": {
             "endlinecolor": "#2a3f5f",
             "gridcolor": "white",
             "linecolor": "white",
             "minorgridcolor": "white",
             "startlinecolor": "#2a3f5f"
            },
            "type": "carpet"
           }
          ],
          "choropleth": [
           {
            "colorbar": {
             "outlinewidth": 0,
             "ticks": ""
            },
            "type": "choropleth"
           }
          ],
          "contour": [
           {
            "colorbar": {
             "outlinewidth": 0,
             "ticks": ""
            },
            "colorscale": [
             [
              0,
              "#0d0887"
             ],
             [
              0.1111111111111111,
              "#46039f"
             ],
             [
              0.2222222222222222,
              "#7201a8"
             ],
             [
              0.3333333333333333,
              "#9c179e"
             ],
             [
              0.4444444444444444,
              "#bd3786"
             ],
             [
              0.5555555555555556,
              "#d8576b"
             ],
             [
              0.6666666666666666,
              "#ed7953"
             ],
             [
              0.7777777777777778,
              "#fb9f3a"
             ],
             [
              0.8888888888888888,
              "#fdca26"
             ],
             [
              1,
              "#f0f921"
             ]
            ],
            "type": "contour"
           }
          ],
          "contourcarpet": [
           {
            "colorbar": {
             "outlinewidth": 0,
             "ticks": ""
            },
            "type": "contourcarpet"
           }
          ],
          "heatmap": [
           {
            "colorbar": {
             "outlinewidth": 0,
             "ticks": ""
            },
            "colorscale": [
             [
              0,
              "#0d0887"
             ],
             [
              0.1111111111111111,
              "#46039f"
             ],
             [
              0.2222222222222222,
              "#7201a8"
             ],
             [
              0.3333333333333333,
              "#9c179e"
             ],
             [
              0.4444444444444444,
              "#bd3786"
             ],
             [
              0.5555555555555556,
              "#d8576b"
             ],
             [
              0.6666666666666666,
              "#ed7953"
             ],
             [
              0.7777777777777778,
              "#fb9f3a"
             ],
             [
              0.8888888888888888,
              "#fdca26"
             ],
             [
              1,
              "#f0f921"
             ]
            ],
            "type": "heatmap"
           }
          ],
          "heatmapgl": [
           {
            "colorbar": {
             "outlinewidth": 0,
             "ticks": ""
            },
            "colorscale": [
             [
              0,
              "#0d0887"
             ],
             [
              0.1111111111111111,
              "#46039f"
             ],
             [
              0.2222222222222222,
              "#7201a8"
             ],
             [
              0.3333333333333333,
              "#9c179e"
             ],
             [
              0.4444444444444444,
              "#bd3786"
             ],
             [
              0.5555555555555556,
              "#d8576b"
             ],
             [
              0.6666666666666666,
              "#ed7953"
             ],
             [
              0.7777777777777778,
              "#fb9f3a"
             ],
             [
              0.8888888888888888,
              "#fdca26"
             ],
             [
              1,
              "#f0f921"
             ]
            ],
            "type": "heatmapgl"
           }
          ],
          "histogram": [
           {
            "marker": {
             "pattern": {
              "fillmode": "overlay",
              "size": 10,
              "solidity": 0.2
             }
            },
            "type": "histogram"
           }
          ],
          "histogram2d": [
           {
            "colorbar": {
             "outlinewidth": 0,
             "ticks": ""
            },
            "colorscale": [
             [
              0,
              "#0d0887"
             ],
             [
              0.1111111111111111,
              "#46039f"
             ],
             [
              0.2222222222222222,
              "#7201a8"
             ],
             [
              0.3333333333333333,
              "#9c179e"
             ],
             [
              0.4444444444444444,
              "#bd3786"
             ],
             [
              0.5555555555555556,
              "#d8576b"
             ],
             [
              0.6666666666666666,
              "#ed7953"
             ],
             [
              0.7777777777777778,
              "#fb9f3a"
             ],
             [
              0.8888888888888888,
              "#fdca26"
             ],
             [
              1,
              "#f0f921"
             ]
            ],
            "type": "histogram2d"
           }
          ],
          "histogram2dcontour": [
           {
            "colorbar": {
             "outlinewidth": 0,
             "ticks": ""
            },
            "colorscale": [
             [
              0,
              "#0d0887"
             ],
             [
              0.1111111111111111,
              "#46039f"
             ],
             [
              0.2222222222222222,
              "#7201a8"
             ],
             [
              0.3333333333333333,
              "#9c179e"
             ],
             [
              0.4444444444444444,
              "#bd3786"
             ],
             [
              0.5555555555555556,
              "#d8576b"
             ],
             [
              0.6666666666666666,
              "#ed7953"
             ],
             [
              0.7777777777777778,
              "#fb9f3a"
             ],
             [
              0.8888888888888888,
              "#fdca26"
             ],
             [
              1,
              "#f0f921"
             ]
            ],
            "type": "histogram2dcontour"
           }
          ],
          "mesh3d": [
           {
            "colorbar": {
             "outlinewidth": 0,
             "ticks": ""
            },
            "type": "mesh3d"
           }
          ],
          "parcoords": [
           {
            "line": {
             "colorbar": {
              "outlinewidth": 0,
              "ticks": ""
             }
            },
            "type": "parcoords"
           }
          ],
          "pie": [
           {
            "automargin": true,
            "type": "pie"
           }
          ],
          "scatter": [
           {
            "fillpattern": {
             "fillmode": "overlay",
             "size": 10,
             "solidity": 0.2
            },
            "type": "scatter"
           }
          ],
          "scatter3d": [
           {
            "line": {
             "colorbar": {
              "outlinewidth": 0,
              "ticks": ""
             }
            },
            "marker": {
             "colorbar": {
              "outlinewidth": 0,
              "ticks": ""
             }
            },
            "type": "scatter3d"
           }
          ],
          "scattercarpet": [
           {
            "marker": {
             "colorbar": {
              "outlinewidth": 0,
              "ticks": ""
             }
            },
            "type": "scattercarpet"
           }
          ],
          "scattergeo": [
           {
            "marker": {
             "colorbar": {
              "outlinewidth": 0,
              "ticks": ""
             }
            },
            "type": "scattergeo"
           }
          ],
          "scattergl": [
           {
            "marker": {
             "colorbar": {
              "outlinewidth": 0,
              "ticks": ""
             }
            },
            "type": "scattergl"
           }
          ],
          "scattermapbox": [
           {
            "marker": {
             "colorbar": {
              "outlinewidth": 0,
              "ticks": ""
             }
            },
            "type": "scattermapbox"
           }
          ],
          "scatterpolar": [
           {
            "marker": {
             "colorbar": {
              "outlinewidth": 0,
              "ticks": ""
             }
            },
            "type": "scatterpolar"
           }
          ],
          "scatterpolargl": [
           {
            "marker": {
             "colorbar": {
              "outlinewidth": 0,
              "ticks": ""
             }
            },
            "type": "scatterpolargl"
           }
          ],
          "scatterternary": [
           {
            "marker": {
             "colorbar": {
              "outlinewidth": 0,
              "ticks": ""
             }
            },
            "type": "scatterternary"
           }
          ],
          "surface": [
           {
            "colorbar": {
             "outlinewidth": 0,
             "ticks": ""
            },
            "colorscale": [
             [
              0,
              "#0d0887"
             ],
             [
              0.1111111111111111,
              "#46039f"
             ],
             [
              0.2222222222222222,
              "#7201a8"
             ],
             [
              0.3333333333333333,
              "#9c179e"
             ],
             [
              0.4444444444444444,
              "#bd3786"
             ],
             [
              0.5555555555555556,
              "#d8576b"
             ],
             [
              0.6666666666666666,
              "#ed7953"
             ],
             [
              0.7777777777777778,
              "#fb9f3a"
             ],
             [
              0.8888888888888888,
              "#fdca26"
             ],
             [
              1,
              "#f0f921"
             ]
            ],
            "type": "surface"
           }
          ],
          "table": [
           {
            "cells": {
             "fill": {
              "color": "#EBF0F8"
             },
             "line": {
              "color": "white"
             }
            },
            "header": {
             "fill": {
              "color": "#C8D4E3"
             },
             "line": {
              "color": "white"
             }
            },
            "type": "table"
           }
          ]
         },
         "layout": {
          "annotationdefaults": {
           "arrowcolor": "#2a3f5f",
           "arrowhead": 0,
           "arrowwidth": 1
          },
          "autotypenumbers": "strict",
          "coloraxis": {
           "colorbar": {
            "outlinewidth": 0,
            "ticks": ""
           }
          },
          "colorscale": {
           "diverging": [
            [
             0,
             "#8e0152"
            ],
            [
             0.1,
             "#c51b7d"
            ],
            [
             0.2,
             "#de77ae"
            ],
            [
             0.3,
             "#f1b6da"
            ],
            [
             0.4,
             "#fde0ef"
            ],
            [
             0.5,
             "#f7f7f7"
            ],
            [
             0.6,
             "#e6f5d0"
            ],
            [
             0.7,
             "#b8e186"
            ],
            [
             0.8,
             "#7fbc41"
            ],
            [
             0.9,
             "#4d9221"
            ],
            [
             1,
             "#276419"
            ]
           ],
           "sequential": [
            [
             0,
             "#0d0887"
            ],
            [
             0.1111111111111111,
             "#46039f"
            ],
            [
             0.2222222222222222,
             "#7201a8"
            ],
            [
             0.3333333333333333,
             "#9c179e"
            ],
            [
             0.4444444444444444,
             "#bd3786"
            ],
            [
             0.5555555555555556,
             "#d8576b"
            ],
            [
             0.6666666666666666,
             "#ed7953"
            ],
            [
             0.7777777777777778,
             "#fb9f3a"
            ],
            [
             0.8888888888888888,
             "#fdca26"
            ],
            [
             1,
             "#f0f921"
            ]
           ],
           "sequentialminus": [
            [
             0,
             "#0d0887"
            ],
            [
             0.1111111111111111,
             "#46039f"
            ],
            [
             0.2222222222222222,
             "#7201a8"
            ],
            [
             0.3333333333333333,
             "#9c179e"
            ],
            [
             0.4444444444444444,
             "#bd3786"
            ],
            [
             0.5555555555555556,
             "#d8576b"
            ],
            [
             0.6666666666666666,
             "#ed7953"
            ],
            [
             0.7777777777777778,
             "#fb9f3a"
            ],
            [
             0.8888888888888888,
             "#fdca26"
            ],
            [
             1,
             "#f0f921"
            ]
           ]
          },
          "colorway": [
           "#636efa",
           "#EF553B",
           "#00cc96",
           "#ab63fa",
           "#FFA15A",
           "#19d3f3",
           "#FF6692",
           "#B6E880",
           "#FF97FF",
           "#FECB52"
          ],
          "font": {
           "color": "#2a3f5f"
          },
          "geo": {
           "bgcolor": "white",
           "lakecolor": "white",
           "landcolor": "#E5ECF6",
           "showlakes": true,
           "showland": true,
           "subunitcolor": "white"
          },
          "hoverlabel": {
           "align": "left"
          },
          "hovermode": "closest",
          "mapbox": {
           "style": "light"
          },
          "paper_bgcolor": "white",
          "plot_bgcolor": "#E5ECF6",
          "polar": {
           "angularaxis": {
            "gridcolor": "white",
            "linecolor": "white",
            "ticks": ""
           },
           "bgcolor": "#E5ECF6",
           "radialaxis": {
            "gridcolor": "white",
            "linecolor": "white",
            "ticks": ""
           }
          },
          "scene": {
           "xaxis": {
            "backgroundcolor": "#E5ECF6",
            "gridcolor": "white",
            "gridwidth": 2,
            "linecolor": "white",
            "showbackground": true,
            "ticks": "",
            "zerolinecolor": "white"
           },
           "yaxis": {
            "backgroundcolor": "#E5ECF6",
            "gridcolor": "white",
            "gridwidth": 2,
            "linecolor": "white",
            "showbackground": true,
            "ticks": "",
            "zerolinecolor": "white"
           },
           "zaxis": {
            "backgroundcolor": "#E5ECF6",
            "gridcolor": "white",
            "gridwidth": 2,
            "linecolor": "white",
            "showbackground": true,
            "ticks": "",
            "zerolinecolor": "white"
           }
          },
          "shapedefaults": {
           "line": {
            "color": "#2a3f5f"
           }
          },
          "ternary": {
           "aaxis": {
            "gridcolor": "white",
            "linecolor": "white",
            "ticks": ""
           },
           "baxis": {
            "gridcolor": "white",
            "linecolor": "white",
            "ticks": ""
           },
           "bgcolor": "#E5ECF6",
           "caxis": {
            "gridcolor": "white",
            "linecolor": "white",
            "ticks": ""
           }
          },
          "title": {
           "x": 0.05
          },
          "xaxis": {
           "automargin": true,
           "gridcolor": "white",
           "linecolor": "white",
           "ticks": "",
           "title": {
            "standoff": 15
           },
           "zerolinecolor": "white",
           "zerolinewidth": 2
          },
          "yaxis": {
           "automargin": true,
           "gridcolor": "white",
           "linecolor": "white",
           "ticks": "",
           "title": {
            "standoff": 15
           },
           "zerolinecolor": "white",
           "zerolinewidth": 2
          }
         }
        },
        "xaxis": {
         "anchor": "y",
         "domain": [
          0,
          1
         ],
         "title": {
          "text": "x"
         }
        },
        "yaxis": {
         "anchor": "x",
         "domain": [
          0,
          1
         ],
         "title": {
          "text": "y"
         }
        }
       }
      },
      "text/html": [
       "<div>                            <div id=\"8efb62f4-941b-4e00-bfda-b8f677a98218\" class=\"plotly-graph-div\" style=\"height:525px; width:100%;\"></div>            <script type=\"text/javascript\">                require([\"plotly\"], function(Plotly) {                    window.PLOTLYENV=window.PLOTLYENV || {};                                    if (document.getElementById(\"8efb62f4-941b-4e00-bfda-b8f677a98218\")) {                    Plotly.newPlot(                        \"8efb62f4-941b-4e00-bfda-b8f677a98218\",                        [{\"alignmentgroup\":\"True\",\"hovertemplate\":\"x=%{x}\\u003cbr\\u003ey=%{y}\\u003cextra\\u003e\\u003c\\u002fextra\\u003e\",\"legendgroup\":\"\",\"marker\":{\"color\":\"#636efa\",\"pattern\":{\"shape\":\"\"}},\"name\":\"\",\"offsetgroup\":\"\",\"orientation\":\"v\",\"showlegend\":false,\"textposition\":\"auto\",\"x\":[\"0\\u002f\\u003cbos\\u003e\",\"1\\u002f\\u003c\",\"2\\u002fbody\",\"3\\u002f\\u003e\",\"4\\u002f\\u003ch1\\u003e\",\"5\\u002fList\",\"6\\u002f of\",\"7\\u002f My\",\"8\\u002f Brother\",\"9\\u002f'\",\"10\\u002fs\",\"11\\u002f Favourite\",\"12\\u002f Cities\",\"13\\u002f\\u003c\\u002fh1\\u003e\",\"14\\u002f\\u003c\",\"15\\u002ful\",\"16\\u002f\\u003e\\u003c\",\"17\\u002fli\",\"18\\u002f\\u003e\",\"19\\u002fBangkok\",\"20\\u002f,\",\"21\\u002f Thailand\",\"22\\u002f\\u003c\\u002f\",\"23\\u002fli\",\"24\\u002f\\u003e\\u003c\",\"25\\u002fli\",\"26\\u002f\\u003e\",\"27\\u002fLondon\",\"28\\u002f,\",\"29\\u002f England\",\"30\\u002f\\u003c\\u002f\",\"31\\u002fli\",\"32\\u002f\\u003e\\u003c\",\"33\\u002fli\",\"34\\u002f\\u003e\",\"35\\u002fParis\",\"36\\u002f,\",\"37\\u002f France\",\"38\\u002f\\u003c\\u002f\",\"39\\u002fli\",\"40\\u002f\\u003e\\u003c\",\"41\\u002fli\",\"42\\u002f\\u003e\",\"43\\u002fMelbourne\",\"44\\u002f,\",\"45\\u002f Australia\",\"46\\u002f\\u003c\\u002f\",\"47\\u002fli\",\"48\\u002f\\u003e\\u003c\",\"49\\u002fli\",\"50\\u002f\\u003e\",\"51\\u002fToronto\",\"52\\u002f,\",\"53\\u002f Canada\",\"54\\u002f\\u003c\\u002f\",\"55\\u002fli\",\"56\\u002f\\u003e\\u003c\",\"57\\u002fli\",\"58\\u002f\\u003e\",\"59\\u002fNew\",\"60\\u002f York\",\"61\\u002f,\",\"62\\u002f USA\",\"63\\u002f\\u003c\\u002f\",\"64\\u002fli\"],\"xaxis\":\"x\",\"y\":[-0.17893702,-0.016843947,0.0127801355,-0.0046982137,0.013009471,-0.00008626074,-0.00097639795,0.0009773278,0.0020855432,0.0015052021,0.00012263628,-0.00039201826,0.0022548288,0.004719613,-0.048927225,0.015441029,-0.0412746,0.03326773,0.004086469,0.003521633,0.00021840123,0.0011838278,-0.011319308,-0.098116264,0.003692911,0.004173964,0.000028661823,-0.00037072127,-0.00005643756,0.00087386585,-0.0011640872,0.04963716,0.005034997,0.0034630403,0.00053234876,-0.0007884918,-0.00026681783,0.002629086,-0.0019329231,0.032674335,0.005409756,0.0033642903,-0.0001257602,-0.000085997664,-0.00025861454,0.0035563486,-0.0012652975,0.035721153,0.010324512,0.0031639375,0.0011114306,-0.00021518645,-0.0002571039,0.0028641145,0.00035569005,0.010456771,0.024906082,0.008661188,0.0022133018,-0.00035427447,0.00034451816,-0.000102570906,0.0058257566,-0.0052475613,-0.29985604],\"yaxis\":\"y\",\"type\":\"bar\"}],                        {\"template\":{\"data\":{\"histogram2dcontour\":[{\"type\":\"histogram2dcontour\",\"colorbar\":{\"outlinewidth\":0,\"ticks\":\"\"},\"colorscale\":[[0.0,\"#0d0887\"],[0.1111111111111111,\"#46039f\"],[0.2222222222222222,\"#7201a8\"],[0.3333333333333333,\"#9c179e\"],[0.4444444444444444,\"#bd3786\"],[0.5555555555555556,\"#d8576b\"],[0.6666666666666666,\"#ed7953\"],[0.7777777777777778,\"#fb9f3a\"],[0.8888888888888888,\"#fdca26\"],[1.0,\"#f0f921\"]]}],\"choropleth\":[{\"type\":\"choropleth\",\"colorbar\":{\"outlinewidth\":0,\"ticks\":\"\"}}],\"histogram2d\":[{\"type\":\"histogram2d\",\"colorbar\":{\"outlinewidth\":0,\"ticks\":\"\"},\"colorscale\":[[0.0,\"#0d0887\"],[0.1111111111111111,\"#46039f\"],[0.2222222222222222,\"#7201a8\"],[0.3333333333333333,\"#9c179e\"],[0.4444444444444444,\"#bd3786\"],[0.5555555555555556,\"#d8576b\"],[0.6666666666666666,\"#ed7953\"],[0.7777777777777778,\"#fb9f3a\"],[0.8888888888888888,\"#fdca26\"],[1.0,\"#f0f921\"]]}],\"heatmap\":[{\"type\":\"heatmap\",\"colorbar\":{\"outlinewidth\":0,\"ticks\":\"\"},\"colorscale\":[[0.0,\"#0d0887\"],[0.1111111111111111,\"#46039f\"],[0.2222222222222222,\"#7201a8\"],[0.3333333333333333,\"#9c179e\"],[0.4444444444444444,\"#bd3786\"],[0.5555555555555556,\"#d8576b\"],[0.6666666666666666,\"#ed7953\"],[0.7777777777777778,\"#fb9f3a\"],[0.8888888888888888,\"#fdca26\"],[1.0,\"#f0f921\"]]}],\"heatmapgl\":[{\"type\":\"heatmapgl\",\"colorbar\":{\"outlinewidth\":0,\"ticks\":\"\"},\"colorscale\":[[0.0,\"#0d0887\"],[0.1111111111111111,\"#46039f\"],[0.2222222222222222,\"#7201a8\"],[0.3333333333333333,\"#9c179e\"],[0.4444444444444444,\"#bd3786\"],[0.5555555555555556,\"#d8576b\"],[0.6666666666666666,\"#ed7953\"],[0.7777777777777778,\"#fb9f3a\"],[0.8888888888888888,\"#fdca26\"],[1.0,\"#f0f921\"]]}],\"contourcarpet\":[{\"type\":\"contourcarpet\",\"colorbar\":{\"outlinewidth\":0,\"ticks\":\"\"}}],\"contour\":[{\"type\":\"contour\",\"colorbar\":{\"outlinewidth\":0,\"ticks\":\"\"},\"colorscale\":[[0.0,\"#0d0887\"],[0.1111111111111111,\"#46039f\"],[0.2222222222222222,\"#7201a8\"],[0.3333333333333333,\"#9c179e\"],[0.4444444444444444,\"#bd3786\"],[0.5555555555555556,\"#d8576b\"],[0.6666666666666666,\"#ed7953\"],[0.7777777777777778,\"#fb9f3a\"],[0.8888888888888888,\"#fdca26\"],[1.0,\"#f0f921\"]]}],\"surface\":[{\"type\":\"surface\",\"colorbar\":{\"outlinewidth\":0,\"ticks\":\"\"},\"colorscale\":[[0.0,\"#0d0887\"],[0.1111111111111111,\"#46039f\"],[0.2222222222222222,\"#7201a8\"],[0.3333333333333333,\"#9c179e\"],[0.4444444444444444,\"#bd3786\"],[0.5555555555555556,\"#d8576b\"],[0.6666666666666666,\"#ed7953\"],[0.7777777777777778,\"#fb9f3a\"],[0.8888888888888888,\"#fdca26\"],[1.0,\"#f0f921\"]]}],\"mesh3d\":[{\"type\":\"mesh3d\",\"colorbar\":{\"outlinewidth\":0,\"ticks\":\"\"}}],\"scatter\":[{\"fillpattern\":{\"fillmode\":\"overlay\",\"size\":10,\"solidity\":0.2},\"type\":\"scatter\"}],\"parcoords\":[{\"type\":\"parcoords\",\"line\":{\"colorbar\":{\"outlinewidth\":0,\"ticks\":\"\"}}}],\"scatterpolargl\":[{\"type\":\"scatterpolargl\",\"marker\":{\"colorbar\":{\"outlinewidth\":0,\"ticks\":\"\"}}}],\"bar\":[{\"error_x\":{\"color\":\"#2a3f5f\"},\"error_y\":{\"color\":\"#2a3f5f\"},\"marker\":{\"line\":{\"color\":\"#E5ECF6\",\"width\":0.5},\"pattern\":{\"fillmode\":\"overlay\",\"size\":10,\"solidity\":0.2}},\"type\":\"bar\"}],\"scattergeo\":[{\"type\":\"scattergeo\",\"marker\":{\"colorbar\":{\"outlinewidth\":0,\"ticks\":\"\"}}}],\"scatterpolar\":[{\"type\":\"scatterpolar\",\"marker\":{\"colorbar\":{\"outlinewidth\":0,\"ticks\":\"\"}}}],\"histogram\":[{\"marker\":{\"pattern\":{\"fillmode\":\"overlay\",\"size\":10,\"solidity\":0.2}},\"type\":\"histogram\"}],\"scattergl\":[{\"type\":\"scattergl\",\"marker\":{\"colorbar\":{\"outlinewidth\":0,\"ticks\":\"\"}}}],\"scatter3d\":[{\"type\":\"scatter3d\",\"line\":{\"colorbar\":{\"outlinewidth\":0,\"ticks\":\"\"}},\"marker\":{\"colorbar\":{\"outlinewidth\":0,\"ticks\":\"\"}}}],\"scattermapbox\":[{\"type\":\"scattermapbox\",\"marker\":{\"colorbar\":{\"outlinewidth\":0,\"ticks\":\"\"}}}],\"scatterternary\":[{\"type\":\"scatterternary\",\"marker\":{\"colorbar\":{\"outlinewidth\":0,\"ticks\":\"\"}}}],\"scattercarpet\":[{\"type\":\"scattercarpet\",\"marker\":{\"colorbar\":{\"outlinewidth\":0,\"ticks\":\"\"}}}],\"carpet\":[{\"aaxis\":{\"endlinecolor\":\"#2a3f5f\",\"gridcolor\":\"white\",\"linecolor\":\"white\",\"minorgridcolor\":\"white\",\"startlinecolor\":\"#2a3f5f\"},\"baxis\":{\"endlinecolor\":\"#2a3f5f\",\"gridcolor\":\"white\",\"linecolor\":\"white\",\"minorgridcolor\":\"white\",\"startlinecolor\":\"#2a3f5f\"},\"type\":\"carpet\"}],\"table\":[{\"cells\":{\"fill\":{\"color\":\"#EBF0F8\"},\"line\":{\"color\":\"white\"}},\"header\":{\"fill\":{\"color\":\"#C8D4E3\"},\"line\":{\"color\":\"white\"}},\"type\":\"table\"}],\"barpolar\":[{\"marker\":{\"line\":{\"color\":\"#E5ECF6\",\"width\":0.5},\"pattern\":{\"fillmode\":\"overlay\",\"size\":10,\"solidity\":0.2}},\"type\":\"barpolar\"}],\"pie\":[{\"automargin\":true,\"type\":\"pie\"}]},\"layout\":{\"autotypenumbers\":\"strict\",\"colorway\":[\"#636efa\",\"#EF553B\",\"#00cc96\",\"#ab63fa\",\"#FFA15A\",\"#19d3f3\",\"#FF6692\",\"#B6E880\",\"#FF97FF\",\"#FECB52\"],\"font\":{\"color\":\"#2a3f5f\"},\"hovermode\":\"closest\",\"hoverlabel\":{\"align\":\"left\"},\"paper_bgcolor\":\"white\",\"plot_bgcolor\":\"#E5ECF6\",\"polar\":{\"bgcolor\":\"#E5ECF6\",\"angularaxis\":{\"gridcolor\":\"white\",\"linecolor\":\"white\",\"ticks\":\"\"},\"radialaxis\":{\"gridcolor\":\"white\",\"linecolor\":\"white\",\"ticks\":\"\"}},\"ternary\":{\"bgcolor\":\"#E5ECF6\",\"aaxis\":{\"gridcolor\":\"white\",\"linecolor\":\"white\",\"ticks\":\"\"},\"baxis\":{\"gridcolor\":\"white\",\"linecolor\":\"white\",\"ticks\":\"\"},\"caxis\":{\"gridcolor\":\"white\",\"linecolor\":\"white\",\"ticks\":\"\"}},\"coloraxis\":{\"colorbar\":{\"outlinewidth\":0,\"ticks\":\"\"}},\"colorscale\":{\"sequential\":[[0.0,\"#0d0887\"],[0.1111111111111111,\"#46039f\"],[0.2222222222222222,\"#7201a8\"],[0.3333333333333333,\"#9c179e\"],[0.4444444444444444,\"#bd3786\"],[0.5555555555555556,\"#d8576b\"],[0.6666666666666666,\"#ed7953\"],[0.7777777777777778,\"#fb9f3a\"],[0.8888888888888888,\"#fdca26\"],[1.0,\"#f0f921\"]],\"sequentialminus\":[[0.0,\"#0d0887\"],[0.1111111111111111,\"#46039f\"],[0.2222222222222222,\"#7201a8\"],[0.3333333333333333,\"#9c179e\"],[0.4444444444444444,\"#bd3786\"],[0.5555555555555556,\"#d8576b\"],[0.6666666666666666,\"#ed7953\"],[0.7777777777777778,\"#fb9f3a\"],[0.8888888888888888,\"#fdca26\"],[1.0,\"#f0f921\"]],\"diverging\":[[0,\"#8e0152\"],[0.1,\"#c51b7d\"],[0.2,\"#de77ae\"],[0.3,\"#f1b6da\"],[0.4,\"#fde0ef\"],[0.5,\"#f7f7f7\"],[0.6,\"#e6f5d0\"],[0.7,\"#b8e186\"],[0.8,\"#7fbc41\"],[0.9,\"#4d9221\"],[1,\"#276419\"]]},\"xaxis\":{\"gridcolor\":\"white\",\"linecolor\":\"white\",\"ticks\":\"\",\"title\":{\"standoff\":15},\"zerolinecolor\":\"white\",\"automargin\":true,\"zerolinewidth\":2},\"yaxis\":{\"gridcolor\":\"white\",\"linecolor\":\"white\",\"ticks\":\"\",\"title\":{\"standoff\":15},\"zerolinecolor\":\"white\",\"automargin\":true,\"zerolinewidth\":2},\"scene\":{\"xaxis\":{\"backgroundcolor\":\"#E5ECF6\",\"gridcolor\":\"white\",\"linecolor\":\"white\",\"showbackground\":true,\"ticks\":\"\",\"zerolinecolor\":\"white\",\"gridwidth\":2},\"yaxis\":{\"backgroundcolor\":\"#E5ECF6\",\"gridcolor\":\"white\",\"linecolor\":\"white\",\"showbackground\":true,\"ticks\":\"\",\"zerolinecolor\":\"white\",\"gridwidth\":2},\"zaxis\":{\"backgroundcolor\":\"#E5ECF6\",\"gridcolor\":\"white\",\"linecolor\":\"white\",\"showbackground\":true,\"ticks\":\"\",\"zerolinecolor\":\"white\",\"gridwidth\":2}},\"shapedefaults\":{\"line\":{\"color\":\"#2a3f5f\"}},\"annotationdefaults\":{\"arrowcolor\":\"#2a3f5f\",\"arrowhead\":0,\"arrowwidth\":1},\"geo\":{\"bgcolor\":\"white\",\"landcolor\":\"#E5ECF6\",\"subunitcolor\":\"white\",\"showland\":true,\"showlakes\":true,\"lakecolor\":\"white\"},\"title\":{\"x\":0.05},\"mapbox\":{\"style\":\"light\"}}},\"xaxis\":{\"anchor\":\"y\",\"domain\":[0.0,1.0],\"title\":{\"text\":\"x\"}},\"yaxis\":{\"anchor\":\"x\",\"domain\":[0.0,1.0],\"title\":{\"text\":\"y\"}},\"legend\":{\"tracegroupgap\":0},\"margin\":{\"t\":60},\"barmode\":\"relative\"},                        {\"responsive\": true}                    ).then(function(){\n",
       "                            \n",
       "var gd = document.getElementById('8efb62f4-941b-4e00-bfda-b8f677a98218');\n",
       "var x = new MutationObserver(function (mutations, observer) {{\n",
       "        var display = window.getComputedStyle(gd).display;\n",
       "        if (!display || display === 'none') {{\n",
       "            console.log([gd, 'removed!']);\n",
       "            Plotly.purge(gd);\n",
       "            observer.disconnect();\n",
       "        }}\n",
       "}});\n",
       "\n",
       "// Listen for the removal of the full notebook cells\n",
       "var notebookContainer = gd.closest('#notebook-container');\n",
       "if (notebookContainer) {{\n",
       "    x.observe(notebookContainer, {childList: true});\n",
       "}}\n",
       "\n",
       "// Listen for the clearing of the current output cell\n",
       "var outputEl = gd.closest('.output');\n",
       "if (outputEl) {{\n",
       "    x.observe(outputEl, {childList: true});\n",
       "}}\n",
       "\n",
       "                        })                };                });            </script>        </div>"
      ]
     },
     "metadata": {},
     "output_type": "display_data"
    }
   ],
   "source": [
    "tokens = model.to_str_tokens(string, prepend_bos=False)[:tok_pos]\n",
    "unique_tokens = [f\"{i}/{t}\" for i, t in enumerate(tokens)]\n",
    "\n",
    "px.bar(x = unique_tokens,\n",
    "       y = feature_attribution_df.sae_feature_attributions[sae.cfg.hook_name][0].sum(-1).detach().cpu().numpy()[:tok_pos])"
   ]
  },
  {
   "cell_type": "markdown",
   "metadata": {},
   "source": [
    "### Get the top features in the last position\n",
    "\n",
    "Promote end of list [ 4411, 13491,  5325,  1777,  6004, 11942,  9369,  1000,  4384,  3855]\n",
    "\n",
    "\n",
    "Promote continuation of list[10529,   152, 12523,  8323,   492, 10548,  5169, 14540,   561,  7368]"
   ]
  },
  {
   "cell_type": "code",
   "execution_count": 85,
   "metadata": {},
   "outputs": [],
   "source": [
    "val, ind = feature_attribution_df.sae_feature_attributions[sae.cfg.hook_name][0,tok_pos-1].topk(k = 10,dim = -1)\n",
    "ind = ind.tolist()"
   ]
  },
  {
   "cell_type": "code",
   "execution_count": 74,
   "metadata": {},
   "outputs": [],
   "source": [
    "from functools import partial\n",
    "\n",
    "def prompt_with_ablation(model, sae, prompt, ablation_features):\n",
    "    \n",
    "    def ablate_feature_hook(feature_activations, hook, feature_ids, position = None):\n",
    "    \n",
    "        if position is None:\n",
    "            feature_activations[:,:,feature_ids] = 0\n",
    "        else:\n",
    "            if type(feature_ids)==list:\n",
    "                for f in feature_ids:\n",
    "                    feature_activations[:,position,f] = 0 \n",
    "            else:    \n",
    "                feature_activations[:,position,feature_ids] = 0 \n",
    "\n",
    "        return feature_activations\n",
    "        \n",
    "    ablation_hook = partial(ablate_feature_hook, feature_ids = ablation_features, position = -1)\n",
    "    \n",
    "    model.add_sae(sae)\n",
    "    hook_point = sae.cfg.hook_name + '.hook_sae_acts_post'\n",
    "    model.add_hook(hook_point, ablation_hook, \"fwd\")\n",
    "    with torch.no_grad():\n",
    "        logits = model(prompt)\n",
    "\n",
    "\n",
    "    \n",
    "    \n",
    "    model.reset_saes()\n",
    "    model.reset_hooks()\n",
    "\n",
    "\n",
    "    return logits[:,-1]"
   ]
  },
  {
   "cell_type": "markdown",
   "metadata": {},
   "source": [
    "## Zero ablation experiment\n",
    "**How do the llogits change when we ablate each one of the features**"
   ]
  },
  {
   "cell_type": "code",
   "execution_count": 81,
   "metadata": {},
   "outputs": [],
   "source": [
    "\n",
    "\n",
    "tokens = model.to_tokens(string,prepend_bos=False)[0][:tok_pos-1]\n",
    "with torch.no_grad():\n",
    "    original_logits = model(tokens)\n",
    "    original_logit_diff = original_logits[0,-1,3119] - original_logits[0,-1,2577]"
   ]
  },
  {
   "cell_type": "code",
   "execution_count": 82,
   "metadata": {},
   "outputs": [
    {
     "name": "stdout",
     "output_type": "stream",
     "text": [
      "tensor(1.4416, device='cuda:0')\n"
     ]
    },
    {
     "data": {
      "text/plain": [
       "'></'"
      ]
     },
     "execution_count": 82,
     "metadata": {},
     "output_type": "execute_result"
    }
   ],
   "source": [
    "print(original_logit_diff)\n",
    "model.to_string(3119)"
   ]
  },
  {
   "cell_type": "code",
   "execution_count": 86,
   "metadata": {},
   "outputs": [
    {
     "name": "stdout",
     "output_type": "stream",
     "text": [
      "[2.0414962768554688, 2.0414962768554688, 2.0414962768554688, 2.0414962768554688, 2.139160633087158, 2.139160633087158, 2.139160633087158, 2.139160633087158, 2.139160633087158]\n"
     ]
    }
   ],
   "source": [
    "all_logit_diff = []\n",
    "#for feat in ind:\n",
    "for i in range(1,len(ind)):\n",
    "    feat = ind[::-1][:i]\n",
    "    logits = prompt_with_ablation(model, sae, tokens,feat)\n",
    "    logit_diff = logits[0,3119] - logits[0,2577]\n",
    "    all_logit_diff.append(logit_diff.cpu().item()) \n",
    "\n",
    "\n",
    "print(all_logit_diff)\n"
   ]
  },
  {
   "cell_type": "markdown",
   "metadata": {},
   "source": [
    "## Large Scale Attribution experiment\n",
    "\n",
    "Given the logit lens plot, we should see what are the most important features\n",
    "\n",
    "\n",
    "\n",
    "\n"
   ]
  }
 ],
 "metadata": {
  "kernelspec": {
   "display_name": "Python 3",
   "language": "python",
   "name": "python3"
  },
  "language_info": {
   "codemirror_mode": {
    "name": "ipython",
    "version": 3
   },
   "file_extension": ".py",
   "mimetype": "text/x-python",
   "name": "python",
   "nbconvert_exporter": "python",
   "pygments_lexer": "ipython3",
   "version": "3.10.13"
  }
 },
 "nbformat": 4,
 "nbformat_minor": 2
}
